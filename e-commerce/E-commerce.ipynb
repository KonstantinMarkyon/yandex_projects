{
 "cells": [
  {
   "cell_type": "markdown",
   "metadata": {},
   "source": [
    "# Проект \"Выявление профилей потребления (E-commerce)\""
   ]
  },
  {
   "cell_type": "markdown",
   "metadata": {},
   "source": [
    "Цель проекта: сегментировать пользователей, чтобы выдвинуть персонализированные предложения."
   ]
  },
  {
   "cell_type": "code",
   "execution_count": 1,
   "metadata": {},
   "outputs": [],
   "source": [
    "import pandas as pd\n",
    "import numpy as np\n",
    "import matplotlib.pyplot as plt\n",
    "import seaborn as sns\n",
    "from scipy import stats as st\n",
    "from collections import Counter\n",
    "\n",
    "from sklearn.model_selection import train_test_split\n",
    "from sklearn.preprocessing import StandardScaler\n",
    "from scipy.cluster.hierarchy import dendrogram, linkage\n",
    "from sklearn.cluster import KMeans\n",
    "\n",
    "import warnings\n",
    "warnings.filterwarnings('ignore')"
   ]
  },
  {
   "cell_type": "code",
   "execution_count": 2,
   "metadata": {},
   "outputs": [],
   "source": [
    "data = pd.read_csv('ecommerce_dataset.csv')"
   ]
  },
  {
   "cell_type": "markdown",
   "metadata": {},
   "source": [
    "## Предобработка данных"
   ]
  },
  {
   "cell_type": "code",
   "execution_count": 3,
   "metadata": {},
   "outputs": [
    {
     "name": "stdout",
     "output_type": "stream",
     "text": [
      "<class 'pandas.core.frame.DataFrame'>\n",
      "RangeIndex: 6737 entries, 0 to 6736\n",
      "Data columns (total 6 columns):\n",
      " #   Column       Non-Null Count  Dtype  \n",
      "---  ------       --------------  -----  \n",
      " 0   date         6737 non-null   int64  \n",
      " 1   customer_id  6737 non-null   object \n",
      " 2   order_id     6737 non-null   int64  \n",
      " 3   product      6737 non-null   object \n",
      " 4   quantity     6737 non-null   int64  \n",
      " 5   price        6737 non-null   float64\n",
      "dtypes: float64(1), int64(3), object(2)\n",
      "memory usage: 315.9+ KB\n"
     ]
    },
    {
     "data": {
      "text/html": [
       "<div>\n",
       "<style scoped>\n",
       "    .dataframe tbody tr th:only-of-type {\n",
       "        vertical-align: middle;\n",
       "    }\n",
       "\n",
       "    .dataframe tbody tr th {\n",
       "        vertical-align: top;\n",
       "    }\n",
       "\n",
       "    .dataframe thead th {\n",
       "        text-align: right;\n",
       "    }\n",
       "</style>\n",
       "<table border=\"1\" class=\"dataframe\">\n",
       "  <thead>\n",
       "    <tr style=\"text-align: right;\">\n",
       "      <th></th>\n",
       "      <th>date</th>\n",
       "      <th>customer_id</th>\n",
       "      <th>order_id</th>\n",
       "      <th>product</th>\n",
       "      <th>quantity</th>\n",
       "      <th>price</th>\n",
       "    </tr>\n",
       "  </thead>\n",
       "  <tbody>\n",
       "    <tr>\n",
       "      <th>0</th>\n",
       "      <td>2018100100</td>\n",
       "      <td>ee47d746-6d2f-4d3c-9622-c31412542920</td>\n",
       "      <td>68477</td>\n",
       "      <td>Комнатное растение в горшке Алое Вера, d12, h30</td>\n",
       "      <td>1</td>\n",
       "      <td>142.0</td>\n",
       "    </tr>\n",
       "    <tr>\n",
       "      <th>1</th>\n",
       "      <td>2018100100</td>\n",
       "      <td>ee47d746-6d2f-4d3c-9622-c31412542920</td>\n",
       "      <td>68477</td>\n",
       "      <td>Комнатное растение в горшке Кофе Арабика, d12,...</td>\n",
       "      <td>1</td>\n",
       "      <td>194.0</td>\n",
       "    </tr>\n",
       "    <tr>\n",
       "      <th>2</th>\n",
       "      <td>2018100100</td>\n",
       "      <td>ee47d746-6d2f-4d3c-9622-c31412542920</td>\n",
       "      <td>68477</td>\n",
       "      <td>Радермахера d-12 см h-20 см</td>\n",
       "      <td>1</td>\n",
       "      <td>112.0</td>\n",
       "    </tr>\n",
       "    <tr>\n",
       "      <th>3</th>\n",
       "      <td>2018100100</td>\n",
       "      <td>ee47d746-6d2f-4d3c-9622-c31412542920</td>\n",
       "      <td>68477</td>\n",
       "      <td>Хризолидокарпус Лутесценс d-9 см</td>\n",
       "      <td>1</td>\n",
       "      <td>179.0</td>\n",
       "    </tr>\n",
       "    <tr>\n",
       "      <th>4</th>\n",
       "      <td>2018100100</td>\n",
       "      <td>ee47d746-6d2f-4d3c-9622-c31412542920</td>\n",
       "      <td>68477</td>\n",
       "      <td>Циперус Зумула d-12 см h-25 см</td>\n",
       "      <td>1</td>\n",
       "      <td>112.0</td>\n",
       "    </tr>\n",
       "  </tbody>\n",
       "</table>\n",
       "</div>"
      ],
      "text/plain": [
       "         date                           customer_id  order_id  \\\n",
       "0  2018100100  ee47d746-6d2f-4d3c-9622-c31412542920     68477   \n",
       "1  2018100100  ee47d746-6d2f-4d3c-9622-c31412542920     68477   \n",
       "2  2018100100  ee47d746-6d2f-4d3c-9622-c31412542920     68477   \n",
       "3  2018100100  ee47d746-6d2f-4d3c-9622-c31412542920     68477   \n",
       "4  2018100100  ee47d746-6d2f-4d3c-9622-c31412542920     68477   \n",
       "\n",
       "                                             product  quantity  price  \n",
       "0    Комнатное растение в горшке Алое Вера, d12, h30         1  142.0  \n",
       "1  Комнатное растение в горшке Кофе Арабика, d12,...         1  194.0  \n",
       "2                        Радермахера d-12 см h-20 см         1  112.0  \n",
       "3                   Хризолидокарпус Лутесценс d-9 см         1  179.0  \n",
       "4                     Циперус Зумула d-12 см h-25 см         1  112.0  "
      ]
     },
     "execution_count": 3,
     "metadata": {},
     "output_type": "execute_result"
    }
   ],
   "source": [
    "data.info()\n",
    "data.head()"
   ]
  },
  {
   "cell_type": "markdown",
   "metadata": {},
   "source": [
    " Изменим типы данных в столбцах *date* и *price*. Создадим столбец *total_price*, в котором будет итоговая стоимость."
   ]
  },
  {
   "cell_type": "code",
   "execution_count": 4,
   "metadata": {},
   "outputs": [],
   "source": [
    "data['date'] = pd.to_datetime(data['date'], format='%Y%m%d%H')\n",
    "data['month'] = data['date'].astype('datetime64[M]')\n",
    "data['month_number'] = data['date'].dt.month\n",
    "data['price'] = data['price'].astype(int)\n",
    "data['total_price'] = data['price'] * data['quantity']"
   ]
  },
  {
   "cell_type": "markdown",
   "metadata": {},
   "source": [
    "Проверим на пропуски."
   ]
  },
  {
   "cell_type": "code",
   "execution_count": 5,
   "metadata": {},
   "outputs": [
    {
     "data": {
      "text/plain": [
       "date            0\n",
       "customer_id     0\n",
       "order_id        0\n",
       "product         0\n",
       "quantity        0\n",
       "price           0\n",
       "month           0\n",
       "month_number    0\n",
       "total_price     0\n",
       "dtype: int64"
      ]
     },
     "execution_count": 5,
     "metadata": {},
     "output_type": "execute_result"
    }
   ],
   "source": [
    "data.isna().sum()"
   ]
  },
  {
   "cell_type": "markdown",
   "metadata": {},
   "source": [
    "Проверим на дубликаты."
   ]
  },
  {
   "cell_type": "code",
   "execution_count": 6,
   "metadata": {},
   "outputs": [
    {
     "data": {
      "text/plain": [
       "0"
      ]
     },
     "execution_count": 6,
     "metadata": {},
     "output_type": "execute_result"
    }
   ],
   "source": [
    "data.duplicated().sum()"
   ]
  },
  {
   "cell_type": "markdown",
   "metadata": {},
   "source": [
    "Открытых дубликатов нет, проверим на скрытые дубликаты:"
   ]
  },
  {
   "cell_type": "code",
   "execution_count": 7,
   "metadata": {},
   "outputs": [
    {
     "data": {
      "text/plain": [
       "1886"
      ]
     },
     "execution_count": 7,
     "metadata": {},
     "output_type": "execute_result"
    }
   ],
   "source": [
    "data.duplicated(subset = ['customer_id','order_id', 'product']).sum()"
   ]
  },
  {
   "cell_type": "markdown",
   "metadata": {},
   "source": [
    "Поскольку оператор БД сказал, что эти дубликаты нужно беспощадно удалить, так и сделаем."
   ]
  },
  {
   "cell_type": "code",
   "execution_count": 8,
   "metadata": {},
   "outputs": [],
   "source": [
    "data = data.drop_duplicates(subset = ['customer_id','order_id', 'product'])"
   ]
  },
  {
   "cell_type": "markdown",
   "metadata": {},
   "source": [
    "Наконец, проверим на пропуски:"
   ]
  },
  {
   "cell_type": "code",
   "execution_count": 9,
   "metadata": {},
   "outputs": [
    {
     "data": {
      "text/plain": [
       "date            0\n",
       "customer_id     0\n",
       "order_id        0\n",
       "product         0\n",
       "quantity        0\n",
       "price           0\n",
       "month           0\n",
       "month_number    0\n",
       "total_price     0\n",
       "dtype: int64"
      ]
     },
     "execution_count": 9,
     "metadata": {},
     "output_type": "execute_result"
    }
   ],
   "source": [
    "data.isna().sum()"
   ]
  },
  {
   "cell_type": "markdown",
   "metadata": {},
   "source": [
    "Пропусков нет. Переходим к следующему шагу."
   ]
  },
  {
   "cell_type": "markdown",
   "metadata": {},
   "source": [
    "## Исследовательский анализ данных"
   ]
  },
  {
   "cell_type": "markdown",
   "metadata": {},
   "source": [
    "Последовательность шагов на этом этапе:\n",
    "- Найти общее количество покупателей, общее количество товаров, среднюю выручку, среднее количество покупаемых товаров, средную сумму заказов;\n",
    "- Построить графики с динамикой продаж и количества покупателей;\n",
    "- Построить графики с суммой продаж и количеством покупателей по месяцам."
   ]
  },
  {
   "cell_type": "markdown",
   "metadata": {},
   "source": [
    "### Найдём общее количество покупателей, общее количество товаров, среднюю выручку, среднее количество покупаемых товаров, средную сумму заказов"
   ]
  },
  {
   "cell_type": "code",
   "execution_count": 10,
   "metadata": {},
   "outputs": [
    {
     "name": "stdout",
     "output_type": "stream",
     "text": [
      "Количество уникальных пользователей: 2451\n",
      "Количество уникальных товаров: 2343\n",
      "Средняя выручка за весь период: 194.0 руб.\n"
     ]
    }
   ],
   "source": [
    "print('Количество уникальных пользователей: {}'.format(data['customer_id'].nunique()))\n",
    "print('Количество уникальных товаров: {}'.format(data['product'].nunique()))\n",
    "print('Средняя выручка за весь период: {} руб.'.format(data['total_price'].median()))"
   ]
  },
  {
   "cell_type": "markdown",
   "metadata": {},
   "source": [
    "Построим \"ящик с усами\" и посмотрим, есть ли выбросы."
   ]
  },
  {
   "cell_type": "code",
   "execution_count": 11,
   "metadata": {},
   "outputs": [
    {
     "data": {
      "image/png": "[encoded data removed]",
      "text/plain": [
       "<Figure size 432x288 with 1 Axes>"
      ]
     },
     "metadata": {
      "needs_background": "light"
     },
     "output_type": "display_data"
    }
   ],
   "source": [
    "sns.boxplot(data=data['price'])\n",
    "plt.show()"
   ]
  },
  {
   "cell_type": "code",
   "execution_count": 12,
   "metadata": {},
   "outputs": [
    {
     "data": {
      "image/png": "[encoded data removed]",
      "text/plain": [
       "<Figure size 432x288 with 1 Axes>"
      ]
     },
     "metadata": {
      "needs_background": "light"
     },
     "output_type": "display_data"
    }
   ],
   "source": [
    "sns.boxplot(data=data['total_price'])\n",
    "plt.show()"
   ]
  },
  {
   "cell_type": "markdown",
   "metadata": {},
   "source": [
    "Есть ощутимые выбросы. Посмотрим, что нам скажут перцентили."
   ]
  },
  {
   "cell_type": "code",
   "execution_count": 13,
   "metadata": {},
   "outputs": [
    {
     "data": {
      "text/plain": [
       "array([  2849. ,   6148.5, 675000. ])"
      ]
     },
     "execution_count": 13,
     "metadata": {},
     "output_type": "execute_result"
    }
   ],
   "source": [
    "np.percentile(data['total_price'], [95, 99, 100])"
   ]
  },
  {
   "cell_type": "markdown",
   "metadata": {},
   "source": [
    "Получается, была аномально большая сумма. Посмотрим на неё поближе:"
   ]
  },
  {
   "cell_type": "code",
   "execution_count": 14,
   "metadata": {},
   "outputs": [
    {
     "data": {
      "text/html": [
       "<div>\n",
       "<style scoped>\n",
       "    .dataframe tbody tr th:only-of-type {\n",
       "        vertical-align: middle;\n",
       "    }\n",
       "\n",
       "    .dataframe tbody tr th {\n",
       "        vertical-align: top;\n",
       "    }\n",
       "\n",
       "    .dataframe thead th {\n",
       "        text-align: right;\n",
       "    }\n",
       "</style>\n",
       "<table border=\"1\" class=\"dataframe\">\n",
       "  <thead>\n",
       "    <tr style=\"text-align: right;\">\n",
       "      <th></th>\n",
       "      <th>date</th>\n",
       "      <th>customer_id</th>\n",
       "      <th>order_id</th>\n",
       "      <th>product</th>\n",
       "      <th>quantity</th>\n",
       "      <th>price</th>\n",
       "      <th>month</th>\n",
       "      <th>month_number</th>\n",
       "      <th>total_price</th>\n",
       "    </tr>\n",
       "  </thead>\n",
       "  <tbody>\n",
       "    <tr>\n",
       "      <th>5456</th>\n",
       "      <td>2019-06-18 15:00:00</td>\n",
       "      <td>312e9a3e-5fca-43ff-a6a1-892d2b2d5ba6</td>\n",
       "      <td>71743</td>\n",
       "      <td>Вантуз с деревянной ручкой d14 см красный, Bur...</td>\n",
       "      <td>1000</td>\n",
       "      <td>675</td>\n",
       "      <td>2019-06-01</td>\n",
       "      <td>6</td>\n",
       "      <td>675000</td>\n",
       "    </tr>\n",
       "  </tbody>\n",
       "</table>\n",
       "</div>"
      ],
      "text/plain": [
       "                    date                           customer_id  order_id  \\\n",
       "5456 2019-06-18 15:00:00  312e9a3e-5fca-43ff-a6a1-892d2b2d5ba6     71743   \n",
       "\n",
       "                                                product  quantity  price  \\\n",
       "5456  Вантуз с деревянной ручкой d14 см красный, Bur...      1000    675   \n",
       "\n",
       "          month  month_number  total_price  \n",
       "5456 2019-06-01             6       675000  "
      ]
     },
     "execution_count": 14,
     "metadata": {},
     "output_type": "execute_result"
    }
   ],
   "source": [
    "data[data['total_price'] == 675000]"
   ]
  },
  {
   "cell_type": "markdown",
   "metadata": {},
   "source": [
    "Очевидно, перед нами оптовик. Создадим новый датасет, в котором отбросим этот выброс."
   ]
  },
  {
   "cell_type": "code",
   "execution_count": 15,
   "metadata": {},
   "outputs": [
    {
     "data": {
      "text/html": [
       "<div>\n",
       "<style scoped>\n",
       "    .dataframe tbody tr th:only-of-type {\n",
       "        vertical-align: middle;\n",
       "    }\n",
       "\n",
       "    .dataframe tbody tr th {\n",
       "        vertical-align: top;\n",
       "    }\n",
       "\n",
       "    .dataframe thead th {\n",
       "        text-align: right;\n",
       "    }\n",
       "</style>\n",
       "<table border=\"1\" class=\"dataframe\">\n",
       "  <thead>\n",
       "    <tr style=\"text-align: right;\">\n",
       "      <th></th>\n",
       "      <th>date</th>\n",
       "      <th>customer_id</th>\n",
       "      <th>order_id</th>\n",
       "      <th>product</th>\n",
       "      <th>quantity</th>\n",
       "      <th>price</th>\n",
       "      <th>month</th>\n",
       "      <th>month_number</th>\n",
       "      <th>total_price</th>\n",
       "    </tr>\n",
       "  </thead>\n",
       "  <tbody>\n",
       "    <tr>\n",
       "      <th>0</th>\n",
       "      <td>2018-10-01 00:00:00</td>\n",
       "      <td>ee47d746-6d2f-4d3c-9622-c31412542920</td>\n",
       "      <td>68477</td>\n",
       "      <td>Комнатное растение в горшке Алое Вера, d12, h30</td>\n",
       "      <td>1</td>\n",
       "      <td>142</td>\n",
       "      <td>2018-10-01</td>\n",
       "      <td>10</td>\n",
       "      <td>142</td>\n",
       "    </tr>\n",
       "    <tr>\n",
       "      <th>1</th>\n",
       "      <td>2018-10-01 00:00:00</td>\n",
       "      <td>ee47d746-6d2f-4d3c-9622-c31412542920</td>\n",
       "      <td>68477</td>\n",
       "      <td>Комнатное растение в горшке Кофе Арабика, d12,...</td>\n",
       "      <td>1</td>\n",
       "      <td>194</td>\n",
       "      <td>2018-10-01</td>\n",
       "      <td>10</td>\n",
       "      <td>194</td>\n",
       "    </tr>\n",
       "    <tr>\n",
       "      <th>2</th>\n",
       "      <td>2018-10-01 00:00:00</td>\n",
       "      <td>ee47d746-6d2f-4d3c-9622-c31412542920</td>\n",
       "      <td>68477</td>\n",
       "      <td>Радермахера d-12 см h-20 см</td>\n",
       "      <td>1</td>\n",
       "      <td>112</td>\n",
       "      <td>2018-10-01</td>\n",
       "      <td>10</td>\n",
       "      <td>112</td>\n",
       "    </tr>\n",
       "    <tr>\n",
       "      <th>3</th>\n",
       "      <td>2018-10-01 00:00:00</td>\n",
       "      <td>ee47d746-6d2f-4d3c-9622-c31412542920</td>\n",
       "      <td>68477</td>\n",
       "      <td>Хризолидокарпус Лутесценс d-9 см</td>\n",
       "      <td>1</td>\n",
       "      <td>179</td>\n",
       "      <td>2018-10-01</td>\n",
       "      <td>10</td>\n",
       "      <td>179</td>\n",
       "    </tr>\n",
       "    <tr>\n",
       "      <th>4</th>\n",
       "      <td>2018-10-01 00:00:00</td>\n",
       "      <td>ee47d746-6d2f-4d3c-9622-c31412542920</td>\n",
       "      <td>68477</td>\n",
       "      <td>Циперус Зумула d-12 см h-25 см</td>\n",
       "      <td>1</td>\n",
       "      <td>112</td>\n",
       "      <td>2018-10-01</td>\n",
       "      <td>10</td>\n",
       "      <td>112</td>\n",
       "    </tr>\n",
       "    <tr>\n",
       "      <th>...</th>\n",
       "      <td>...</td>\n",
       "      <td>...</td>\n",
       "      <td>...</td>\n",
       "      <td>...</td>\n",
       "      <td>...</td>\n",
       "      <td>...</td>\n",
       "      <td>...</td>\n",
       "      <td>...</td>\n",
       "      <td>...</td>\n",
       "    </tr>\n",
       "    <tr>\n",
       "      <th>6731</th>\n",
       "      <td>2019-10-31 11:00:00</td>\n",
       "      <td>f17ed857-178e-45e1-a662-0a9dd3b58c5f</td>\n",
       "      <td>73155</td>\n",
       "      <td>Мимоза стыдливая d-9 см</td>\n",
       "      <td>1</td>\n",
       "      <td>329</td>\n",
       "      <td>2019-10-01</td>\n",
       "      <td>10</td>\n",
       "      <td>329</td>\n",
       "    </tr>\n",
       "    <tr>\n",
       "      <th>6732</th>\n",
       "      <td>2019-10-31 11:00:00</td>\n",
       "      <td>73d1cd35-5e5f-4629-8cf2-3fda829d4e58</td>\n",
       "      <td>73156</td>\n",
       "      <td>Таз пластмассовый 40,0 л пищевой овальный (Иж)...</td>\n",
       "      <td>1</td>\n",
       "      <td>404</td>\n",
       "      <td>2019-10-01</td>\n",
       "      <td>10</td>\n",
       "      <td>404</td>\n",
       "    </tr>\n",
       "    <tr>\n",
       "      <th>6733</th>\n",
       "      <td>2019-10-31 12:00:00</td>\n",
       "      <td>1f0a7f35-7459-4f23-b468-5e45bf481dd1</td>\n",
       "      <td>73158</td>\n",
       "      <td>Сумка-тележка 2-х колесная Gimi Argo синяя</td>\n",
       "      <td>1</td>\n",
       "      <td>1087</td>\n",
       "      <td>2019-10-01</td>\n",
       "      <td>10</td>\n",
       "      <td>1087</td>\n",
       "    </tr>\n",
       "    <tr>\n",
       "      <th>6734</th>\n",
       "      <td>2019-10-31 13:00:00</td>\n",
       "      <td>25df96a7-c453-4708-9cea-a3dfc7c342ea</td>\n",
       "      <td>73162</td>\n",
       "      <td>Герань домашняя (пеларгония зональная) цветуща...</td>\n",
       "      <td>1</td>\n",
       "      <td>157</td>\n",
       "      <td>2019-10-01</td>\n",
       "      <td>10</td>\n",
       "      <td>157</td>\n",
       "    </tr>\n",
       "    <tr>\n",
       "      <th>6735</th>\n",
       "      <td>2019-10-31 14:00:00</td>\n",
       "      <td>73d1cd35-5e5f-4629-8cf2-3fda829d4e58</td>\n",
       "      <td>73164</td>\n",
       "      <td>Таз пластмассовый со стиральной доской (Иж), 1...</td>\n",
       "      <td>1</td>\n",
       "      <td>397</td>\n",
       "      <td>2019-10-01</td>\n",
       "      <td>10</td>\n",
       "      <td>397</td>\n",
       "    </tr>\n",
       "  </tbody>\n",
       "</table>\n",
       "<p>4788 rows × 9 columns</p>\n",
       "</div>"
      ],
      "text/plain": [
       "                    date                           customer_id  order_id  \\\n",
       "0    2018-10-01 00:00:00  ee47d746-6d2f-4d3c-9622-c31412542920     68477   \n",
       "1    2018-10-01 00:00:00  ee47d746-6d2f-4d3c-9622-c31412542920     68477   \n",
       "2    2018-10-01 00:00:00  ee47d746-6d2f-4d3c-9622-c31412542920     68477   \n",
       "3    2018-10-01 00:00:00  ee47d746-6d2f-4d3c-9622-c31412542920     68477   \n",
       "4    2018-10-01 00:00:00  ee47d746-6d2f-4d3c-9622-c31412542920     68477   \n",
       "...                  ...                                   ...       ...   \n",
       "6731 2019-10-31 11:00:00  f17ed857-178e-45e1-a662-0a9dd3b58c5f     73155   \n",
       "6732 2019-10-31 11:00:00  73d1cd35-5e5f-4629-8cf2-3fda829d4e58     73156   \n",
       "6733 2019-10-31 12:00:00  1f0a7f35-7459-4f23-b468-5e45bf481dd1     73158   \n",
       "6734 2019-10-31 13:00:00  25df96a7-c453-4708-9cea-a3dfc7c342ea     73162   \n",
       "6735 2019-10-31 14:00:00  73d1cd35-5e5f-4629-8cf2-3fda829d4e58     73164   \n",
       "\n",
       "                                                product  quantity  price  \\\n",
       "0       Комнатное растение в горшке Алое Вера, d12, h30         1    142   \n",
       "1     Комнатное растение в горшке Кофе Арабика, d12,...         1    194   \n",
       "2                           Радермахера d-12 см h-20 см         1    112   \n",
       "3                      Хризолидокарпус Лутесценс d-9 см         1    179   \n",
       "4                        Циперус Зумула d-12 см h-25 см         1    112   \n",
       "...                                                 ...       ...    ...   \n",
       "6731                            Мимоза стыдливая d-9 см         1    329   \n",
       "6732  Таз пластмассовый 40,0 л пищевой овальный (Иж)...         1    404   \n",
       "6733         Сумка-тележка 2-х колесная Gimi Argo синяя         1   1087   \n",
       "6734  Герань домашняя (пеларгония зональная) цветуща...         1    157   \n",
       "6735  Таз пластмассовый со стиральной доской (Иж), 1...         1    397   \n",
       "\n",
       "          month  month_number  total_price  \n",
       "0    2018-10-01            10          142  \n",
       "1    2018-10-01            10          194  \n",
       "2    2018-10-01            10          112  \n",
       "3    2018-10-01            10          179  \n",
       "4    2018-10-01            10          112  \n",
       "...         ...           ...          ...  \n",
       "6731 2019-10-01            10          329  \n",
       "6732 2019-10-01            10          404  \n",
       "6733 2019-10-01            10         1087  \n",
       "6734 2019-10-01            10          157  \n",
       "6735 2019-10-01            10          397  \n",
       "\n",
       "[4788 rows x 9 columns]"
      ]
     },
     "execution_count": 15,
     "metadata": {},
     "output_type": "execute_result"
    }
   ],
   "source": [
    "data_new = data.query('total_price <=5594')\n",
    "data_new"
   ]
  },
  {
   "cell_type": "markdown",
   "metadata": {},
   "source": [
    "### Построим графики с динамикой продаж и количества покупателей"
   ]
  },
  {
   "cell_type": "markdown",
   "metadata": {},
   "source": [
    "Создадим сгруппированную таблицу по числу уникальных пользователей и суммарной выручке."
   ]
  },
  {
   "cell_type": "code",
   "execution_count": 16,
   "metadata": {},
   "outputs": [
    {
     "data": {
      "text/html": [
       "<div>\n",
       "<style scoped>\n",
       "    .dataframe tbody tr th:only-of-type {\n",
       "        vertical-align: middle;\n",
       "    }\n",
       "\n",
       "    .dataframe tbody tr th {\n",
       "        vertical-align: top;\n",
       "    }\n",
       "\n",
       "    .dataframe thead th {\n",
       "        text-align: right;\n",
       "    }\n",
       "</style>\n",
       "<table border=\"1\" class=\"dataframe\">\n",
       "  <thead>\n",
       "    <tr style=\"text-align: right;\">\n",
       "      <th></th>\n",
       "      <th>month</th>\n",
       "      <th>month_number</th>\n",
       "      <th>customer_id</th>\n",
       "      <th>order_id</th>\n",
       "      <th>total_price</th>\n",
       "    </tr>\n",
       "  </thead>\n",
       "  <tbody>\n",
       "    <tr>\n",
       "      <th>0</th>\n",
       "      <td>2018-10-01</td>\n",
       "      <td>10</td>\n",
       "      <td>181</td>\n",
       "      <td>239</td>\n",
       "      <td>351910</td>\n",
       "    </tr>\n",
       "    <tr>\n",
       "      <th>1</th>\n",
       "      <td>2018-11-01</td>\n",
       "      <td>11</td>\n",
       "      <td>178</td>\n",
       "      <td>204</td>\n",
       "      <td>359348</td>\n",
       "    </tr>\n",
       "    <tr>\n",
       "      <th>2</th>\n",
       "      <td>2018-12-01</td>\n",
       "      <td>12</td>\n",
       "      <td>238</td>\n",
       "      <td>284</td>\n",
       "      <td>356516</td>\n",
       "    </tr>\n",
       "    <tr>\n",
       "      <th>3</th>\n",
       "      <td>2019-01-01</td>\n",
       "      <td>1</td>\n",
       "      <td>152</td>\n",
       "      <td>167</td>\n",
       "      <td>235432</td>\n",
       "    </tr>\n",
       "    <tr>\n",
       "      <th>4</th>\n",
       "      <td>2019-02-01</td>\n",
       "      <td>2</td>\n",
       "      <td>247</td>\n",
       "      <td>288</td>\n",
       "      <td>307996</td>\n",
       "    </tr>\n",
       "    <tr>\n",
       "      <th>5</th>\n",
       "      <td>2019-03-01</td>\n",
       "      <td>3</td>\n",
       "      <td>236</td>\n",
       "      <td>247</td>\n",
       "      <td>253589</td>\n",
       "    </tr>\n",
       "    <tr>\n",
       "      <th>6</th>\n",
       "      <td>2019-04-01</td>\n",
       "      <td>4</td>\n",
       "      <td>239</td>\n",
       "      <td>267</td>\n",
       "      <td>318171</td>\n",
       "    </tr>\n",
       "    <tr>\n",
       "      <th>7</th>\n",
       "      <td>2019-05-01</td>\n",
       "      <td>5</td>\n",
       "      <td>172</td>\n",
       "      <td>183</td>\n",
       "      <td>237955</td>\n",
       "    </tr>\n",
       "    <tr>\n",
       "      <th>8</th>\n",
       "      <td>2019-06-01</td>\n",
       "      <td>6</td>\n",
       "      <td>155</td>\n",
       "      <td>162</td>\n",
       "      <td>903210</td>\n",
       "    </tr>\n",
       "    <tr>\n",
       "      <th>9</th>\n",
       "      <td>2019-07-01</td>\n",
       "      <td>7</td>\n",
       "      <td>186</td>\n",
       "      <td>198</td>\n",
       "      <td>234932</td>\n",
       "    </tr>\n",
       "    <tr>\n",
       "      <th>10</th>\n",
       "      <td>2019-08-01</td>\n",
       "      <td>8</td>\n",
       "      <td>166</td>\n",
       "      <td>174</td>\n",
       "      <td>172443</td>\n",
       "    </tr>\n",
       "    <tr>\n",
       "      <th>11</th>\n",
       "      <td>2019-09-01</td>\n",
       "      <td>9</td>\n",
       "      <td>175</td>\n",
       "      <td>182</td>\n",
       "      <td>181082</td>\n",
       "    </tr>\n",
       "    <tr>\n",
       "      <th>12</th>\n",
       "      <td>2019-10-01</td>\n",
       "      <td>10</td>\n",
       "      <td>174</td>\n",
       "      <td>199</td>\n",
       "      <td>218027</td>\n",
       "    </tr>\n",
       "  </tbody>\n",
       "</table>\n",
       "</div>"
      ],
      "text/plain": [
       "        month  month_number  customer_id  order_id  total_price\n",
       "0  2018-10-01            10          181       239       351910\n",
       "1  2018-11-01            11          178       204       359348\n",
       "2  2018-12-01            12          238       284       356516\n",
       "3  2019-01-01             1          152       167       235432\n",
       "4  2019-02-01             2          247       288       307996\n",
       "5  2019-03-01             3          236       247       253589\n",
       "6  2019-04-01             4          239       267       318171\n",
       "7  2019-05-01             5          172       183       237955\n",
       "8  2019-06-01             6          155       162       903210\n",
       "9  2019-07-01             7          186       198       234932\n",
       "10 2019-08-01             8          166       174       172443\n",
       "11 2019-09-01             9          175       182       181082\n",
       "12 2019-10-01            10          174       199       218027"
      ]
     },
     "execution_count": 16,
     "metadata": {},
     "output_type": "execute_result"
    }
   ],
   "source": [
    "grouped_by_date = data.groupby(['month', 'month_number']).agg({'customer_id':'nunique', 'order_id': 'nunique',\n",
    "                                                               'total_price':'sum'}).reset_index()\n",
    "grouped_by_date"
   ]
  },
  {
   "cell_type": "code",
   "execution_count": 17,
   "metadata": {},
   "outputs": [
    {
     "data": {
      "text/html": [
       "<div>\n",
       "<style scoped>\n",
       "    .dataframe tbody tr th:only-of-type {\n",
       "        vertical-align: middle;\n",
       "    }\n",
       "\n",
       "    .dataframe tbody tr th {\n",
       "        vertical-align: top;\n",
       "    }\n",
       "\n",
       "    .dataframe thead th {\n",
       "        text-align: right;\n",
       "    }\n",
       "</style>\n",
       "<table border=\"1\" class=\"dataframe\">\n",
       "  <thead>\n",
       "    <tr style=\"text-align: right;\">\n",
       "      <th></th>\n",
       "      <th>month_number</th>\n",
       "      <th>order_id</th>\n",
       "    </tr>\n",
       "  </thead>\n",
       "  <tbody>\n",
       "    <tr>\n",
       "      <th>0</th>\n",
       "      <td>1</td>\n",
       "      <td>167</td>\n",
       "    </tr>\n",
       "    <tr>\n",
       "      <th>1</th>\n",
       "      <td>2</td>\n",
       "      <td>288</td>\n",
       "    </tr>\n",
       "    <tr>\n",
       "      <th>2</th>\n",
       "      <td>3</td>\n",
       "      <td>247</td>\n",
       "    </tr>\n",
       "    <tr>\n",
       "      <th>3</th>\n",
       "      <td>4</td>\n",
       "      <td>267</td>\n",
       "    </tr>\n",
       "    <tr>\n",
       "      <th>4</th>\n",
       "      <td>5</td>\n",
       "      <td>183</td>\n",
       "    </tr>\n",
       "    <tr>\n",
       "      <th>5</th>\n",
       "      <td>6</td>\n",
       "      <td>162</td>\n",
       "    </tr>\n",
       "    <tr>\n",
       "      <th>6</th>\n",
       "      <td>7</td>\n",
       "      <td>198</td>\n",
       "    </tr>\n",
       "    <tr>\n",
       "      <th>7</th>\n",
       "      <td>8</td>\n",
       "      <td>174</td>\n",
       "    </tr>\n",
       "    <tr>\n",
       "      <th>8</th>\n",
       "      <td>9</td>\n",
       "      <td>182</td>\n",
       "    </tr>\n",
       "    <tr>\n",
       "      <th>9</th>\n",
       "      <td>10</td>\n",
       "      <td>438</td>\n",
       "    </tr>\n",
       "    <tr>\n",
       "      <th>10</th>\n",
       "      <td>11</td>\n",
       "      <td>204</td>\n",
       "    </tr>\n",
       "    <tr>\n",
       "      <th>11</th>\n",
       "      <td>12</td>\n",
       "      <td>284</td>\n",
       "    </tr>\n",
       "  </tbody>\n",
       "</table>\n",
       "</div>"
      ],
      "text/plain": [
       "    month_number  order_id\n",
       "0              1       167\n",
       "1              2       288\n",
       "2              3       247\n",
       "3              4       267\n",
       "4              5       183\n",
       "5              6       162\n",
       "6              7       198\n",
       "7              8       174\n",
       "8              9       182\n",
       "9             10       438\n",
       "10            11       204\n",
       "11            12       284"
      ]
     },
     "execution_count": 17,
     "metadata": {},
     "output_type": "execute_result"
    }
   ],
   "source": [
    "data.groupby('month_number')['order_id'].nunique().reset_index()"
   ]
  },
  {
   "cell_type": "code",
   "execution_count": 18,
   "metadata": {},
   "outputs": [
    {
     "data": {
      "image/png": "[encoded data removed]",
      "text/plain": [
       "<Figure size 1440x720 with 1 Axes>"
      ]
     },
     "metadata": {
      "needs_background": "light"
     },
     "output_type": "display_data"
    }
   ],
   "source": [
    "plt.figure(figsize=(20, 10))\n",
    "plt.plot(grouped_by_date['month'], grouped_by_date['total_price'])\n",
    "plt.title('Динамика продаж')\n",
    "plt.xlabel('Дата')\n",
    "plt.ylabel('Выручка')\n",
    "plt.grid()\n",
    "plt.show()"
   ]
  },
  {
   "cell_type": "code",
   "execution_count": 19,
   "metadata": {},
   "outputs": [
    {
     "data": {
      "image/png": "[encoded data removed]",
      "text/plain": [
       "<Figure size 1440x720 with 1 Axes>"
      ]
     },
     "metadata": {
      "needs_background": "light"
     },
     "output_type": "display_data"
    }
   ],
   "source": [
    "plt.figure(figsize=(20, 10))\n",
    "plt.plot(grouped_by_date['month'], grouped_by_date['customer_id'])\n",
    "plt.title('Количество покупателей')\n",
    "plt.xlabel('Дата')\n",
    "plt.ylabel('Число покупателей')\n",
    "plt.grid()\n",
    "plt.show()"
   ]
  },
  {
   "cell_type": "markdown",
   "metadata": {},
   "source": [
    "Первое, что бросается в глаза: резкий рост выручки в июне 2019 года. Примечательно, что в том же месяце наблюдается спад количества покупателей. Однозначно перед нами выброс. \n",
    "\n",
    "Также мы наблюдаем спад и количества покупателей, и выручки в январе - это легко объясняется посленовогодним периодом, для которого характерно затишье. \n",
    "\n",
    "Хотя мы видим резкий рост числа покупателей в феврале, на выручке это отражается слабо. Вероятно, имело место больше количество покупок с низким прайсом - отсюда и небольшая суммарная выручка.\n",
    "\n",
    "Других особенностей графики не показывают."
   ]
  },
  {
   "cell_type": "markdown",
   "metadata": {},
   "source": [
    "### Построим графики с суммой продаж и количеством покупателей по месяцам"
   ]
  },
  {
   "cell_type": "code",
   "execution_count": 20,
   "metadata": {},
   "outputs": [
    {
     "data": {
      "image/png": "[encoded data removed]",
      "text/plain": [
       "<Figure size 1440x720 with 1 Axes>"
      ]
     },
     "metadata": {
      "needs_background": "light"
     },
     "output_type": "display_data"
    }
   ],
   "source": [
    "plt.figure(figsize=(20,10))\n",
    "sns.barplot(data=grouped_by_date, x='month_number', y='total_price')\n",
    "plt.title('Количество выручки по месяцам')\n",
    "plt.xlabel('Месяц')\n",
    "plt.ylabel('Выручка')\n",
    "plt.show()"
   ]
  },
  {
   "cell_type": "code",
   "execution_count": 21,
   "metadata": {},
   "outputs": [
    {
     "data": {
      "image/png": "[encoded data removed]",
      "text/plain": [
       "<Figure size 1440x720 with 1 Axes>"
      ]
     },
     "metadata": {
      "needs_background": "light"
     },
     "output_type": "display_data"
    }
   ],
   "source": [
    "plt.figure(figsize=(20,10))\n",
    "sns.barplot(data=data.groupby('month_number')['order_id'].nunique().reset_index(), x='month_number', y='order_id')\n",
    "plt.title('Количество покупателей по месяцам')\n",
    "plt.xlabel('Месяц')\n",
    "plt.ylabel('Число покупателей')\n",
    "plt.show()"
   ]
  },
  {
   "cell_type": "markdown",
   "metadata": {},
   "source": [
    "Первый график показывает ощутимый рост выручки в июне - это тот самый ранее обнаруженный выброс. Если его не учитывать, то ощутимой разницы по месяца мы не увидим. Это говорит об отсутствии сезонности (по крайней мере, на данном этапе исследования).\n",
    "\n",
    "Второй график показывает ощутимый рост числа покупателей в октябре. Однако в действительности это иллюзия - если взглянуть на данные, то обнаруживается, что октябрь встречается дважды: в 2018 и 2019 годах."
   ]
  },
  {
   "cell_type": "markdown",
   "metadata": {},
   "source": [
    "## Категоризация товаров"
   ]
  },
  {
   "cell_type": "markdown",
   "metadata": {},
   "source": [
    "Категоризацию осуществим в несколько этапов. Создадим столбец *product_first*, в который поместим первое слово в каждой строке столбца *product*. Затем методом *Counter* найдём топ-200 наиболее часто встречающихся слов в столбцах *product* и *product_first* и на их основе создадим словари с основными категориями, после чего создадим отдельный столбец, в котором каждой строке будет присвоена своя категория."
   ]
  },
  {
   "cell_type": "markdown",
   "metadata": {},
   "source": [
    "Создадим столбец *product_first* посредством функции first_word."
   ]
  },
  {
   "cell_type": "code",
   "execution_count": 22,
   "metadata": {},
   "outputs": [
    {
     "data": {
      "text/html": [
       "<div>\n",
       "<style scoped>\n",
       "    .dataframe tbody tr th:only-of-type {\n",
       "        vertical-align: middle;\n",
       "    }\n",
       "\n",
       "    .dataframe tbody tr th {\n",
       "        vertical-align: top;\n",
       "    }\n",
       "\n",
       "    .dataframe thead th {\n",
       "        text-align: right;\n",
       "    }\n",
       "</style>\n",
       "<table border=\"1\" class=\"dataframe\">\n",
       "  <thead>\n",
       "    <tr style=\"text-align: right;\">\n",
       "      <th></th>\n",
       "      <th>date</th>\n",
       "      <th>customer_id</th>\n",
       "      <th>order_id</th>\n",
       "      <th>product</th>\n",
       "      <th>quantity</th>\n",
       "      <th>price</th>\n",
       "      <th>month</th>\n",
       "      <th>month_number</th>\n",
       "      <th>total_price</th>\n",
       "      <th>product_first</th>\n",
       "    </tr>\n",
       "  </thead>\n",
       "  <tbody>\n",
       "    <tr>\n",
       "      <th>0</th>\n",
       "      <td>2018-10-01</td>\n",
       "      <td>ee47d746-6d2f-4d3c-9622-c31412542920</td>\n",
       "      <td>68477</td>\n",
       "      <td>Комнатное растение в горшке Алое Вера, d12, h30</td>\n",
       "      <td>1</td>\n",
       "      <td>142</td>\n",
       "      <td>2018-10-01</td>\n",
       "      <td>10</td>\n",
       "      <td>142</td>\n",
       "      <td>Комнатное</td>\n",
       "    </tr>\n",
       "    <tr>\n",
       "      <th>1</th>\n",
       "      <td>2018-10-01</td>\n",
       "      <td>ee47d746-6d2f-4d3c-9622-c31412542920</td>\n",
       "      <td>68477</td>\n",
       "      <td>Комнатное растение в горшке Кофе Арабика, d12,...</td>\n",
       "      <td>1</td>\n",
       "      <td>194</td>\n",
       "      <td>2018-10-01</td>\n",
       "      <td>10</td>\n",
       "      <td>194</td>\n",
       "      <td>Комнатное</td>\n",
       "    </tr>\n",
       "    <tr>\n",
       "      <th>2</th>\n",
       "      <td>2018-10-01</td>\n",
       "      <td>ee47d746-6d2f-4d3c-9622-c31412542920</td>\n",
       "      <td>68477</td>\n",
       "      <td>Радермахера d-12 см h-20 см</td>\n",
       "      <td>1</td>\n",
       "      <td>112</td>\n",
       "      <td>2018-10-01</td>\n",
       "      <td>10</td>\n",
       "      <td>112</td>\n",
       "      <td>Радермахера</td>\n",
       "    </tr>\n",
       "    <tr>\n",
       "      <th>3</th>\n",
       "      <td>2018-10-01</td>\n",
       "      <td>ee47d746-6d2f-4d3c-9622-c31412542920</td>\n",
       "      <td>68477</td>\n",
       "      <td>Хризолидокарпус Лутесценс d-9 см</td>\n",
       "      <td>1</td>\n",
       "      <td>179</td>\n",
       "      <td>2018-10-01</td>\n",
       "      <td>10</td>\n",
       "      <td>179</td>\n",
       "      <td>Хризолидокарпус</td>\n",
       "    </tr>\n",
       "    <tr>\n",
       "      <th>4</th>\n",
       "      <td>2018-10-01</td>\n",
       "      <td>ee47d746-6d2f-4d3c-9622-c31412542920</td>\n",
       "      <td>68477</td>\n",
       "      <td>Циперус Зумула d-12 см h-25 см</td>\n",
       "      <td>1</td>\n",
       "      <td>112</td>\n",
       "      <td>2018-10-01</td>\n",
       "      <td>10</td>\n",
       "      <td>112</td>\n",
       "      <td>Циперус</td>\n",
       "    </tr>\n",
       "  </tbody>\n",
       "</table>\n",
       "</div>"
      ],
      "text/plain": [
       "        date                           customer_id  order_id  \\\n",
       "0 2018-10-01  ee47d746-6d2f-4d3c-9622-c31412542920     68477   \n",
       "1 2018-10-01  ee47d746-6d2f-4d3c-9622-c31412542920     68477   \n",
       "2 2018-10-01  ee47d746-6d2f-4d3c-9622-c31412542920     68477   \n",
       "3 2018-10-01  ee47d746-6d2f-4d3c-9622-c31412542920     68477   \n",
       "4 2018-10-01  ee47d746-6d2f-4d3c-9622-c31412542920     68477   \n",
       "\n",
       "                                             product  quantity  price  \\\n",
       "0    Комнатное растение в горшке Алое Вера, d12, h30         1    142   \n",
       "1  Комнатное растение в горшке Кофе Арабика, d12,...         1    194   \n",
       "2                        Радермахера d-12 см h-20 см         1    112   \n",
       "3                   Хризолидокарпус Лутесценс d-9 см         1    179   \n",
       "4                     Циперус Зумула d-12 см h-25 см         1    112   \n",
       "\n",
       "       month  month_number  total_price    product_first  \n",
       "0 2018-10-01            10          142        Комнатное  \n",
       "1 2018-10-01            10          194        Комнатное  \n",
       "2 2018-10-01            10          112      Радермахера  \n",
       "3 2018-10-01            10          179  Хризолидокарпус  \n",
       "4 2018-10-01            10          112          Циперус  "
      ]
     },
     "execution_count": 22,
     "metadata": {},
     "output_type": "execute_result"
    }
   ],
   "source": [
    "def first_word(word):\n",
    "    w = word.split()\n",
    "    return w[0]\n",
    "data_new['product_first'] = data_new['product'].apply(first_word)\n",
    "data_new.head()"
   ]
  },
  {
   "cell_type": "markdown",
   "metadata": {},
   "source": [
    "Теперь применим *Counter*."
   ]
  },
  {
   "cell_type": "code",
   "execution_count": 23,
   "metadata": {
    "scrolled": false
   },
   "outputs": [
    {
     "data": {
      "text/plain": [
       "[('см', 1962),\n",
       " ('для', 1006),\n",
       " ('пеларгония', 716),\n",
       " ('рассада', 596),\n",
       " ('в', 553),\n",
       " ('л', 473),\n",
       " ('диам.', 448),\n",
       " ('с', 383),\n",
       " ('зональная', 377),\n",
       " ('сорт', 359),\n",
       " ('укорененный', 339),\n",
       " ('черенок', 339),\n",
       " ('12', 329),\n",
       " ('махровая', 326),\n",
       " ('белья', 313),\n",
       " ('объем', 296),\n",
       " ('сушилка', 280),\n",
       " ('шт', 277),\n",
       " ('по', 260),\n",
       " ('розебудная', 249),\n",
       " ('кассете', 245),\n",
       " ('gimi', 233),\n",
       " ('0,5', 232),\n",
       " ('кухни', 225),\n",
       " ('зелени', 220),\n",
       " ('сумка-тележка', 213),\n",
       " ('6', 179),\n",
       " ('петуния', 176),\n",
       " ('9', 174),\n",
       " ('россия', 174),\n",
       " ('муляж', 173),\n",
       " ('горшке', 171),\n",
       " ('томата', 162),\n",
       " ('(помидор)', 162),\n",
       " ('ника', 158),\n",
       " ('кассета', 157),\n",
       " ('кг', 153),\n",
       " ('и', 150),\n",
       " ('цветов', 147),\n",
       " ('м', 145),\n",
       " ('4', 141),\n",
       " ('см,', 137),\n",
       " ('белая', 134),\n",
       " ('полумахровая', 133),\n",
       " ('d-7', 133),\n",
       " ('однолетних', 123),\n",
       " ('доска', 119),\n",
       " ('d12,', 117),\n",
       " ('гладильная', 117),\n",
       " ('среднеспелый', 115),\n",
       " ('синяя', 114),\n",
       " ('хозяйственная', 114),\n",
       " ('10', 111),\n",
       " ('герань', 110),\n",
       " ('домашняя', 110),\n",
       " ('(пеларгония', 110),\n",
       " ('зональная)', 110),\n",
       " ('цветущая', 110),\n",
       " ('h25-30,', 110),\n",
       " ('из', 108),\n",
       " ('колесная', 106),\n",
       " ('коврик', 105),\n",
       " ('чехол', 104),\n",
       " ('ванной', 104),\n",
       " ('простая', 102),\n",
       " ('потолочная', 101),\n",
       " ('red', 100),\n",
       " ('тележка', 97),\n",
       " ('d-12', 96),\n",
       " ('25', 96),\n",
       " ('растение', 95),\n",
       " ('2-х', 95),\n",
       " ('красная', 95),\n",
       " ('delta', 94),\n",
       " ('50', 92),\n",
       " ('лиана', 92),\n",
       " ('шт,', 91),\n",
       " ('доски', 88),\n",
       " ('полиуретан', 88),\n",
       " ('искусственный', 88),\n",
       " ('розовая', 88),\n",
       " ('красный', 86),\n",
       " ('цветок', 86),\n",
       " ('багажная', 86),\n",
       " ('грузоподъемность', 86),\n",
       " ('горшок', 86),\n",
       " ('индетерминантный', 86),\n",
       " ('luminarc', 81),\n",
       " ('пластмассовый', 80),\n",
       " ('6шт', 79),\n",
       " ('сумка', 78),\n",
       " ('комнаты', 77),\n",
       " ('штора', 76),\n",
       " ('3', 74),\n",
       " ('роза', 74),\n",
       " ('1', 73),\n",
       " ('каркас', 72),\n",
       " ('zalger', 71),\n",
       " ('argo', 71),\n",
       " ('цвет', 71),\n",
       " ('мл', 71),\n",
       " ('гладильной', 70),\n",
       " ('белый', 70),\n",
       " ('сиреневый', 69),\n",
       " ('таз', 68),\n",
       " ('на', 67),\n",
       " ('h-10', 67),\n",
       " ('однолетнее', 67),\n",
       " ('черный', 66),\n",
       " ('pandora', 66),\n",
       " ('детерминантный', 66),\n",
       " ('2', 63),\n",
       " ('ассортименте', 63),\n",
       " ('розовый', 62),\n",
       " ('e6', 62),\n",
       " ('синий', 60),\n",
       " ('№', 58),\n",
       " ('г', 57),\n",
       " ('prins', 57),\n",
       " ('nikolai', 57),\n",
       " ('капусты', 57),\n",
       " ('калибрахоа', 56),\n",
       " ('d-9', 55),\n",
       " ('пластиковая', 55),\n",
       " ('напольная', 54),\n",
       " ('раннеспелый', 54),\n",
       " ('полумахровый', 52),\n",
       " ('attribute', 52),\n",
       " ('придверный', 52),\n",
       " ('20', 52),\n",
       " ('мята', 50),\n",
       " ('лососевая', 49),\n",
       " ('набор', 48),\n",
       " ('9х9', 48),\n",
       " ('мини', 47),\n",
       " ('со', 47),\n",
       " ('p-9', 47),\n",
       " ('микс', 46),\n",
       " ('оранжевый', 45),\n",
       " ('ампельная', 45),\n",
       " ('тбр-20', 44),\n",
       " ('люкс', 44),\n",
       " ('angeleyes', 44),\n",
       " ('садовая', 44),\n",
       " ('базилик', 43),\n",
       " ('желтый', 42),\n",
       " ('18', 42),\n",
       " ('крышкой', 41),\n",
       " ('ручкой', 41),\n",
       " ('пищевой', 41),\n",
       " ('арбуза', 41),\n",
       " ('виолет', 40),\n",
       " ('бакопа', 40),\n",
       " ('тарелка', 39),\n",
       " ('joy', 39),\n",
       " ('mary', 39),\n",
       " ('настенная', 37),\n",
       " ('lift', 37),\n",
       " ('хлопок', 37),\n",
       " ('яблоко', 37),\n",
       " ('пвх', 37),\n",
       " ('100%', 37),\n",
       " ('toscana', 37),\n",
       " ('вешалка', 36),\n",
       " ('зеленый', 36),\n",
       " ('коричневый', 35),\n",
       " ('ампельная,', 35),\n",
       " ('colombo', 34),\n",
       " ('double', 34),\n",
       " ('корзина', 33),\n",
       " ('штуки', 33),\n",
       " ('белокачанная', 33),\n",
       " ('wellness', 32),\n",
       " ('240х200', 32),\n",
       " ('желтая', 31),\n",
       " ('малиновая', 31),\n",
       " ('rolser', 31),\n",
       " ('9*9см', 31),\n",
       " ('d-6', 30),\n",
       " ('черная', 30),\n",
       " ('смесь', 30),\n",
       " ('queen', 30),\n",
       " ('ingrid', 30),\n",
       " ('attribute,', 29),\n",
       " ('hausmann', 29),\n",
       " (',', 29),\n",
       " ('скатерть', 29),\n",
       " ('белая,', 29),\n",
       " ('margaretha', 29),\n",
       " ('мм', 28),\n",
       " ('7', 28),\n",
       " ('стремянка', 28),\n",
       " ('ярко', 28),\n",
       " ('блю', 28),\n",
       " ('алюминиевая', 27),\n",
       " ('красная,', 27),\n",
       " ('кашпо', 27),\n",
       " ('штук', 27),\n",
       " ('тимьян', 27),\n",
       " ('30', 26)]"
      ]
     },
     "execution_count": 23,
     "metadata": {},
     "output_type": "execute_result"
    }
   ],
   "source": [
    "Counter(\" \".join(data_new['product'].str.lower()).split()).most_common(200)"
   ]
  },
  {
   "cell_type": "code",
   "execution_count": 24,
   "metadata": {
    "scrolled": false
   },
   "outputs": [
    {
     "data": {
      "text/plain": [
       "[('пеларгония', 708),\n",
       " ('рассада', 467),\n",
       " ('сушилка', 275),\n",
       " ('сумка-тележка', 213),\n",
       " ('муляж', 173),\n",
       " ('томата', 142),\n",
       " ('петуния', 141),\n",
       " ('гладильная', 115),\n",
       " ('герань', 110),\n",
       " ('коврик', 105),\n",
       " ('тележка', 97),\n",
       " ('чехол', 88),\n",
       " ('штора', 76),\n",
       " ('таз', 68),\n",
       " ('однолетнее', 67),\n",
       " ('роза', 57),\n",
       " ('искусственный', 52),\n",
       " ('калибрахоа', 50),\n",
       " ('тарелка', 39),\n",
       " ('набор', 37),\n",
       " ('бакопа', 37),\n",
       " ('вешалка', 36),\n",
       " ('цветок', 35),\n",
       " ('корзина', 33),\n",
       " ('скатерть', 28),\n",
       " ('стремянка', 27),\n",
       " ('салатник', 24),\n",
       " ('мята', 22),\n",
       " ('полки', 21),\n",
       " ('подвесное', 21),\n",
       " ('чайник', 19),\n",
       " ('базилик', 19),\n",
       " ('фуксия', 19),\n",
       " ('банка', 17),\n",
       " ('флокс', 16),\n",
       " ('декабрист', 16),\n",
       " ('ёрш', 15),\n",
       " ('щетка', 15),\n",
       " ('примула', 15),\n",
       " ('вербена', 15),\n",
       " ('нож', 14),\n",
       " ('эвкалипт', 14),\n",
       " ('фиалка', 14),\n",
       " ('карниз', 14),\n",
       " ('кружка', 14),\n",
       " ('искусственная', 14),\n",
       " ('дыня', 14),\n",
       " ('лобелия', 14),\n",
       " ('сумка', 13),\n",
       " ('подкладка', 13),\n",
       " ('цикламен', 13),\n",
       " ('контейнер', 13),\n",
       " ('швабра', 13),\n",
       " ('бегония', 13),\n",
       " ('комнатное', 12),\n",
       " ('капуста', 12),\n",
       " ('новогоднее', 12),\n",
       " ('лестница-стремянка', 11),\n",
       " ('салфетка', 11),\n",
       " ('подрукавник', 11),\n",
       " ('ведро', 11),\n",
       " ('бальзамин', 11),\n",
       " ('пуансеттия', 11),\n",
       " ('циперус', 10),\n",
       " ('газания', 10),\n",
       " ('сковорода', 9),\n",
       " ('ложка', 9),\n",
       " ('перчатки', 9),\n",
       " ('декоративная', 9),\n",
       " ('антуриум', 9),\n",
       " ('вешалка-плечики', 9),\n",
       " ('сиденье', 9),\n",
       " ('виола', 9),\n",
       " ('колокольчик', 9),\n",
       " ('арбуз', 9),\n",
       " ('щетка-сметка', 8),\n",
       " ('кувшин', 8),\n",
       " ('средство', 8),\n",
       " ('термокружка', 8),\n",
       " ('тимьян', 8),\n",
       " ('кастрюля', 8),\n",
       " ('штанга', 8),\n",
       " ('окномойка', 8),\n",
       " ('крючок', 7),\n",
       " ('вилка', 7),\n",
       " ('комплект', 7),\n",
       " ('хлорофитум', 7),\n",
       " ('хризантема', 7),\n",
       " ('корыто', 7),\n",
       " ('космея', 7),\n",
       " ('огурец', 7),\n",
       " ('алиссум', 7),\n",
       " ('эхеверия', 6),\n",
       " ('ковер', 6),\n",
       " ('кофр', 6),\n",
       " ('стакан', 6),\n",
       " ('лаванда', 6),\n",
       " ('львиный', 6),\n",
       " ('весы', 6),\n",
       " ('подставка', 6),\n",
       " ('подарочный', 6),\n",
       " ('томат', 6),\n",
       " ('настенная', 5),\n",
       " ('стяжка', 5),\n",
       " ('плечики', 5),\n",
       " ('петля', 5),\n",
       " ('мирт', 5),\n",
       " ('стремянки', 5),\n",
       " ('насадка', 5),\n",
       " ('шнур', 5),\n",
       " ('чайный', 5),\n",
       " ('гвоздика', 5),\n",
       " ('жестяная', 5),\n",
       " ('этажерка', 5),\n",
       " ('термос', 5),\n",
       " ('кофе', 5),\n",
       " ('рукав', 5),\n",
       " ('лавр', 5),\n",
       " ('табак', 5),\n",
       " ('камнеломка', 5),\n",
       " ('петрушка', 5),\n",
       " ('шеффлера', 4),\n",
       " ('многолетнее', 4),\n",
       " ('плед', 4),\n",
       " ('полотенце', 4),\n",
       " ('азалия', 4),\n",
       " ('миксер', 4),\n",
       " ('tepмокружка', 4),\n",
       " ('зубная', 4),\n",
       " ('ящик', 4),\n",
       " ('коробка', 4),\n",
       " ('розмарин', 4),\n",
       " ('терка', 4),\n",
       " ('измельчитель', 4),\n",
       " ('лоток', 4),\n",
       " ('дендробиум', 4),\n",
       " ('мимоза', 4),\n",
       " ('комод', 4),\n",
       " ('фаленопсис', 4),\n",
       " ('миска', 4),\n",
       " ('аптения', 4),\n",
       " ('махровое', 4),\n",
       " ('хлебница', 4),\n",
       " ('седум', 4),\n",
       " ('овсянница', 4),\n",
       " ('цинния', 4),\n",
       " ('патиссон', 4),\n",
       " ('мединилла', 4),\n",
       " ('покрытие', 4),\n",
       " ('стеклянная', 3),\n",
       " ('дозатор', 3),\n",
       " ('простыня', 3),\n",
       " ('калатея', 3),\n",
       " ('крепеж', 3),\n",
       " ('гортензия', 3),\n",
       " ('подголовник', 3),\n",
       " ('холодная', 3),\n",
       " ('мыло', 3),\n",
       " ('овощеварка', 3),\n",
       " ('столовая', 3),\n",
       " ('чайная', 3),\n",
       " ('паста', 3),\n",
       " ('вешалка-стойка', 3),\n",
       " ('каланхое', 3),\n",
       " ('вешалки', 3),\n",
       " ('термометр', 3),\n",
       " ('настурция', 3),\n",
       " ('ковш', 3),\n",
       " ('скребок', 3),\n",
       " ('календула', 3),\n",
       " ('кореопсис', 3),\n",
       " ('лапчатка', 3),\n",
       " ('покрывало', 3),\n",
       " ('разделочная', 3),\n",
       " ('емкость', 3),\n",
       " ('совок', 3),\n",
       " ('форма', 3),\n",
       " ('спатифиллум', 3),\n",
       " ('аквилегия', 3),\n",
       " ('земляника', 3),\n",
       " ('чабер', 3),\n",
       " ('вербейник', 3),\n",
       " ('котовник', 3),\n",
       " ('ясколка', 3),\n",
       " ('ткань', 3),\n",
       " ('гардения', 3),\n",
       " ('тагетис', 3),\n",
       " ('астра', 3),\n",
       " ('клубника', 3),\n",
       " ('нивянник', 3),\n",
       " ('стеллаж', 3),\n",
       " ('зверобой', 3),\n",
       " ('доска', 2),\n",
       " ('ерш', 2),\n",
       " ('мусорный', 2),\n",
       " ('толкушка', 2),\n",
       " ('подушка', 2),\n",
       " ('цветущее', 2),\n",
       " ('кориандр', 2),\n",
       " ('ковёр', 2)]"
      ]
     },
     "execution_count": 24,
     "metadata": {},
     "output_type": "execute_result"
    }
   ],
   "source": [
    "Counter(\" \".join(data_new['product_first'].str.lower()).split()).most_common(200)"
   ]
  },
  {
   "cell_type": "markdown",
   "metadata": {},
   "source": [
    "Выделим пять категорий:\n",
    "1. home - всё для дома;\n",
    "2. plant - растения;\n",
    "3. bag - сумки и тележки;\n",
    "4. country_house - всё для дачи;\n",
    "5. seedling - рассада."
   ]
  },
  {
   "cell_type": "markdown",
   "metadata": {},
   "source": [
    "Список *plant* мы составили не только при помощи метода *Counter*, но и взяв их открытых источников список растений, предварительно обработав его в Excel. "
   ]
  },
  {
   "cell_type": "code",
   "execution_count": 25,
   "metadata": {},
   "outputs": [],
   "source": [
    "plant = [\n",
    "'лавр',\n",
    "'ледебурия',\n",
    "'леея',\n",
    "'маранта',\n",
    "'мирт',\n",
    "'монстера',\n",
    "'мюленбекия',\n",
    "'нандина',\n",
    "'непентес',\n",
    "'нертера',\n",
    "'оплисменус',\n",
    "'осока',\n",
    "'офиопогон',\n",
    "'палисота',\n",
    "'панданус',\n",
    "'паслён',\n",
    "'пахира',\n",
    "'пеллиония',\n",
    "'пеперомия',\n",
    "'перец',\n",
    "'пизония',\n",
    "'пилея',\n",
    "'плектрантус',\n",
    "'плющ',\n",
    "'погонатерум',\n",
    "'полисциас',\n",
    "'псевдоэрантемум',\n",
    "'радермахера',\n",
    "'рео',\n",
    "'родея',\n",
    "'розмарин',\n",
    "'руэллия',\n",
    "'саговник поникающий (цикас)',\n",
    "'сансевиерия',\n",
    "'сауроматум (арум)',\n",
    "'селагинелла',\n",
    "'сеткрезия',\n",
    "'сидерасис',\n",
    "'сингониум',\n",
    "'солейролия',\n",
    "'спатифиллюм',\n",
    "'строманта',\n",
    "'сциндапсус',\n",
    "'тетрастигма',\n",
    "'традесканция',\n",
    "'фатсия',\n",
    "'фатсхедера',\n",
    "'фикус',\n",
    "'фикус каучуконосный (эластичный)',\n",
    "'филодендрон',\n",
    "'фиттония',\n",
    "'хлорофитум',\n",
    "'хойя (восковой плющ)',\n",
    "'цианотис',\n",
    "'циперус',\n",
    "'циссус',\n",
    "'шеффлера',\n",
    "'энцефаляртос',\n",
    "'эпипремнум',\n",
    "'эписция',\n",
    "'абутилон (комнатный клён)',\n",
    "'агапантус',\n",
    "'азалия',\n",
    "'алламанда',\n",
    "'амариллис',\n",
    "'афеландра',\n",
    "'ахименес (волшебный цветок)',\n",
    "'бегония',\n",
    "'белопероне',\n",
    "'броваллия',\n",
    "'брунфельсия',\n",
    "'бувардия',\n",
    "'бугенвилия',\n",
    "'валлота (циртантус)',\n",
    "'вельтгеймия',\n",
    "'гардения',\n",
    "'гемантус',\n",
    "'гербера',\n",
    "'гибискус',\n",
    "'гименокаллис',\n",
    "'гипоцирта',\n",
    "'гиппеаструм',\n",
    "'глоксиния (синнингия)',\n",
    "'глориоза',\n",
    "'гортензия',\n",
    "'гофмания',\n",
    "'дурман (датура)',\n",
    "'жасмин',\n",
    "'зефирантес',\n",
    "'иксора',\n",
    "'импатиенс (бальзамин)',\n",
    "'калина',\n",
    "'калла (зантедеския)',\n",
    "'каллистемон',\n",
    "'кальцеолярия',\n",
    "'камелия',\n",
    "'катарантус',\n",
    "'клеродендрум',\n",
    "'кливия',\n",
    "'колерия',\n",
    "'колокольчик',\n",
    "'колумнея',\n",
    "'кринум',\n",
    "'кроссандра',\n",
    "'куфея',\n",
    "'лантана',\n",
    "'лириопе',\n",
    "'мандевилла (дипладения)',\n",
    "'мединилла',\n",
    "'муррайя',\n",
    "'нематантус',\n",
    "'нерине',\n",
    "'олеандр',\n",
    "'пассифлора (страстоцвет)',\n",
    "'пахистахис',\n",
    "'педилантус',\n",
    "'пеларгония',\n",
    "'пентас',\n",
    "'плюмбаго (свинчатка)',\n",
    "'примула',\n",
    "'рейхстейнерия',\n",
    "'санхеция',\n",
    "'сенполия (узамбарская фиалка)',\n",
    "'смитианта',\n",
    "'спармания (комнатная липа)',\n",
    "'спрекелия',\n",
    "'стефанотис',\n",
    "'стрелитция',\n",
    "'стрептокарпус',\n",
    "'стробилянт',\n",
    "'тунбергия',\n",
    "'фиалка',\n",
    "'фуксия',\n",
    "'хебе',\n",
    "'цикламен (дряква)',\n",
    "'экзакум',\n",
    "'эсхинантус',\n",
    "'эухарис',\n",
    "'якобиния',\n",
    "'адиантум',\n",
    "'анемия (папоротник)',\n",
    "'блехнум',\n",
    "'даваллия',\n",
    "'дидимохлена',\n",
    "'костенец (асплениум)',\n",
    "'лигодиум',\n",
    "'листовик',\n",
    "'нефролепис',\n",
    "'пеллея',\n",
    "'платицериум',\n",
    "'птерис',\n",
    "'флебодиум',\n",
    "'циртомиум',\n",
    "'бромелиевые',\n",
    "'фризея',\n",
    "'ананас',\n",
    "'бильбергия',\n",
    "'фризея (вриезия)',\n",
    "'гехтия',\n",
    "'гусмания',\n",
    "'диккия',\n",
    "'криптантус',\n",
    "'неорегелия',\n",
    "'нидуляриум',\n",
    "'тилландсия',\n",
    "'фасикулярия двуцветная',\n",
    "'эхмея',\n",
    "'арека',\n",
    "'брахея (эритея)',\n",
    "'бутия',\n",
    "'вашингтония',\n",
    "'гиофорба',\n",
    "'кариота',\n",
    "'кокос',\n",
    "'латания',\n",
    "'ливистона',\n",
    "'ликуала',\n",
    "'притчардия',\n",
    "'рапис',\n",
    "'трахикарпус',\n",
    "'финик',\n",
    "'хамедорея',\n",
    "'хамеропс',\n",
    "'ховея (кентия)',\n",
    "'хризалидокарпус',\n",
    "'юбея',\n",
    "'аскоценда',\n",
    "'бифренария',\n",
    "'брассавола',\n",
    "'брассия',\n",
    "'брассокаттлея',\n",
    "'ванда',\n",
    "'дендробиум',\n",
    "'зигопеталюм',\n",
    "'каттлея',\n",
    "'лелия',\n",
    "'ликасте',\n",
    "'людизия (гемария)',\n",
    "'мильтония',\n",
    "'одонтоглоссум',\n",
    "'онцидиум',\n",
    "'пафиопедилюм',\n",
    "'плейоне',\n",
    "'фаленопсис',\n",
    "'целогина',\n",
    "'цимбидиум',\n",
    "'астрофитум',\n",
    "'апорокактус',\n",
    "'гатиора',\n",
    "'гимнокалициум',\n",
    "'дизокактус',\n",
    "'клейстокактус',\n",
    "'корифанта',\n",
    "'лейхтенбергия',\n",
    "'лофофора',\n",
    "'маммиллярия',\n",
    "'мелокактус',\n",
    "'опунция',\n",
    "'ореоцереус',\n",
    "'пародия',\n",
    "'переския',\n",
    "'пилозоцереус',\n",
    "'ребуция',\n",
    "'рипсалис',\n",
    "'селеницереус',\n",
    "'стенокактус',\n",
    "'стетсония',\n",
    "'телокактус',\n",
    "'ферокактус',\n",
    "'хагеоцереус',\n",
    "'цереус',\n",
    "'цефалоцереус',\n",
    "'шлюмбергера',\n",
    "'эпифиллум',\n",
    "'эспостоа',\n",
    "'эхинокактус',\n",
    "'эхинопсис',\n",
    "'эхиноцереус',\n",
    "'адениум',\n",
    "'алоэ',\n",
    "'аргиродерма',\n",
    "'брахихитон',\n",
    "'гастерия',\n",
    "'гуерния',\n",
    "'каланхоэ',\n",
    "'котиледон',\n",
    "'крестовник',\n",
    "'литопс',\n",
    "'молочай',\n",
    "'нолина',\n",
    "'очиток',\n",
    "'пахиподиум',\n",
    "'пахифитум',\n",
    "'портулакария',\n",
    "'синадениум',\n",
    "'стапелия',\n",
    "'толстянка',\n",
    "'фаукария',\n",
    "'хавортия',\n",
    "'церопегия',\n",
    "'эониум',\n",
    "'эхеверия',\n",
    "'юкка',\n",
    "'ятрофа',\n",
    "'гранат',\n",
    "'кофейное дерево (кофе)',\n",
    "'персея (авокадо)',\n",
    "'фейхоа, акка (растение)',\n",
    "'фикус карика (инжир)',\n",
    "'цитрусовые культуры', \n",
    "'радермахер', \n",
    "'растен', \n",
    "'петун', \n",
    "'калибрахоа', \n",
    "'горш', \n",
    "'кашпо', \n",
    "'пеларгон', \n",
    "'герань', \n",
    "'циперус', \n",
    "'комнатн', \n",
    "'хризолидокарпус', \n",
    "'тимьян',\n",
    "'пуансеттия']"
   ]
  },
  {
   "cell_type": "code",
   "execution_count": 26,
   "metadata": {},
   "outputs": [],
   "source": [
    "home = ['кухн', 'кухон' 'чайн', 'салатн', 'гладильн', 'вешалк', 'бель', 'сушилка', 'коврик', 'чехол', 'штор', 'тарелк',\n",
    "        'скатерть', 'корзина', 'банка', 'чайник', 'кружк', 'кружк', 'швабр', 'салфетк', 'сковород', 'кувшин', 'кастрюл',\n",
    "        'миксер', 'ковёр', 'плед', 'столов', 'полк', 'ванн', 'стакан', 'набор', 'посуд', 'варк', 'блюд', 'полотенц']\n",
    "bag = ['сумк', 'тележк', 'сумка-тележка']\n",
    "country_house = ['корыт', 'стремянк', 'перчатк', 'жестян', 'щетк', 'скребок', 'таз', 'бидон', 'муляж', 'искусств']\n",
    "seedling = ['рассад', 'кассет', 'НЛО', 'томат', 'd-7', 'мимоз', 'эвкалипт', 'бакопа', 'вербен', 'роза']\n",
    "other = ['']"
   ]
  },
  {
   "cell_type": "markdown",
   "metadata": {},
   "source": [
    "Напишем функцию cat, которая будет присваивать категории каждому товару. То, что не вошло ни в одну категорию, запишем как \"Прочее\"."
   ]
  },
  {
   "cell_type": "code",
   "execution_count": 27,
   "metadata": {},
   "outputs": [
    {
     "data": {
      "text/html": [
       "<div>\n",
       "<style scoped>\n",
       "    .dataframe tbody tr th:only-of-type {\n",
       "        vertical-align: middle;\n",
       "    }\n",
       "\n",
       "    .dataframe tbody tr th {\n",
       "        vertical-align: top;\n",
       "    }\n",
       "\n",
       "    .dataframe thead th {\n",
       "        text-align: right;\n",
       "    }\n",
       "</style>\n",
       "<table border=\"1\" class=\"dataframe\">\n",
       "  <thead>\n",
       "    <tr style=\"text-align: right;\">\n",
       "      <th></th>\n",
       "      <th>date</th>\n",
       "      <th>customer_id</th>\n",
       "      <th>order_id</th>\n",
       "      <th>product</th>\n",
       "      <th>quantity</th>\n",
       "      <th>price</th>\n",
       "      <th>month</th>\n",
       "      <th>month_number</th>\n",
       "      <th>total_price</th>\n",
       "      <th>product_first</th>\n",
       "      <th>category</th>\n",
       "    </tr>\n",
       "  </thead>\n",
       "  <tbody>\n",
       "    <tr>\n",
       "      <th>0</th>\n",
       "      <td>2018-10-01</td>\n",
       "      <td>ee47d746-6d2f-4d3c-9622-c31412542920</td>\n",
       "      <td>68477</td>\n",
       "      <td>Комнатное растение в горшке Алое Вера, d12, h30</td>\n",
       "      <td>1</td>\n",
       "      <td>142</td>\n",
       "      <td>2018-10-01</td>\n",
       "      <td>10</td>\n",
       "      <td>142</td>\n",
       "      <td>Комнатное</td>\n",
       "      <td>Растения</td>\n",
       "    </tr>\n",
       "    <tr>\n",
       "      <th>1</th>\n",
       "      <td>2018-10-01</td>\n",
       "      <td>ee47d746-6d2f-4d3c-9622-c31412542920</td>\n",
       "      <td>68477</td>\n",
       "      <td>Комнатное растение в горшке Кофе Арабика, d12,...</td>\n",
       "      <td>1</td>\n",
       "      <td>194</td>\n",
       "      <td>2018-10-01</td>\n",
       "      <td>10</td>\n",
       "      <td>194</td>\n",
       "      <td>Комнатное</td>\n",
       "      <td>Растения</td>\n",
       "    </tr>\n",
       "    <tr>\n",
       "      <th>2</th>\n",
       "      <td>2018-10-01</td>\n",
       "      <td>ee47d746-6d2f-4d3c-9622-c31412542920</td>\n",
       "      <td>68477</td>\n",
       "      <td>Радермахера d-12 см h-20 см</td>\n",
       "      <td>1</td>\n",
       "      <td>112</td>\n",
       "      <td>2018-10-01</td>\n",
       "      <td>10</td>\n",
       "      <td>112</td>\n",
       "      <td>Радермахера</td>\n",
       "      <td>Растения</td>\n",
       "    </tr>\n",
       "    <tr>\n",
       "      <th>3</th>\n",
       "      <td>2018-10-01</td>\n",
       "      <td>ee47d746-6d2f-4d3c-9622-c31412542920</td>\n",
       "      <td>68477</td>\n",
       "      <td>Хризолидокарпус Лутесценс d-9 см</td>\n",
       "      <td>1</td>\n",
       "      <td>179</td>\n",
       "      <td>2018-10-01</td>\n",
       "      <td>10</td>\n",
       "      <td>179</td>\n",
       "      <td>Хризолидокарпус</td>\n",
       "      <td>Растения</td>\n",
       "    </tr>\n",
       "    <tr>\n",
       "      <th>4</th>\n",
       "      <td>2018-10-01</td>\n",
       "      <td>ee47d746-6d2f-4d3c-9622-c31412542920</td>\n",
       "      <td>68477</td>\n",
       "      <td>Циперус Зумула d-12 см h-25 см</td>\n",
       "      <td>1</td>\n",
       "      <td>112</td>\n",
       "      <td>2018-10-01</td>\n",
       "      <td>10</td>\n",
       "      <td>112</td>\n",
       "      <td>Циперус</td>\n",
       "      <td>Растения</td>\n",
       "    </tr>\n",
       "  </tbody>\n",
       "</table>\n",
       "</div>"
      ],
      "text/plain": [
       "        date                           customer_id  order_id  \\\n",
       "0 2018-10-01  ee47d746-6d2f-4d3c-9622-c31412542920     68477   \n",
       "1 2018-10-01  ee47d746-6d2f-4d3c-9622-c31412542920     68477   \n",
       "2 2018-10-01  ee47d746-6d2f-4d3c-9622-c31412542920     68477   \n",
       "3 2018-10-01  ee47d746-6d2f-4d3c-9622-c31412542920     68477   \n",
       "4 2018-10-01  ee47d746-6d2f-4d3c-9622-c31412542920     68477   \n",
       "\n",
       "                                             product  quantity  price  \\\n",
       "0    Комнатное растение в горшке Алое Вера, d12, h30         1    142   \n",
       "1  Комнатное растение в горшке Кофе Арабика, d12,...         1    194   \n",
       "2                        Радермахера d-12 см h-20 см         1    112   \n",
       "3                   Хризолидокарпус Лутесценс d-9 см         1    179   \n",
       "4                     Циперус Зумула d-12 см h-25 см         1    112   \n",
       "\n",
       "       month  month_number  total_price    product_first  category  \n",
       "0 2018-10-01            10          142        Комнатное  Растения  \n",
       "1 2018-10-01            10          194        Комнатное  Растения  \n",
       "2 2018-10-01            10          112      Радермахера  Растения  \n",
       "3 2018-10-01            10          179  Хризолидокарпус  Растения  \n",
       "4 2018-10-01            10          112          Циперус  Растения  "
      ]
     },
     "execution_count": 27,
     "metadata": {},
     "output_type": "execute_result"
    }
   ],
   "source": [
    "def cat(value):\n",
    "    for i in home:\n",
    "        if i in value:\n",
    "            return 'Дом'\n",
    "    for i in plant:\n",
    "        if i in value:\n",
    "            return 'Растения'\n",
    "    for i in country_house:\n",
    "        if i in value:\n",
    "            return 'Дача'\n",
    "    for i in seedling:\n",
    "        if i in value:\n",
    "            return 'Рассада'\n",
    "    for i in bag:\n",
    "        if i in value:\n",
    "            return 'Сумка'   \n",
    "    for i in other:\n",
    "        if i in value:\n",
    "            return 'Прочее'\n",
    "data_new['category'] = data_new['product'].str.lower().apply(cat)\n",
    "data_new.head()"
   ]
  },
  {
   "cell_type": "markdown",
   "metadata": {},
   "source": [
    "Посмотрим соотношение категорий."
   ]
  },
  {
   "cell_type": "code",
   "execution_count": 28,
   "metadata": {},
   "outputs": [
    {
     "data": {
      "text/plain": [
       "Растения    1531\n",
       "Дом         1451\n",
       "Прочее       554\n",
       "Рассада      530\n",
       "Дача         407\n",
       "Сумка        315\n",
       "Name: category, dtype: int64"
      ]
     },
     "execution_count": 28,
     "metadata": {},
     "output_type": "execute_result"
    }
   ],
   "source": [
    "data_new['category'].value_counts()"
   ]
  },
  {
   "cell_type": "markdown",
   "metadata": {},
   "source": [
    "Хотя в \"Прочем\" более 500 значений, что, на наш взгляд, довольно много, будет неоправданной тратой времени полностью категоризировать каждое значение. Поэтому оставим, как есть, взглянув на топ-5 из этого перечня."
   ]
  },
  {
   "cell_type": "code",
   "execution_count": 29,
   "metadata": {},
   "outputs": [
    {
     "data": {
      "text/plain": [
       "Контейнер     13\n",
       "Новогоднее    12\n",
       "Нож           11\n",
       "Бальзамин     10\n",
       "Антуриум       9\n",
       "Name: product_first, dtype: int64"
      ]
     },
     "execution_count": 29,
     "metadata": {},
     "output_type": "execute_result"
    }
   ],
   "source": [
    "top5other = data_new[data_new['category'] == 'Прочее']\n",
    "top5other['product_first'].value_counts().head(5)"
   ]
  },
  {
   "cell_type": "markdown",
   "metadata": {},
   "source": [
    "\n",
    "## Сегментация пользователей"
   ]
  },
  {
   "cell_type": "markdown",
   "metadata": {},
   "source": [
    "Сегментируем посредством машинного обучения. Создадим дендрограмму. Для начала создадим таблицу, в которой сгруппируем нужные нам столбцы без выбросов, предварительно создав в оригинальном датасете столбец *test_column*, благодаря которому можно маркировать каждого покупателя по отношению к категории."
   ]
  },
  {
   "cell_type": "code",
   "execution_count": 30,
   "metadata": {},
   "outputs": [
    {
     "data": {
      "text/html": [
       "<div>\n",
       "<style scoped>\n",
       "    .dataframe tbody tr th:only-of-type {\n",
       "        vertical-align: middle;\n",
       "    }\n",
       "\n",
       "    .dataframe tbody tr th {\n",
       "        vertical-align: top;\n",
       "    }\n",
       "\n",
       "    .dataframe thead th {\n",
       "        text-align: right;\n",
       "    }\n",
       "</style>\n",
       "<table border=\"1\" class=\"dataframe\">\n",
       "  <thead>\n",
       "    <tr style=\"text-align: right;\">\n",
       "      <th>category</th>\n",
       "      <th>customer_id</th>\n",
       "      <th>Дача</th>\n",
       "      <th>Дом</th>\n",
       "      <th>Прочее</th>\n",
       "      <th>Рассада</th>\n",
       "      <th>Растения</th>\n",
       "      <th>Сумка</th>\n",
       "    </tr>\n",
       "  </thead>\n",
       "  <tbody>\n",
       "    <tr>\n",
       "      <th>0</th>\n",
       "      <td>000d6849-084e-4d9f-ac03-37174eaf60c4</td>\n",
       "      <td>0.0</td>\n",
       "      <td>0.0</td>\n",
       "      <td>0.0</td>\n",
       "      <td>0.0</td>\n",
       "      <td>1.0</td>\n",
       "      <td>0.0</td>\n",
       "    </tr>\n",
       "    <tr>\n",
       "      <th>1</th>\n",
       "      <td>001cee7f-0b29-4716-b202-0042213ab038</td>\n",
       "      <td>0.0</td>\n",
       "      <td>1.0</td>\n",
       "      <td>0.0</td>\n",
       "      <td>0.0</td>\n",
       "      <td>0.0</td>\n",
       "      <td>0.0</td>\n",
       "    </tr>\n",
       "    <tr>\n",
       "      <th>2</th>\n",
       "      <td>00299f34-5385-4d13-9aea-c80b81658e1b</td>\n",
       "      <td>0.0</td>\n",
       "      <td>0.0</td>\n",
       "      <td>1.0</td>\n",
       "      <td>0.0</td>\n",
       "      <td>0.0</td>\n",
       "      <td>0.0</td>\n",
       "    </tr>\n",
       "    <tr>\n",
       "      <th>3</th>\n",
       "      <td>002d4d3a-4a59-406b-86ec-c3314357e498</td>\n",
       "      <td>0.0</td>\n",
       "      <td>0.0</td>\n",
       "      <td>0.0</td>\n",
       "      <td>0.0</td>\n",
       "      <td>0.0</td>\n",
       "      <td>1.0</td>\n",
       "    </tr>\n",
       "    <tr>\n",
       "      <th>4</th>\n",
       "      <td>003bbd39-0000-41ff-b7f9-2ddaec152037</td>\n",
       "      <td>0.0</td>\n",
       "      <td>0.0</td>\n",
       "      <td>1.0</td>\n",
       "      <td>0.0</td>\n",
       "      <td>0.0</td>\n",
       "      <td>0.0</td>\n",
       "    </tr>\n",
       "    <tr>\n",
       "      <th>...</th>\n",
       "      <td>...</td>\n",
       "      <td>...</td>\n",
       "      <td>...</td>\n",
       "      <td>...</td>\n",
       "      <td>...</td>\n",
       "      <td>...</td>\n",
       "      <td>...</td>\n",
       "    </tr>\n",
       "    <tr>\n",
       "      <th>2399</th>\n",
       "      <td>ff601403-b094-4b86-9ac6-264d725b9277</td>\n",
       "      <td>0.0</td>\n",
       "      <td>0.0</td>\n",
       "      <td>0.0</td>\n",
       "      <td>0.0</td>\n",
       "      <td>0.0</td>\n",
       "      <td>1.0</td>\n",
       "    </tr>\n",
       "    <tr>\n",
       "      <th>2400</th>\n",
       "      <td>ffaeab76-3a8d-49ee-860f-17273b2fc8a2</td>\n",
       "      <td>1.0</td>\n",
       "      <td>0.0</td>\n",
       "      <td>0.0</td>\n",
       "      <td>0.0</td>\n",
       "      <td>0.0</td>\n",
       "      <td>0.0</td>\n",
       "    </tr>\n",
       "    <tr>\n",
       "      <th>2401</th>\n",
       "      <td>ffb5976a-7a4d-460b-95c4-5ffaba31cb24</td>\n",
       "      <td>0.0</td>\n",
       "      <td>0.0</td>\n",
       "      <td>1.0</td>\n",
       "      <td>0.0</td>\n",
       "      <td>0.0</td>\n",
       "      <td>0.0</td>\n",
       "    </tr>\n",
       "    <tr>\n",
       "      <th>2402</th>\n",
       "      <td>ffb80538-3fda-4351-8ea9-9d2bec58bb07</td>\n",
       "      <td>0.0</td>\n",
       "      <td>1.0</td>\n",
       "      <td>0.0</td>\n",
       "      <td>0.0</td>\n",
       "      <td>0.0</td>\n",
       "      <td>0.0</td>\n",
       "    </tr>\n",
       "    <tr>\n",
       "      <th>2403</th>\n",
       "      <td>ffe82299-3f5b-4214-87fe-3d36ecccfac3</td>\n",
       "      <td>0.0</td>\n",
       "      <td>1.0</td>\n",
       "      <td>0.0</td>\n",
       "      <td>0.0</td>\n",
       "      <td>0.0</td>\n",
       "      <td>0.0</td>\n",
       "    </tr>\n",
       "  </tbody>\n",
       "</table>\n",
       "<p>2404 rows × 7 columns</p>\n",
       "</div>"
      ],
      "text/plain": [
       "category                           customer_id  Дача  Дом  Прочее  Рассада  \\\n",
       "0         000d6849-084e-4d9f-ac03-37174eaf60c4   0.0  0.0     0.0      0.0   \n",
       "1         001cee7f-0b29-4716-b202-0042213ab038   0.0  1.0     0.0      0.0   \n",
       "2         00299f34-5385-4d13-9aea-c80b81658e1b   0.0  0.0     1.0      0.0   \n",
       "3         002d4d3a-4a59-406b-86ec-c3314357e498   0.0  0.0     0.0      0.0   \n",
       "4         003bbd39-0000-41ff-b7f9-2ddaec152037   0.0  0.0     1.0      0.0   \n",
       "...                                        ...   ...  ...     ...      ...   \n",
       "2399      ff601403-b094-4b86-9ac6-264d725b9277   0.0  0.0     0.0      0.0   \n",
       "2400      ffaeab76-3a8d-49ee-860f-17273b2fc8a2   1.0  0.0     0.0      0.0   \n",
       "2401      ffb5976a-7a4d-460b-95c4-5ffaba31cb24   0.0  0.0     1.0      0.0   \n",
       "2402      ffb80538-3fda-4351-8ea9-9d2bec58bb07   0.0  1.0     0.0      0.0   \n",
       "2403      ffe82299-3f5b-4214-87fe-3d36ecccfac3   0.0  1.0     0.0      0.0   \n",
       "\n",
       "category  Растения  Сумка  \n",
       "0              1.0    0.0  \n",
       "1              0.0    0.0  \n",
       "2              0.0    0.0  \n",
       "3              0.0    1.0  \n",
       "4              0.0    0.0  \n",
       "...            ...    ...  \n",
       "2399           0.0    1.0  \n",
       "2400           0.0    0.0  \n",
       "2401           0.0    0.0  \n",
       "2402           0.0    0.0  \n",
       "2403           0.0    0.0  \n",
       "\n",
       "[2404 rows x 7 columns]"
      ]
     },
     "execution_count": 30,
     "metadata": {},
     "output_type": "execute_result"
    }
   ],
   "source": [
    "data_new['test_column'] = 1\n",
    "data_seg = data_new.pivot_table(index = 'customer_id', columns = 'category', values='test_column').reset_index().fillna(0)\n",
    "data_seg"
   ]
  },
  {
   "cell_type": "code",
   "execution_count": 31,
   "metadata": {},
   "outputs": [
    {
     "data": {
      "image/png": "[encoded data removed]",
      "text/plain": [
       "<Figure size 1440x1080 with 1 Axes>"
      ]
     },
     "metadata": {
      "needs_background": "light"
     },
     "output_type": "display_data"
    }
   ],
   "source": [
    "X = data_seg.drop(['customer_id'], axis = 1)\n",
    "scaler = StandardScaler()\n",
    "X_st = scaler.fit_transform(X)\n",
    "linked = linkage(X_st, method='ward')\n",
    "plt.figure(figsize=(20, 15))\n",
    "dendrogram(linked, orientation='top')\n",
    "plt.title('Иерархическая кластеризация')\n",
    "plt.show()"
   ]
  },
  {
   "cell_type": "code",
   "execution_count": 32,
   "metadata": {},
   "outputs": [],
   "source": [
    "km = KMeans(n_clusters = 6, random_state = 0)\n",
    "labels = km.fit_predict(X_st)\n",
    "data_seg['cluster_km'] = labels"
   ]
  },
  {
   "cell_type": "code",
   "execution_count": 33,
   "metadata": {},
   "outputs": [
    {
     "data": {
      "text/html": [
       "<div>\n",
       "<style scoped>\n",
       "    .dataframe tbody tr th:only-of-type {\n",
       "        vertical-align: middle;\n",
       "    }\n",
       "\n",
       "    .dataframe tbody tr th {\n",
       "        vertical-align: top;\n",
       "    }\n",
       "\n",
       "    .dataframe thead th {\n",
       "        text-align: right;\n",
       "    }\n",
       "</style>\n",
       "<table border=\"1\" class=\"dataframe\">\n",
       "  <thead>\n",
       "    <tr style=\"text-align: right;\">\n",
       "      <th>category</th>\n",
       "      <th>Дача</th>\n",
       "      <th>Дом</th>\n",
       "      <th>Прочее</th>\n",
       "      <th>Рассада</th>\n",
       "      <th>Растения</th>\n",
       "      <th>Сумка</th>\n",
       "    </tr>\n",
       "    <tr>\n",
       "      <th>cluster_km</th>\n",
       "      <th></th>\n",
       "      <th></th>\n",
       "      <th></th>\n",
       "      <th></th>\n",
       "      <th></th>\n",
       "      <th></th>\n",
       "    </tr>\n",
       "  </thead>\n",
       "  <tbody>\n",
       "    <tr>\n",
       "      <th>0</th>\n",
       "      <td>0.003663</td>\n",
       "      <td>0.007326</td>\n",
       "      <td>0.003663</td>\n",
       "      <td>0.0</td>\n",
       "      <td>0.003663</td>\n",
       "      <td>1.000000</td>\n",
       "    </tr>\n",
       "    <tr>\n",
       "      <th>1</th>\n",
       "      <td>0.000000</td>\n",
       "      <td>1.000000</td>\n",
       "      <td>0.000000</td>\n",
       "      <td>0.0</td>\n",
       "      <td>0.000000</td>\n",
       "      <td>0.000000</td>\n",
       "    </tr>\n",
       "    <tr>\n",
       "      <th>2</th>\n",
       "      <td>0.000000</td>\n",
       "      <td>0.073314</td>\n",
       "      <td>1.000000</td>\n",
       "      <td>0.0</td>\n",
       "      <td>0.102639</td>\n",
       "      <td>0.000000</td>\n",
       "    </tr>\n",
       "    <tr>\n",
       "      <th>3</th>\n",
       "      <td>0.000000</td>\n",
       "      <td>0.036675</td>\n",
       "      <td>0.000000</td>\n",
       "      <td>0.0</td>\n",
       "      <td>1.000000</td>\n",
       "      <td>0.000000</td>\n",
       "    </tr>\n",
       "    <tr>\n",
       "      <th>4</th>\n",
       "      <td>1.000000</td>\n",
       "      <td>0.032727</td>\n",
       "      <td>0.050909</td>\n",
       "      <td>0.0</td>\n",
       "      <td>0.036364</td>\n",
       "      <td>0.007273</td>\n",
       "    </tr>\n",
       "    <tr>\n",
       "      <th>5</th>\n",
       "      <td>0.013793</td>\n",
       "      <td>0.124138</td>\n",
       "      <td>0.158621</td>\n",
       "      <td>1.0</td>\n",
       "      <td>0.482759</td>\n",
       "      <td>0.006897</td>\n",
       "    </tr>\n",
       "  </tbody>\n",
       "</table>\n",
       "</div>"
      ],
      "text/plain": [
       "category        Дача       Дом    Прочее  Рассада  Растения     Сумка\n",
       "cluster_km                                                           \n",
       "0           0.003663  0.007326  0.003663      0.0  0.003663  1.000000\n",
       "1           0.000000  1.000000  0.000000      0.0  0.000000  0.000000\n",
       "2           0.000000  0.073314  1.000000      0.0  0.102639  0.000000\n",
       "3           0.000000  0.036675  0.000000      0.0  1.000000  0.000000\n",
       "4           1.000000  0.032727  0.050909      0.0  0.036364  0.007273\n",
       "5           0.013793  0.124138  0.158621      1.0  0.482759  0.006897"
      ]
     },
     "execution_count": 33,
     "metadata": {},
     "output_type": "execute_result"
    }
   ],
   "source": [
    "data_seg.groupby('cluster_km').mean()"
   ]
  },
  {
   "cell_type": "markdown",
   "metadata": {},
   "source": [
    "Средние значения говорят о следующем:\n",
    "1. Кластер 0 активнее всего покупает товары из категории \"Сумки\";\n",
    "2. Кластер 1 активнее покупает \"Прочее\", но есть покупки в \"Растениях\" и \"Доме\";\n",
    "3. Кластер 2 покупает только в категории \"Дом\";\n",
    "4. Кластер 3 покупает активнее покупает в категории \"Растения\", но есть также покупки в \"Доме\";\n",
    "5. Кластер 4 покупает товары всех категорий, кроме \"Рассады\". Больше всего - в \"Даче\";\n",
    "6. Кластер 5 покупает во всех категориях. Больше всего в \"Растениях\", меньше - в \"Сумках\"."
   ]
  },
  {
   "cell_type": "markdown",
   "metadata": {},
   "source": [
    "## Статистическая проверка гипотез"
   ]
  },
  {
   "cell_type": "markdown",
   "metadata": {},
   "source": [
    "Проверим различия средней выручки между сегментом \"Растения\" и остальными сегментами. Т.к. мы выделили 6 сегментов, будем использовать t-test с поправкой Бонферрони. Сформулируем гипотезы:\n",
    "- HO. Средная выручка между кластером \"Растения\" и кластером х равны.\n",
    "- Н1. Нет оснований утверждать, что средная выручка между кластером x и кластером y равны.\n",
    "\n",
    "Под кластером х будем считать все прочие кластеры.\n",
    "\n",
    "Напишем функцию."
   ]
  },
  {
   "cell_type": "code",
   "execution_count": 34,
   "metadata": {},
   "outputs": [],
   "source": [
    "def stat(x):\n",
    "    x_avg_check = data_new.query('category == \"Растения\"')['total_price']\n",
    "    y_avg_check = data_new.query('category == @x')['total_price']\n",
    "    alpha = 0.05 / 5\n",
    "    results = st.ttest_ind(x_avg_check, y_avg_check)\n",
    "    print('Сравниваемые категории: \"Растения\" и \"{}\"'.format(x))\n",
    "    print('p-значение:', results.pvalue)\n",
    "    if (results.pvalue < alpha):\n",
    "        print(\"Отвергаем нулевую гипотезу\")\n",
    "    else:\n",
    "        print(\"Не получилось отвергнуть нулевую гипотезу\")\n",
    "    print('')"
   ]
  },
  {
   "cell_type": "code",
   "execution_count": 35,
   "metadata": {
    "scrolled": false
   },
   "outputs": [
    {
     "name": "stdout",
     "output_type": "stream",
     "text": [
      "Сравниваемые категории: \"Растения\" и \"Растения\"\n",
      "p-значение: 1.0\n",
      "Не получилось отвергнуть нулевую гипотезу\n",
      "\n",
      "Сравниваемые категории: \"Растения\" и \"Дом\"\n",
      "p-значение: 3.2202122874843053e-142\n",
      "Отвергаем нулевую гипотезу\n",
      "\n",
      "Сравниваемые категории: \"Растения\" и \"Дача\"\n",
      "p-значение: 2.590776771509021e-44\n",
      "Отвергаем нулевую гипотезу\n",
      "\n",
      "Сравниваемые категории: \"Растения\" и \"Прочее\"\n",
      "p-значение: 8.307656742969329e-48\n",
      "Отвергаем нулевую гипотезу\n",
      "\n",
      "Сравниваемые категории: \"Растения\" и \"Сумка\"\n",
      "p-значение: 1.387546601437067e-273\n",
      "Отвергаем нулевую гипотезу\n",
      "\n",
      "Сравниваемые категории: \"Растения\" и \"Рассада\"\n",
      "p-значение: 0.0005943145794961427\n",
      "Отвергаем нулевую гипотезу\n",
      "\n"
     ]
    }
   ],
   "source": [
    "for i in data_new['category'].unique():\n",
    "    stat(i)"
   ]
  },
  {
   "cell_type": "markdown",
   "metadata": {},
   "source": [
    "Результаты теста Стьюдента показали, что нет оснований считать равными средние выручки между категорией \"Растения\" и остальными категориями."
   ]
  },
  {
   "cell_type": "markdown",
   "metadata": {},
   "source": [
    "## Выводы и рекомендации"
   ]
  },
  {
   "cell_type": "markdown",
   "metadata": {},
   "source": [
    "Перед нами стояла задача сегментировать пользователей, чтобы выдвинуть персонализированные предложения.\n",
    "\n",
    "Во время предобработки мы обнаружили 1886 скрытых дубликатов и после консультации с оператором БД удалили их. Мы выяснили, что **количество уникальных пользователей** составляет 2451 человек, **количество уникальных товаров** - 2343 шт., а **средняя выручка** за весь период равна 194 руб.\n",
    "\n",
    "В датасете также имеются оптовики; самый крупный заказ был сделан на 675 000 руб.\n",
    "\n",
    "Мы не обнаружили какой-либо сезонности по товарам: во все месяцы покупки совершались приблизительно одинакого (за исключением оптовых покупок, но это исключение).\n",
    "\n",
    "Затем распределили все товары по 6 категориям: \"Дом\", \"Растения\",\"Дача\", \"Рассада\", \"Сумка\", \"Прочее\". Ниже представлено соотношение категорий и количества товаров:\n",
    "- Растения -    1531\n",
    "- Дом -         1451\n",
    "- Прочее -       554\n",
    "- Рассада -      530\n",
    "- Дача -         407\n",
    "- Сумка -        315\n",
    "\n",
    "Поскольку категория \"Прочее\" неопределена, посмотрим топ-5 её товаров:\n",
    "- Контейнер -       13\n",
    "- Новогоднее -      12\n",
    "- Нож -             11\n",
    "- Бальзамин -       10\n",
    "- Декоративная -     9\n",
    "\n",
    "После этого мы осуществили иерархическую кластеризацию, выделив 6 кластеров. Результаты следующие:\n",
    "\n",
    "1. Кластер 0 активнее всего покупает товары из категории \"Сумки\";\n",
    "2. Кластер 1 активнее покупает \"Прочее\", но есть покупки в \"Растениях\" и \"Доме\";\n",
    "3. Кластер 2 покупает только в категории \"Дом\";\n",
    "4. Кластер 3 покупает активнее покупает в категории \"Растения\", но есть также покупки в \"Доме\";\n",
    "5. Кластер 4 покупает товары всех категорий, кроме \"Рассады\". Больше всего - в \"Даче\";\n",
    "6. Кластер 5 покупает во всех категориях. Больше всего в \"Растениях\", меньше - в \"Сумках\".\n",
    "\n",
    "Наконец, мы статистически сравнили среднюю выручку между категорией \"Растения\" и всеми остальными категориями, используя тест Стьюдента с поправкой Бонферрони. Результаты теста показали, что **нет оснований считать, что средная выручка между кластерами равна**.\n",
    "\n",
    "Основываясь на имеющихся данных, мы можем дать **следующие рекомендации**:\n",
    "1. Отсутствие сезонности - недоработка. Нужно активно внедрять акции на сезонные товары (например, на категорию \"Дача\" или \"Рассада\"). \n",
    "2. Предлагать дополнительные товары (\"Вас также может заинтересовать...\"), основываясь на информации из кластеров. Например, пользователям из кластера 3 предлагать в качестве дополнительных товары из категории \"Дом\".\n",
    "3. Провести полную ревизию категорий и рассортировать товары так, чтобы избежать категории \"Прочее\" (в настоящем проекте это была бы неоправданно трудозатратная задача)."
   ]
  },
  {
   "cell_type": "markdown",
   "metadata": {},
   "source": [
    "# Дополнительные материалы\n",
    "* [Дашборд](https://public.tableau.com/app/profile/konstantin2683/viz/final_project_16268018566590/Dashboard1?publish=yes)"
   ]
  }
 ],
 "metadata": {
  "ExecuteTimeLog": [
   {
    "duration": 589,
    "start_time": "2021-07-14T14:53:16.421Z"
   },
   {
    "duration": 1559,
    "start_time": "2021-07-14T14:53:18.198Z"
   },
   {
    "duration": 140,
    "start_time": "2021-07-14T14:53:39.719Z"
   },
   {
    "duration": 15,
    "start_time": "2021-07-14T14:54:46.594Z"
   },
   {
    "duration": 13,
    "start_time": "2021-07-14T14:56:09.751Z"
   },
   {
    "duration": 281,
    "start_time": "2021-07-14T14:57:15.724Z"
   },
   {
    "duration": 12,
    "start_time": "2021-07-14T14:57:22.266Z"
   },
   {
    "duration": 9,
    "start_time": "2021-07-14T14:57:26.802Z"
   },
   {
    "duration": 6,
    "start_time": "2021-07-14T14:57:29.387Z"
   },
   {
    "duration": 236,
    "start_time": "2021-07-14T14:57:41.651Z"
   },
   {
    "duration": 12,
    "start_time": "2021-07-14T14:57:45.066Z"
   },
   {
    "duration": 10,
    "start_time": "2021-07-14T14:57:55.568Z"
   },
   {
    "duration": 6,
    "start_time": "2021-07-14T14:57:56.861Z"
   },
   {
    "duration": 4,
    "start_time": "2021-07-14T15:05:46.875Z"
   },
   {
    "duration": 268,
    "start_time": "2021-07-14T15:06:52.961Z"
   },
   {
    "duration": 233,
    "start_time": "2021-07-14T15:07:11.046Z"
   },
   {
    "duration": 6,
    "start_time": "2021-07-14T15:07:16.184Z"
   },
   {
    "duration": 6,
    "start_time": "2021-07-14T15:07:23.978Z"
   },
   {
    "duration": 6,
    "start_time": "2021-07-14T15:07:28.135Z"
   },
   {
    "duration": 6,
    "start_time": "2021-07-14T15:07:42.448Z"
   },
   {
    "duration": 4,
    "start_time": "2021-07-14T15:10:03.035Z"
   },
   {
    "duration": 5,
    "start_time": "2021-07-14T15:10:09.937Z"
   },
   {
    "duration": 5,
    "start_time": "2021-07-14T15:10:16.597Z"
   },
   {
    "duration": 6,
    "start_time": "2021-07-14T15:10:56.610Z"
   },
   {
    "duration": 2,
    "start_time": "2021-07-14T15:25:08.488Z"
   },
   {
    "duration": 230,
    "start_time": "2021-07-14T18:41:07.433Z"
   },
   {
    "duration": 6,
    "start_time": "2021-07-14T18:41:40.552Z"
   },
   {
    "duration": 12,
    "start_time": "2021-07-14T18:41:45.764Z"
   },
   {
    "duration": 248,
    "start_time": "2021-07-14T18:42:47.482Z"
   },
   {
    "duration": 465,
    "start_time": "2021-07-14T18:43:12.059Z"
   },
   {
    "duration": 386,
    "start_time": "2021-07-14T18:43:15.319Z"
   },
   {
    "duration": 384,
    "start_time": "2021-07-14T18:44:49.901Z"
   },
   {
    "duration": 360,
    "start_time": "2021-07-14T18:45:59.484Z"
   },
   {
    "duration": 361,
    "start_time": "2021-07-14T18:46:06.814Z"
   },
   {
    "duration": 1008,
    "start_time": "2021-07-14T18:46:18.516Z"
   },
   {
    "duration": 26,
    "start_time": "2021-07-14T18:46:19.526Z"
   },
   {
    "duration": 14,
    "start_time": "2021-07-14T18:46:19.556Z"
   },
   {
    "duration": 25,
    "start_time": "2021-07-14T18:46:19.571Z"
   },
   {
    "duration": 6,
    "start_time": "2021-07-14T18:46:19.597Z"
   },
   {
    "duration": 10,
    "start_time": "2021-07-14T18:46:19.604Z"
   },
   {
    "duration": 5,
    "start_time": "2021-07-14T18:46:19.616Z"
   },
   {
    "duration": 10,
    "start_time": "2021-07-14T18:46:19.622Z"
   },
   {
    "duration": 333,
    "start_time": "2021-07-14T18:46:19.633Z"
   },
   {
    "duration": 295,
    "start_time": "2021-07-14T18:48:05.108Z"
   },
   {
    "duration": 293,
    "start_time": "2021-07-14T18:49:20.593Z"
   },
   {
    "duration": 294,
    "start_time": "2021-07-14T18:49:28.984Z"
   },
   {
    "duration": 303,
    "start_time": "2021-07-14T18:50:14.459Z"
   },
   {
    "duration": 127,
    "start_time": "2021-07-14T19:05:38.929Z"
   },
   {
    "duration": 117,
    "start_time": "2021-07-14T19:08:39.503Z"
   },
   {
    "duration": 185,
    "start_time": "2021-07-14T19:08:45.267Z"
   },
   {
    "duration": 1431,
    "start_time": "2021-07-15T11:10:17.889Z"
   },
   {
    "duration": 33,
    "start_time": "2021-07-15T11:10:19.323Z"
   },
   {
    "duration": 24,
    "start_time": "2021-07-15T11:10:19.363Z"
   },
   {
    "duration": 24,
    "start_time": "2021-07-15T11:10:19.389Z"
   },
   {
    "duration": 9,
    "start_time": "2021-07-15T11:10:19.415Z"
   },
   {
    "duration": 15,
    "start_time": "2021-07-15T11:10:19.455Z"
   },
   {
    "duration": 8,
    "start_time": "2021-07-15T11:10:19.473Z"
   },
   {
    "duration": 253,
    "start_time": "2021-07-15T11:10:19.484Z"
   },
   {
    "duration": 267,
    "start_time": "2021-07-15T11:10:19.740Z"
   },
   {
    "duration": 36,
    "start_time": "2021-07-15T11:10:20.010Z"
   },
   {
    "duration": 650,
    "start_time": "2021-07-15T11:10:20.050Z"
   },
   {
    "duration": 586,
    "start_time": "2021-07-15T11:10:20.703Z"
   },
   {
    "duration": 430,
    "start_time": "2021-07-15T11:34:19.237Z"
   },
   {
    "duration": 6221,
    "start_time": "2021-07-15T11:40:14.804Z"
   },
   {
    "duration": 61,
    "start_time": "2021-07-15T11:40:38.374Z"
   },
   {
    "duration": 43,
    "start_time": "2021-07-15T11:47:19.457Z"
   },
   {
    "duration": 8,
    "start_time": "2021-07-15T11:48:14.895Z"
   },
   {
    "duration": 12,
    "start_time": "2021-07-15T11:48:35.038Z"
   },
   {
    "duration": 12,
    "start_time": "2021-07-15T11:48:48.830Z"
   },
   {
    "duration": 16,
    "start_time": "2021-07-15T11:49:08.670Z"
   },
   {
    "duration": 12,
    "start_time": "2021-07-15T11:49:14.910Z"
   },
   {
    "duration": 17,
    "start_time": "2021-07-15T11:49:18.590Z"
   },
   {
    "duration": 7472,
    "start_time": "2021-07-15T12:11:14.650Z"
   },
   {
    "duration": 282,
    "start_time": "2021-07-15T12:11:35.161Z"
   },
   {
    "duration": 286,
    "start_time": "2021-07-15T12:12:09.192Z"
   },
   {
    "duration": 383,
    "start_time": "2021-07-15T12:21:45.015Z"
   },
   {
    "duration": 125,
    "start_time": "2021-07-15T12:22:27.716Z"
   },
   {
    "duration": 50919,
    "start_time": "2021-07-15T12:22:31.604Z"
   },
   {
    "duration": 295,
    "start_time": "2021-07-15T12:24:02.851Z"
   },
   {
    "duration": 25316,
    "start_time": "2021-07-15T12:24:26.483Z"
   },
   {
    "duration": 361,
    "start_time": "2021-07-15T12:26:32.675Z"
   },
   {
    "duration": 273,
    "start_time": "2021-07-15T12:28:34.644Z"
   },
   {
    "duration": 287,
    "start_time": "2021-07-15T12:33:49.203Z"
   },
   {
    "duration": 25546,
    "start_time": "2021-07-15T12:35:00.848Z"
   },
   {
    "duration": 37,
    "start_time": "2021-07-15T12:37:49.570Z"
   },
   {
    "duration": 1455,
    "start_time": "2021-07-15T12:38:28.484Z"
   },
   {
    "duration": 38,
    "start_time": "2021-07-15T12:38:29.942Z"
   },
   {
    "duration": 28,
    "start_time": "2021-07-15T12:38:29.983Z"
   },
   {
    "duration": 46,
    "start_time": "2021-07-15T12:38:30.014Z"
   },
   {
    "duration": 19,
    "start_time": "2021-07-15T12:38:30.064Z"
   },
   {
    "duration": 17,
    "start_time": "2021-07-15T12:38:30.087Z"
   },
   {
    "duration": 11,
    "start_time": "2021-07-15T12:38:30.108Z"
   },
   {
    "duration": 238,
    "start_time": "2021-07-15T12:38:30.157Z"
   },
   {
    "duration": 239,
    "start_time": "2021-07-15T12:38:30.398Z"
   },
   {
    "duration": 30,
    "start_time": "2021-07-15T12:38:30.639Z"
   },
   {
    "duration": 624,
    "start_time": "2021-07-15T12:38:30.672Z"
   },
   {
    "duration": 597,
    "start_time": "2021-07-15T12:38:31.298Z"
   },
   {
    "duration": 36,
    "start_time": "2021-07-15T12:38:31.897Z"
   },
   {
    "duration": 42,
    "start_time": "2021-07-15T12:38:31.935Z"
   },
   {
    "duration": 413,
    "start_time": "2021-07-15T12:38:31.979Z"
   },
   {
    "duration": -63,
    "start_time": "2021-07-15T12:38:32.458Z"
   },
   {
    "duration": -63,
    "start_time": "2021-07-15T12:38:32.461Z"
   },
   {
    "duration": 3414,
    "start_time": "2021-07-15T12:46:31.521Z"
   },
   {
    "duration": 8,
    "start_time": "2021-07-15T12:47:35.117Z"
   },
   {
    "duration": 13,
    "start_time": "2021-07-15T12:47:45.453Z"
   },
   {
    "duration": 4,
    "start_time": "2021-07-15T12:59:52.220Z"
   },
   {
    "duration": 307,
    "start_time": "2021-07-15T12:59:52.971Z"
   },
   {
    "duration": 2784,
    "start_time": "2021-07-15T12:59:59.546Z"
   },
   {
    "duration": 16,
    "start_time": "2021-07-15T13:00:28.954Z"
   },
   {
    "duration": 1414,
    "start_time": "2021-07-15T13:00:31.264Z"
   },
   {
    "duration": 3,
    "start_time": "2021-07-15T13:00:49.018Z"
   },
   {
    "duration": 3678,
    "start_time": "2021-07-15T13:00:50.714Z"
   },
   {
    "duration": 39,
    "start_time": "2021-07-15T13:00:59.340Z"
   },
   {
    "duration": 4,
    "start_time": "2021-07-15T13:02:08.776Z"
   },
   {
    "duration": 2699,
    "start_time": "2021-07-15T13:02:41.336Z"
   },
   {
    "duration": 28,
    "start_time": "2021-07-15T13:02:47.802Z"
   },
   {
    "duration": 7,
    "start_time": "2021-07-15T13:03:06.216Z"
   },
   {
    "duration": 4,
    "start_time": "2021-07-15T13:03:20.441Z"
   },
   {
    "duration": 2737,
    "start_time": "2021-07-15T13:03:21.209Z"
   },
   {
    "duration": 33,
    "start_time": "2021-07-15T13:03:24.954Z"
   },
   {
    "duration": 3,
    "start_time": "2021-07-15T13:03:50.120Z"
   },
   {
    "duration": 4,
    "start_time": "2021-07-15T13:03:50.919Z"
   },
   {
    "duration": 2838,
    "start_time": "2021-07-15T13:03:53.016Z"
   },
   {
    "duration": 30,
    "start_time": "2021-07-15T13:03:56.905Z"
   },
   {
    "duration": 2686,
    "start_time": "2021-07-15T13:04:06.664Z"
   },
   {
    "duration": 38,
    "start_time": "2021-07-15T13:04:11.338Z"
   },
   {
    "duration": 6,
    "start_time": "2021-07-15T13:04:29.928Z"
   },
   {
    "duration": 2734,
    "start_time": "2021-07-15T13:04:41.735Z"
   },
   {
    "duration": 47,
    "start_time": "2021-07-15T13:04:46.410Z"
   },
   {
    "duration": 4,
    "start_time": "2021-07-15T13:04:58.601Z"
   },
   {
    "duration": 2722,
    "start_time": "2021-07-15T13:05:01.129Z"
   },
   {
    "duration": 37,
    "start_time": "2021-07-15T13:05:04.745Z"
   },
   {
    "duration": 7,
    "start_time": "2021-07-15T13:05:06.777Z"
   },
   {
    "duration": 4,
    "start_time": "2021-07-15T13:05:56.472Z"
   },
   {
    "duration": 2757,
    "start_time": "2021-07-15T13:05:58.311Z"
   },
   {
    "duration": 30,
    "start_time": "2021-07-15T13:06:04.072Z"
   },
   {
    "duration": 6,
    "start_time": "2021-07-15T13:06:07.447Z"
   },
   {
    "duration": 1719,
    "start_time": "2021-07-15T13:06:21.078Z"
   },
   {
    "duration": 44,
    "start_time": "2021-07-15T13:06:22.799Z"
   },
   {
    "duration": 44,
    "start_time": "2021-07-15T13:06:22.847Z"
   },
   {
    "duration": 41,
    "start_time": "2021-07-15T13:06:22.895Z"
   },
   {
    "duration": 31,
    "start_time": "2021-07-15T13:06:22.940Z"
   },
   {
    "duration": 24,
    "start_time": "2021-07-15T13:06:22.974Z"
   },
   {
    "duration": 13,
    "start_time": "2021-07-15T13:06:23.001Z"
   },
   {
    "duration": 260,
    "start_time": "2021-07-15T13:06:23.020Z"
   },
   {
    "duration": 322,
    "start_time": "2021-07-15T13:06:23.282Z"
   },
   {
    "duration": 24,
    "start_time": "2021-07-15T13:06:23.608Z"
   },
   {
    "duration": 647,
    "start_time": "2021-07-15T13:06:23.635Z"
   },
   {
    "duration": 618,
    "start_time": "2021-07-15T13:06:24.285Z"
   },
   {
    "duration": 9,
    "start_time": "2021-07-15T13:06:24.905Z"
   },
   {
    "duration": 71,
    "start_time": "2021-07-15T13:06:24.918Z"
   },
   {
    "duration": 15,
    "start_time": "2021-07-15T13:06:24.991Z"
   },
   {
    "duration": 454,
    "start_time": "2021-07-15T13:06:25.008Z"
   },
   {
    "duration": -68,
    "start_time": "2021-07-15T13:06:25.534Z"
   },
   {
    "duration": -69,
    "start_time": "2021-07-15T13:06:25.538Z"
   },
   {
    "duration": -82,
    "start_time": "2021-07-15T13:06:25.553Z"
   },
   {
    "duration": -89,
    "start_time": "2021-07-15T13:06:25.561Z"
   },
   {
    "duration": -97,
    "start_time": "2021-07-15T13:06:25.571Z"
   },
   {
    "duration": 9,
    "start_time": "2021-07-15T13:06:28.280Z"
   },
   {
    "duration": 4,
    "start_time": "2021-07-15T13:06:29.591Z"
   },
   {
    "duration": 3993,
    "start_time": "2021-07-15T13:06:30.327Z"
   },
   {
    "duration": 38,
    "start_time": "2021-07-15T13:06:35.352Z"
   },
   {
    "duration": 7,
    "start_time": "2021-07-15T13:06:42.072Z"
   },
   {
    "duration": 2889,
    "start_time": "2021-07-15T13:06:50.279Z"
   },
   {
    "duration": 31,
    "start_time": "2021-07-15T13:06:54.775Z"
   },
   {
    "duration": 6,
    "start_time": "2021-07-15T13:06:56.999Z"
   },
   {
    "duration": 3,
    "start_time": "2021-07-15T13:07:16.088Z"
   },
   {
    "duration": 2919,
    "start_time": "2021-07-15T13:07:16.765Z"
   },
   {
    "duration": 30,
    "start_time": "2021-07-15T13:07:19.687Z"
   },
   {
    "duration": 4,
    "start_time": "2021-07-15T13:07:35.464Z"
   },
   {
    "duration": 2904,
    "start_time": "2021-07-15T13:07:36.184Z"
   },
   {
    "duration": 8,
    "start_time": "2021-07-15T13:07:41.512Z"
   },
   {
    "duration": 5,
    "start_time": "2021-07-15T13:08:25.719Z"
   },
   {
    "duration": 2964,
    "start_time": "2021-07-15T13:08:27.671Z"
   },
   {
    "duration": 32,
    "start_time": "2021-07-15T13:08:33.383Z"
   },
   {
    "duration": 7,
    "start_time": "2021-07-15T13:08:37.302Z"
   },
   {
    "duration": 224,
    "start_time": "2021-07-15T13:08:51.590Z"
   },
   {
    "duration": 4,
    "start_time": "2021-07-15T13:08:55.142Z"
   },
   {
    "duration": 2855,
    "start_time": "2021-07-15T13:08:56.103Z"
   },
   {
    "duration": 31,
    "start_time": "2021-07-15T13:09:01.911Z"
   },
   {
    "duration": 4,
    "start_time": "2021-07-15T13:10:13.175Z"
   },
   {
    "duration": 2892,
    "start_time": "2021-07-15T13:10:13.895Z"
   },
   {
    "duration": 38,
    "start_time": "2021-07-15T13:10:17.639Z"
   },
   {
    "duration": 7,
    "start_time": "2021-07-15T13:10:35.894Z"
   },
   {
    "duration": 7,
    "start_time": "2021-07-15T13:10:40.677Z"
   },
   {
    "duration": 4,
    "start_time": "2021-07-15T13:11:18.406Z"
   },
   {
    "duration": 2799,
    "start_time": "2021-07-15T13:11:19.238Z"
   },
   {
    "duration": 6,
    "start_time": "2021-07-15T13:11:24.150Z"
   },
   {
    "duration": 4,
    "start_time": "2021-07-15T13:11:30.805Z"
   },
   {
    "duration": 3014,
    "start_time": "2021-07-15T13:11:32.213Z"
   },
   {
    "duration": 7,
    "start_time": "2021-07-15T13:11:37.382Z"
   },
   {
    "duration": 4,
    "start_time": "2021-07-15T13:12:03.253Z"
   },
   {
    "duration": 3002,
    "start_time": "2021-07-15T13:12:06.277Z"
   },
   {
    "duration": 39,
    "start_time": "2021-07-15T13:12:10.245Z"
   },
   {
    "duration": 7,
    "start_time": "2021-07-15T13:12:14.181Z"
   },
   {
    "duration": 3,
    "start_time": "2021-07-15T13:13:10.933Z"
   },
   {
    "duration": 2919,
    "start_time": "2021-07-15T13:13:16.500Z"
   },
   {
    "duration": 31,
    "start_time": "2021-07-15T13:13:20.182Z"
   },
   {
    "duration": 4,
    "start_time": "2021-07-15T13:13:44.707Z"
   },
   {
    "duration": 4,
    "start_time": "2021-07-15T13:13:56.212Z"
   },
   {
    "duration": 2982,
    "start_time": "2021-07-15T13:13:57.236Z"
   },
   {
    "duration": 35,
    "start_time": "2021-07-15T13:14:03.061Z"
   },
   {
    "duration": 3,
    "start_time": "2021-07-15T13:14:27.812Z"
   },
   {
    "duration": 2963,
    "start_time": "2021-07-15T13:14:29.365Z"
   },
   {
    "duration": 44,
    "start_time": "2021-07-15T13:14:34.533Z"
   },
   {
    "duration": 8,
    "start_time": "2021-07-15T13:14:40.532Z"
   },
   {
    "duration": 3,
    "start_time": "2021-07-15T13:15:50.020Z"
   },
   {
    "duration": 2762,
    "start_time": "2021-07-15T13:15:50.804Z"
   },
   {
    "duration": 47,
    "start_time": "2021-07-15T13:15:54.437Z"
   },
   {
    "duration": 14,
    "start_time": "2021-07-15T13:16:00.757Z"
   },
   {
    "duration": 4,
    "start_time": "2021-07-15T13:16:27.747Z"
   },
   {
    "duration": 2880,
    "start_time": "2021-07-15T13:16:29.668Z"
   },
   {
    "duration": 52,
    "start_time": "2021-07-15T13:16:36.821Z"
   },
   {
    "duration": 2693,
    "start_time": "2021-07-15T13:17:09.365Z"
   },
   {
    "duration": 31,
    "start_time": "2021-07-15T13:17:13.219Z"
   },
   {
    "duration": 2647,
    "start_time": "2021-07-15T13:17:20.579Z"
   },
   {
    "duration": 41,
    "start_time": "2021-07-15T13:17:24.244Z"
   },
   {
    "duration": 6,
    "start_time": "2021-07-15T13:17:41.747Z"
   },
   {
    "duration": 2768,
    "start_time": "2021-07-15T13:18:06.259Z"
   },
   {
    "duration": 37,
    "start_time": "2021-07-15T13:18:10.339Z"
   },
   {
    "duration": 6,
    "start_time": "2021-07-15T13:18:20.227Z"
   },
   {
    "duration": 5,
    "start_time": "2021-07-15T13:18:24.451Z"
   },
   {
    "duration": 2644,
    "start_time": "2021-07-15T13:18:25.955Z"
   },
   {
    "duration": 32,
    "start_time": "2021-07-15T13:18:29.412Z"
   },
   {
    "duration": 7,
    "start_time": "2021-07-15T13:18:31.603Z"
   },
   {
    "duration": 2705,
    "start_time": "2021-07-15T13:18:46.338Z"
   },
   {
    "duration": 64,
    "start_time": "2021-07-15T13:18:49.860Z"
   },
   {
    "duration": 7,
    "start_time": "2021-07-15T13:19:01.731Z"
   },
   {
    "duration": 2731,
    "start_time": "2021-07-15T13:19:17.090Z"
   },
   {
    "duration": 36,
    "start_time": "2021-07-15T13:19:20.739Z"
   },
   {
    "duration": 2761,
    "start_time": "2021-07-15T13:19:39.778Z"
   },
   {
    "duration": 36,
    "start_time": "2021-07-15T13:19:43.539Z"
   },
   {
    "duration": 2621,
    "start_time": "2021-07-15T13:19:49.506Z"
   },
   {
    "duration": 31,
    "start_time": "2021-07-15T13:19:52.979Z"
   },
   {
    "duration": 6,
    "start_time": "2021-07-15T13:20:13.746Z"
   },
   {
    "duration": 294,
    "start_time": "2021-07-15T13:20:50.855Z"
   },
   {
    "duration": 6,
    "start_time": "2021-07-15T13:20:57.202Z"
   },
   {
    "duration": 6,
    "start_time": "2021-07-15T13:21:02.419Z"
   },
   {
    "duration": 2891,
    "start_time": "2021-07-15T13:21:12.691Z"
   },
   {
    "duration": 44,
    "start_time": "2021-07-15T13:21:17.891Z"
   },
   {
    "duration": 7,
    "start_time": "2021-07-15T13:21:38.722Z"
   },
   {
    "duration": 552,
    "start_time": "2021-07-15T13:28:03.917Z"
   },
   {
    "duration": 5,
    "start_time": "2021-07-15T13:28:26.032Z"
   },
   {
    "duration": 2463,
    "start_time": "2021-07-15T13:31:05.664Z"
   },
   {
    "duration": 6,
    "start_time": "2021-07-15T13:31:09.632Z"
   },
   {
    "duration": 2580,
    "start_time": "2021-07-15T13:31:29.999Z"
   },
   {
    "duration": 6,
    "start_time": "2021-07-15T13:31:38.016Z"
   },
   {
    "duration": 2474,
    "start_time": "2021-07-15T13:31:56.559Z"
   },
   {
    "duration": 2517,
    "start_time": "2021-07-15T13:32:29.519Z"
   },
   {
    "duration": 7,
    "start_time": "2021-07-15T13:32:34.319Z"
   },
   {
    "duration": 7,
    "start_time": "2021-07-15T13:32:48.110Z"
   },
   {
    "duration": 7,
    "start_time": "2021-07-15T13:32:51.054Z"
   },
   {
    "duration": 8,
    "start_time": "2021-07-15T13:32:57.774Z"
   },
   {
    "duration": 7,
    "start_time": "2021-07-15T13:32:58.814Z"
   },
   {
    "duration": 8,
    "start_time": "2021-07-15T13:33:03.534Z"
   },
   {
    "duration": 6,
    "start_time": "2021-07-15T13:33:04.655Z"
   },
   {
    "duration": 8,
    "start_time": "2021-07-15T13:33:53.694Z"
   },
   {
    "duration": 7,
    "start_time": "2021-07-15T13:33:55.822Z"
   },
   {
    "duration": 33,
    "start_time": "2021-07-15T13:34:00.801Z"
   },
   {
    "duration": 9,
    "start_time": "2021-07-15T13:34:51.726Z"
   },
   {
    "duration": 6,
    "start_time": "2021-07-15T13:34:53.454Z"
   },
   {
    "duration": 4,
    "start_time": "2021-07-15T13:35:39.310Z"
   },
   {
    "duration": 2476,
    "start_time": "2021-07-15T13:35:41.455Z"
   },
   {
    "duration": 2648,
    "start_time": "2021-07-15T13:36:17.374Z"
   },
   {
    "duration": 3,
    "start_time": "2021-07-15T13:36:48.639Z"
   },
   {
    "duration": 8,
    "start_time": "2021-07-15T13:36:49.695Z"
   },
   {
    "duration": 6,
    "start_time": "2021-07-15T13:36:52.030Z"
   },
   {
    "duration": 3,
    "start_time": "2021-07-15T13:37:02.734Z"
   },
   {
    "duration": 8,
    "start_time": "2021-07-15T13:37:03.566Z"
   },
   {
    "duration": 7,
    "start_time": "2021-07-15T13:37:04.895Z"
   },
   {
    "duration": 1931,
    "start_time": "2021-07-15T13:45:59.998Z"
   },
   {
    "duration": 8,
    "start_time": "2021-07-15T13:46:41.355Z"
   },
   {
    "duration": 12,
    "start_time": "2021-07-15T13:47:04.507Z"
   },
   {
    "duration": 8,
    "start_time": "2021-07-15T13:47:08.666Z"
   },
   {
    "duration": 32,
    "start_time": "2021-07-15T13:47:12.812Z"
   },
   {
    "duration": 8,
    "start_time": "2021-07-15T13:47:51.899Z"
   },
   {
    "duration": 32,
    "start_time": "2021-07-15T13:47:54.475Z"
   },
   {
    "duration": 9,
    "start_time": "2021-07-15T13:48:03.163Z"
   },
   {
    "duration": 38,
    "start_time": "2021-07-15T13:48:07.739Z"
   },
   {
    "duration": 8,
    "start_time": "2021-07-15T13:48:19.242Z"
   },
   {
    "duration": 32,
    "start_time": "2021-07-15T13:48:21.995Z"
   },
   {
    "duration": 8,
    "start_time": "2021-07-15T13:48:34.730Z"
   },
   {
    "duration": 30,
    "start_time": "2021-07-15T13:48:36.362Z"
   },
   {
    "duration": 9,
    "start_time": "2021-07-15T13:48:41.114Z"
   },
   {
    "duration": 32,
    "start_time": "2021-07-15T13:48:43.050Z"
   },
   {
    "duration": 9,
    "start_time": "2021-07-15T13:48:57.961Z"
   },
   {
    "duration": 33,
    "start_time": "2021-07-15T13:48:59.786Z"
   },
   {
    "duration": 9,
    "start_time": "2021-07-15T13:49:03.337Z"
   },
   {
    "duration": 32,
    "start_time": "2021-07-15T13:49:05.018Z"
   },
   {
    "duration": 1290,
    "start_time": "2021-07-15T13:50:04.521Z"
   },
   {
    "duration": 295,
    "start_time": "2021-07-15T13:50:24.969Z"
   },
   {
    "duration": 423,
    "start_time": "2021-07-15T13:50:50.393Z"
   },
   {
    "duration": 15,
    "start_time": "2021-07-15T13:50:57.993Z"
   },
   {
    "duration": 15,
    "start_time": "2021-07-15T13:51:07.129Z"
   },
   {
    "duration": 31,
    "start_time": "2021-07-15T13:51:13.066Z"
   },
   {
    "duration": 20,
    "start_time": "2021-07-15T13:51:28.456Z"
   },
   {
    "duration": 33,
    "start_time": "2021-07-15T13:51:30.521Z"
   },
   {
    "duration": 1948,
    "start_time": "2021-07-15T13:51:52.968Z"
   },
   {
    "duration": 2208,
    "start_time": "2021-07-15T13:53:25.400Z"
   },
   {
    "duration": 1420,
    "start_time": "2021-07-15T13:57:25.720Z"
   },
   {
    "duration": 4,
    "start_time": "2021-07-15T13:57:57.528Z"
   },
   {
    "duration": 1680,
    "start_time": "2021-07-15T13:57:59.960Z"
   },
   {
    "duration": 23,
    "start_time": "2021-07-15T14:01:30.120Z"
   },
   {
    "duration": 46,
    "start_time": "2021-07-15T14:01:41.799Z"
   },
   {
    "duration": 8,
    "start_time": "2021-07-15T14:02:24.550Z"
   },
   {
    "duration": 5,
    "start_time": "2021-07-15T14:02:34.774Z"
   },
   {
    "duration": 4,
    "start_time": "2021-07-15T14:02:56.134Z"
   },
   {
    "duration": 5,
    "start_time": "2021-07-15T14:02:57.894Z"
   },
   {
    "duration": 5,
    "start_time": "2021-07-15T14:03:10.068Z"
   },
   {
    "duration": 5,
    "start_time": "2021-07-15T14:03:55.556Z"
   },
   {
    "duration": 3,
    "start_time": "2021-07-15T14:03:59.386Z"
   },
   {
    "duration": 293,
    "start_time": "2021-07-15T14:04:00.806Z"
   },
   {
    "duration": 4,
    "start_time": "2021-07-15T14:04:23.620Z"
   },
   {
    "duration": 299,
    "start_time": "2021-07-15T14:04:26.388Z"
   },
   {
    "duration": 4,
    "start_time": "2021-07-15T14:07:05.685Z"
   },
   {
    "duration": 6,
    "start_time": "2021-07-15T14:07:26.564Z"
   },
   {
    "duration": 321,
    "start_time": "2021-07-15T14:08:27.043Z"
   },
   {
    "duration": 4,
    "start_time": "2021-07-15T14:08:36.612Z"
   },
   {
    "duration": 27,
    "start_time": "2021-07-15T14:08:38.404Z"
   },
   {
    "duration": 33,
    "start_time": "2021-07-15T14:09:35.395Z"
   },
   {
    "duration": 22,
    "start_time": "2021-07-15T14:14:24.530Z"
   },
   {
    "duration": 30,
    "start_time": "2021-07-15T14:14:30.275Z"
   },
   {
    "duration": 1347,
    "start_time": "2021-07-15T14:14:55.634Z"
   },
   {
    "duration": 16,
    "start_time": "2021-07-15T14:15:09.585Z"
   },
   {
    "duration": 32,
    "start_time": "2021-07-15T14:15:12.242Z"
   },
   {
    "duration": 1560,
    "start_time": "2021-07-15T14:18:24.273Z"
   },
   {
    "duration": 1343,
    "start_time": "2021-07-15T14:18:37.025Z"
   },
   {
    "duration": 1321,
    "start_time": "2021-07-15T14:19:18.833Z"
   },
   {
    "duration": 7,
    "start_time": "2021-07-15T14:36:01.469Z"
   },
   {
    "duration": 293,
    "start_time": "2021-07-15T14:36:14.859Z"
   },
   {
    "duration": 4,
    "start_time": "2021-07-15T14:36:49.547Z"
   },
   {
    "duration": 7,
    "start_time": "2021-07-15T14:36:51.498Z"
   },
   {
    "duration": 6,
    "start_time": "2021-07-15T14:37:04.891Z"
   },
   {
    "duration": 15,
    "start_time": "2021-07-15T14:37:25.546Z"
   },
   {
    "duration": 1324,
    "start_time": "2021-07-15T14:37:43.019Z"
   },
   {
    "duration": 1329,
    "start_time": "2021-07-15T14:46:33.436Z"
   },
   {
    "duration": 6,
    "start_time": "2021-07-15T14:46:40.232Z"
   },
   {
    "duration": 5,
    "start_time": "2021-07-15T14:48:12.120Z"
   },
   {
    "duration": 292,
    "start_time": "2021-07-15T14:48:30.600Z"
   },
   {
    "duration": 5,
    "start_time": "2021-07-15T14:48:35.578Z"
   },
   {
    "duration": 5,
    "start_time": "2021-07-15T14:48:53.497Z"
   },
   {
    "duration": 6,
    "start_time": "2021-07-15T14:48:59.463Z"
   },
   {
    "duration": 1474,
    "start_time": "2021-07-15T14:49:09.111Z"
   },
   {
    "duration": 5,
    "start_time": "2021-07-15T14:49:57.111Z"
   },
   {
    "duration": 6,
    "start_time": "2021-07-15T14:49:59.751Z"
   },
   {
    "duration": 5,
    "start_time": "2021-07-15T14:50:05.784Z"
   },
   {
    "duration": 6,
    "start_time": "2021-07-15T14:50:18.887Z"
   },
   {
    "duration": 4,
    "start_time": "2021-07-15T14:51:09.784Z"
   },
   {
    "duration": 4,
    "start_time": "2021-07-15T14:51:38.791Z"
   },
   {
    "duration": 1363,
    "start_time": "2021-07-15T14:51:57.527Z"
   },
   {
    "duration": 1283,
    "start_time": "2021-07-15T14:52:06.295Z"
   },
   {
    "duration": 7,
    "start_time": "2021-07-15T14:57:22.965Z"
   },
   {
    "duration": 5,
    "start_time": "2021-07-15T14:57:47.222Z"
   },
   {
    "duration": 4,
    "start_time": "2021-07-15T14:59:54.758Z"
   },
   {
    "duration": 1269,
    "start_time": "2021-07-15T14:59:57.530Z"
   },
   {
    "duration": 4,
    "start_time": "2021-07-15T15:00:07.828Z"
   },
   {
    "duration": 6,
    "start_time": "2021-07-15T15:00:10.980Z"
   },
   {
    "duration": 4,
    "start_time": "2021-07-15T15:00:17.972Z"
   },
   {
    "duration": 5,
    "start_time": "2021-07-15T15:00:20.420Z"
   },
   {
    "duration": 4,
    "start_time": "2021-07-15T15:00:25.524Z"
   },
   {
    "duration": 5,
    "start_time": "2021-07-15T15:00:26.533Z"
   },
   {
    "duration": 1334,
    "start_time": "2021-07-15T15:00:32.245Z"
   },
   {
    "duration": 5,
    "start_time": "2021-07-15T15:00:37.988Z"
   },
   {
    "duration": 6,
    "start_time": "2021-07-15T15:00:40.227Z"
   },
   {
    "duration": 4,
    "start_time": "2021-07-15T15:01:22.693Z"
   },
   {
    "duration": 5,
    "start_time": "2021-07-15T15:01:25.717Z"
   },
   {
    "duration": 6,
    "start_time": "2021-07-15T15:01:28.387Z"
   },
   {
    "duration": 5,
    "start_time": "2021-07-15T15:01:31.843Z"
   },
   {
    "duration": 6,
    "start_time": "2021-07-15T15:01:32.643Z"
   },
   {
    "duration": 1431,
    "start_time": "2021-07-15T15:01:36.661Z"
   },
   {
    "duration": 1432,
    "start_time": "2021-07-15T20:04:06.108Z"
   },
   {
    "duration": 37,
    "start_time": "2021-07-15T20:04:07.542Z"
   },
   {
    "duration": 25,
    "start_time": "2021-07-15T20:04:07.582Z"
   },
   {
    "duration": 21,
    "start_time": "2021-07-15T20:04:07.610Z"
   },
   {
    "duration": 9,
    "start_time": "2021-07-15T20:04:07.633Z"
   },
   {
    "duration": 43,
    "start_time": "2021-07-15T20:04:07.645Z"
   },
   {
    "duration": 8,
    "start_time": "2021-07-15T20:04:07.691Z"
   },
   {
    "duration": 230,
    "start_time": "2021-07-15T20:04:07.703Z"
   },
   {
    "duration": 217,
    "start_time": "2021-07-15T20:04:07.936Z"
   },
   {
    "duration": 33,
    "start_time": "2021-07-15T20:04:08.156Z"
   },
   {
    "duration": 564,
    "start_time": "2021-07-15T20:04:08.191Z"
   },
   {
    "duration": 582,
    "start_time": "2021-07-15T20:04:08.757Z"
   },
   {
    "duration": 10,
    "start_time": "2021-07-15T20:04:09.342Z"
   },
   {
    "duration": 63,
    "start_time": "2021-07-15T20:04:09.354Z"
   },
   {
    "duration": 16,
    "start_time": "2021-07-15T20:04:09.420Z"
   },
   {
    "duration": 542,
    "start_time": "2021-07-15T20:04:09.438Z"
   },
   {
    "duration": -1106,
    "start_time": "2021-07-15T20:04:11.089Z"
   },
   {
    "duration": -1116,
    "start_time": "2021-07-15T20:04:11.101Z"
   },
   {
    "duration": -1126,
    "start_time": "2021-07-15T20:04:11.112Z"
   },
   {
    "duration": -1138,
    "start_time": "2021-07-15T20:04:11.126Z"
   },
   {
    "duration": -1148,
    "start_time": "2021-07-15T20:04:11.138Z"
   },
   {
    "duration": -1155,
    "start_time": "2021-07-15T20:04:11.147Z"
   },
   {
    "duration": -1163,
    "start_time": "2021-07-15T20:04:11.157Z"
   },
   {
    "duration": -1171,
    "start_time": "2021-07-15T20:04:11.166Z"
   },
   {
    "duration": -1196,
    "start_time": "2021-07-15T20:04:11.192Z"
   },
   {
    "duration": -1204,
    "start_time": "2021-07-15T20:04:11.202Z"
   },
   {
    "duration": -1212,
    "start_time": "2021-07-15T20:04:11.212Z"
   },
   {
    "duration": -1222,
    "start_time": "2021-07-15T20:04:11.229Z"
   },
   {
    "duration": -1230,
    "start_time": "2021-07-15T20:04:11.239Z"
   },
   {
    "duration": -1236,
    "start_time": "2021-07-15T20:04:11.247Z"
   },
   {
    "duration": -1246,
    "start_time": "2021-07-15T20:04:11.258Z"
   },
   {
    "duration": -1263,
    "start_time": "2021-07-15T20:04:11.277Z"
   },
   {
    "duration": -1277,
    "start_time": "2021-07-15T20:04:11.292Z"
   },
   {
    "duration": -1319,
    "start_time": "2021-07-15T20:04:11.335Z"
   },
   {
    "duration": -1333,
    "start_time": "2021-07-15T20:04:11.350Z"
   },
   {
    "duration": 576,
    "start_time": "2021-07-15T20:05:24.154Z"
   },
   {
    "duration": 4,
    "start_time": "2021-07-15T20:05:46.776Z"
   },
   {
    "duration": 338,
    "start_time": "2021-07-15T20:05:51.330Z"
   },
   {
    "duration": 33,
    "start_time": "2021-07-15T20:05:56.596Z"
   },
   {
    "duration": 6,
    "start_time": "2021-07-15T20:06:22.309Z"
   },
   {
    "duration": 451,
    "start_time": "2021-07-15T20:06:58.717Z"
   },
   {
    "duration": 1397,
    "start_time": "2021-07-15T20:09:57.310Z"
   },
   {
    "duration": 311,
    "start_time": "2021-07-15T20:11:16.740Z"
   },
   {
    "duration": 168,
    "start_time": "2021-07-15T20:11:58.777Z"
   },
   {
    "duration": 3,
    "start_time": "2021-07-15T20:39:13.832Z"
   },
   {
    "duration": 9,
    "start_time": "2021-07-15T20:39:42.314Z"
   },
   {
    "duration": 30,
    "start_time": "2021-07-15T20:39:45.487Z"
   },
   {
    "duration": 6,
    "start_time": "2021-07-15T20:40:25.169Z"
   },
   {
    "duration": 3,
    "start_time": "2021-07-15T20:41:11.498Z"
   },
   {
    "duration": 9,
    "start_time": "2021-07-15T20:41:13.173Z"
   },
   {
    "duration": 31,
    "start_time": "2021-07-15T20:41:15.654Z"
   },
   {
    "duration": 6,
    "start_time": "2021-07-15T20:41:19.457Z"
   },
   {
    "duration": 4,
    "start_time": "2021-07-15T20:45:14.017Z"
   },
   {
    "duration": 5,
    "start_time": "2021-07-15T20:45:43.759Z"
   },
   {
    "duration": 7,
    "start_time": "2021-07-15T20:45:50.283Z"
   },
   {
    "duration": 32,
    "start_time": "2021-07-15T20:45:51.965Z"
   },
   {
    "duration": 7,
    "start_time": "2021-07-15T20:45:55.568Z"
   },
   {
    "duration": 297,
    "start_time": "2021-07-15T20:46:19.305Z"
   },
   {
    "duration": 4,
    "start_time": "2021-07-15T20:46:34.990Z"
   },
   {
    "duration": 7,
    "start_time": "2021-07-15T20:46:49.098Z"
   },
   {
    "duration": 30,
    "start_time": "2021-07-15T20:46:50.643Z"
   },
   {
    "duration": 8,
    "start_time": "2021-07-15T20:46:53.981Z"
   },
   {
    "duration": 4,
    "start_time": "2021-07-15T20:47:20.648Z"
   },
   {
    "duration": 8,
    "start_time": "2021-07-15T20:47:28.510Z"
   },
   {
    "duration": 30,
    "start_time": "2021-07-15T20:47:29.341Z"
   },
   {
    "duration": 6,
    "start_time": "2021-07-15T20:47:32.189Z"
   },
   {
    "duration": 1480,
    "start_time": "2021-07-15T20:48:01.788Z"
   },
   {
    "duration": 35,
    "start_time": "2021-07-15T20:48:03.271Z"
   },
   {
    "duration": 30,
    "start_time": "2021-07-15T20:48:03.309Z"
   },
   {
    "duration": 47,
    "start_time": "2021-07-15T20:48:03.342Z"
   },
   {
    "duration": 9,
    "start_time": "2021-07-15T20:48:03.392Z"
   },
   {
    "duration": 27,
    "start_time": "2021-07-15T20:48:03.403Z"
   },
   {
    "duration": 10,
    "start_time": "2021-07-15T20:48:03.433Z"
   },
   {
    "duration": 246,
    "start_time": "2021-07-15T20:48:03.446Z"
   },
   {
    "duration": 226,
    "start_time": "2021-07-15T20:48:03.695Z"
   },
   {
    "duration": 18,
    "start_time": "2021-07-15T20:48:03.923Z"
   },
   {
    "duration": 689,
    "start_time": "2021-07-15T20:48:03.943Z"
   },
   {
    "duration": 599,
    "start_time": "2021-07-15T20:48:04.634Z"
   },
   {
    "duration": 8,
    "start_time": "2021-07-15T20:48:05.236Z"
   },
   {
    "duration": 64,
    "start_time": "2021-07-15T20:48:05.247Z"
   },
   {
    "duration": 23,
    "start_time": "2021-07-15T20:48:05.314Z"
   },
   {
    "duration": 438,
    "start_time": "2021-07-15T20:48:05.340Z"
   },
   {
    "duration": -1215,
    "start_time": "2021-07-15T20:48:06.997Z"
   },
   {
    "duration": -1318,
    "start_time": "2021-07-15T20:48:07.101Z"
   },
   {
    "duration": -1340,
    "start_time": "2021-07-15T20:48:07.124Z"
   },
   {
    "duration": -1349,
    "start_time": "2021-07-15T20:48:07.135Z"
   },
   {
    "duration": -1359,
    "start_time": "2021-07-15T20:48:07.146Z"
   },
   {
    "duration": -1368,
    "start_time": "2021-07-15T20:48:07.157Z"
   },
   {
    "duration": -1379,
    "start_time": "2021-07-15T20:48:07.169Z"
   },
   {
    "duration": -1390,
    "start_time": "2021-07-15T20:48:07.181Z"
   },
   {
    "duration": -1421,
    "start_time": "2021-07-15T20:48:07.214Z"
   },
   {
    "duration": -1432,
    "start_time": "2021-07-15T20:48:07.226Z"
   },
   {
    "duration": -1442,
    "start_time": "2021-07-15T20:48:07.237Z"
   },
   {
    "duration": -1449,
    "start_time": "2021-07-15T20:48:07.246Z"
   },
   {
    "duration": -1461,
    "start_time": "2021-07-15T20:48:07.259Z"
   },
   {
    "duration": -1473,
    "start_time": "2021-07-15T20:48:07.272Z"
   },
   {
    "duration": -1483,
    "start_time": "2021-07-15T20:48:07.284Z"
   },
   {
    "duration": -1492,
    "start_time": "2021-07-15T20:48:07.294Z"
   },
   {
    "duration": -1501,
    "start_time": "2021-07-15T20:48:07.304Z"
   },
   {
    "duration": -1531,
    "start_time": "2021-07-15T20:48:07.336Z"
   },
   {
    "duration": -1553,
    "start_time": "2021-07-15T20:48:07.359Z"
   },
   {
    "duration": -1563,
    "start_time": "2021-07-15T20:48:07.370Z"
   },
   {
    "duration": -1571,
    "start_time": "2021-07-15T20:48:07.380Z"
   },
   {
    "duration": -1582,
    "start_time": "2021-07-15T20:48:07.392Z"
   },
   {
    "duration": -1591,
    "start_time": "2021-07-15T20:48:07.402Z"
   },
   {
    "duration": -1598,
    "start_time": "2021-07-15T20:48:07.411Z"
   },
   {
    "duration": -1611,
    "start_time": "2021-07-15T20:48:07.425Z"
   },
   {
    "duration": -1640,
    "start_time": "2021-07-15T20:48:07.455Z"
   },
   {
    "duration": -1653,
    "start_time": "2021-07-15T20:48:07.469Z"
   },
   {
    "duration": -1663,
    "start_time": "2021-07-15T20:48:07.481Z"
   },
   {
    "duration": -1674,
    "start_time": "2021-07-15T20:48:07.493Z"
   },
   {
    "duration": 4,
    "start_time": "2021-07-15T20:48:15.169Z"
   },
   {
    "duration": 4,
    "start_time": "2021-07-15T20:48:17.798Z"
   },
   {
    "duration": 4,
    "start_time": "2021-07-15T20:48:31.751Z"
   },
   {
    "duration": 10,
    "start_time": "2021-07-15T20:48:35.617Z"
   },
   {
    "duration": 31,
    "start_time": "2021-07-15T20:48:36.744Z"
   },
   {
    "duration": 6,
    "start_time": "2021-07-15T20:48:39.609Z"
   },
   {
    "duration": 102,
    "start_time": "2021-07-15T20:50:08.190Z"
   },
   {
    "duration": 5,
    "start_time": "2021-07-15T20:52:32.948Z"
   },
   {
    "duration": 11,
    "start_time": "2021-07-15T20:52:41.759Z"
   },
   {
    "duration": 31,
    "start_time": "2021-07-15T20:52:42.678Z"
   },
   {
    "duration": 8,
    "start_time": "2021-07-15T20:52:46.042Z"
   },
   {
    "duration": 91,
    "start_time": "2021-07-15T20:53:43.571Z"
   },
   {
    "duration": 106,
    "start_time": "2021-07-15T20:53:47.917Z"
   },
   {
    "duration": 97,
    "start_time": "2021-07-15T21:06:20.187Z"
   },
   {
    "duration": 100,
    "start_time": "2021-07-15T21:07:07.567Z"
   },
   {
    "duration": 149,
    "start_time": "2021-07-15T21:07:08.925Z"
   },
   {
    "duration": 92,
    "start_time": "2021-07-15T21:07:21.626Z"
   },
   {
    "duration": 150,
    "start_time": "2021-07-15T21:29:09.281Z"
   },
   {
    "duration": 97,
    "start_time": "2021-07-15T21:29:11.016Z"
   },
   {
    "duration": 99,
    "start_time": "2021-07-15T21:29:41.326Z"
   },
   {
    "duration": 151,
    "start_time": "2021-07-15T21:29:51.567Z"
   },
   {
    "duration": 103,
    "start_time": "2021-07-15T21:30:08.413Z"
   },
   {
    "duration": 4,
    "start_time": "2021-07-15T21:34:30.039Z"
   },
   {
    "duration": 13,
    "start_time": "2021-07-15T21:35:01.315Z"
   },
   {
    "duration": 31,
    "start_time": "2021-07-15T21:35:02.273Z"
   },
   {
    "duration": 6,
    "start_time": "2021-07-15T21:35:08.653Z"
   },
   {
    "duration": 106,
    "start_time": "2021-07-15T21:35:36.253Z"
   },
   {
    "duration": 106,
    "start_time": "2021-07-15T21:35:48.321Z"
   },
   {
    "duration": 4,
    "start_time": "2021-07-15T21:35:57.689Z"
   },
   {
    "duration": 3,
    "start_time": "2021-07-15T21:36:35.011Z"
   },
   {
    "duration": 12,
    "start_time": "2021-07-15T21:36:39.453Z"
   },
   {
    "duration": 30,
    "start_time": "2021-07-15T21:36:40.473Z"
   },
   {
    "duration": 100,
    "start_time": "2021-07-15T21:38:59.806Z"
   },
   {
    "duration": 168,
    "start_time": "2021-07-15T21:39:04.299Z"
   },
   {
    "duration": 144,
    "start_time": "2021-07-15T21:39:11.046Z"
   },
   {
    "duration": 100,
    "start_time": "2021-07-15T21:39:15.546Z"
   },
   {
    "duration": 130,
    "start_time": "2021-07-15T21:39:45.537Z"
   },
   {
    "duration": 1543,
    "start_time": "2021-07-16T07:20:00.169Z"
   },
   {
    "duration": 35,
    "start_time": "2021-07-16T07:20:01.715Z"
   },
   {
    "duration": 28,
    "start_time": "2021-07-16T07:20:01.753Z"
   },
   {
    "duration": 24,
    "start_time": "2021-07-16T07:20:01.785Z"
   },
   {
    "duration": 11,
    "start_time": "2021-07-16T07:20:01.812Z"
   },
   {
    "duration": 18,
    "start_time": "2021-07-16T07:20:01.857Z"
   },
   {
    "duration": 12,
    "start_time": "2021-07-16T07:20:01.878Z"
   },
   {
    "duration": 252,
    "start_time": "2021-07-16T07:20:01.895Z"
   },
   {
    "duration": 216,
    "start_time": "2021-07-16T07:20:02.157Z"
   },
   {
    "duration": 19,
    "start_time": "2021-07-16T07:20:02.375Z"
   },
   {
    "duration": 562,
    "start_time": "2021-07-16T07:20:02.396Z"
   },
   {
    "duration": 566,
    "start_time": "2021-07-16T07:20:02.961Z"
   },
   {
    "duration": 8,
    "start_time": "2021-07-16T07:20:03.530Z"
   },
   {
    "duration": 36,
    "start_time": "2021-07-16T07:20:03.556Z"
   },
   {
    "duration": 16,
    "start_time": "2021-07-16T07:20:03.595Z"
   },
   {
    "duration": 823,
    "start_time": "2021-07-16T07:20:03.613Z"
   },
   {
    "duration": 2106,
    "start_time": "2021-07-16T07:20:02.334Z"
   },
   {
    "duration": 2088,
    "start_time": "2021-07-16T07:20:02.353Z"
   },
   {
    "duration": 2082,
    "start_time": "2021-07-16T07:20:02.361Z"
   },
   {
    "duration": 2079,
    "start_time": "2021-07-16T07:20:02.365Z"
   },
   {
    "duration": 2077,
    "start_time": "2021-07-16T07:20:02.368Z"
   },
   {
    "duration": 2074,
    "start_time": "2021-07-16T07:20:02.372Z"
   },
   {
    "duration": 2059,
    "start_time": "2021-07-16T07:20:02.389Z"
   },
   {
    "duration": 2057,
    "start_time": "2021-07-16T07:20:02.392Z"
   },
   {
    "duration": 2054,
    "start_time": "2021-07-16T07:20:02.396Z"
   },
   {
    "duration": 2048,
    "start_time": "2021-07-16T07:20:02.403Z"
   },
   {
    "duration": 2043,
    "start_time": "2021-07-16T07:20:02.409Z"
   },
   {
    "duration": 2041,
    "start_time": "2021-07-16T07:20:02.413Z"
   },
   {
    "duration": 2038,
    "start_time": "2021-07-16T07:20:02.417Z"
   },
   {
    "duration": 2027,
    "start_time": "2021-07-16T07:20:02.429Z"
   },
   {
    "duration": 2021,
    "start_time": "2021-07-16T07:20:02.436Z"
   },
   {
    "duration": 2019,
    "start_time": "2021-07-16T07:20:02.440Z"
   },
   {
    "duration": 2017,
    "start_time": "2021-07-16T07:20:02.443Z"
   },
   {
    "duration": 2015,
    "start_time": "2021-07-16T07:20:02.446Z"
   },
   {
    "duration": 2009,
    "start_time": "2021-07-16T07:20:02.454Z"
   },
   {
    "duration": 2001,
    "start_time": "2021-07-16T07:20:02.463Z"
   },
   {
    "duration": 1996,
    "start_time": "2021-07-16T07:20:02.469Z"
   },
   {
    "duration": 1960,
    "start_time": "2021-07-16T07:20:02.506Z"
   },
   {
    "duration": 1953,
    "start_time": "2021-07-16T07:20:02.515Z"
   },
   {
    "duration": 1952,
    "start_time": "2021-07-16T07:20:02.517Z"
   },
   {
    "duration": 1949,
    "start_time": "2021-07-16T07:20:02.521Z"
   },
   {
    "duration": 1947,
    "start_time": "2021-07-16T07:20:02.524Z"
   },
   {
    "duration": 1944,
    "start_time": "2021-07-16T07:20:02.529Z"
   },
   {
    "duration": 1937,
    "start_time": "2021-07-16T07:20:02.537Z"
   },
   {
    "duration": 4,
    "start_time": "2021-07-16T07:20:24.064Z"
   },
   {
    "duration": 4,
    "start_time": "2021-07-16T07:20:27.677Z"
   },
   {
    "duration": 4,
    "start_time": "2021-07-16T07:20:52.910Z"
   },
   {
    "duration": 11,
    "start_time": "2021-07-16T07:21:27.757Z"
   },
   {
    "duration": 29,
    "start_time": "2021-07-16T07:21:28.397Z"
   },
   {
    "duration": 7,
    "start_time": "2021-07-16T07:21:31.004Z"
   },
   {
    "duration": 90,
    "start_time": "2021-07-16T07:21:48.363Z"
   },
   {
    "duration": 3,
    "start_time": "2021-07-16T07:21:58.700Z"
   },
   {
    "duration": 11,
    "start_time": "2021-07-16T07:22:03.228Z"
   },
   {
    "duration": 30,
    "start_time": "2021-07-16T07:22:05.197Z"
   },
   {
    "duration": 7,
    "start_time": "2021-07-16T07:22:07.276Z"
   },
   {
    "duration": 7,
    "start_time": "2021-07-16T07:22:24.892Z"
   },
   {
    "duration": 15,
    "start_time": "2021-07-16T07:22:25.675Z"
   },
   {
    "duration": 99,
    "start_time": "2021-07-16T07:24:08.331Z"
   },
   {
    "duration": 4,
    "start_time": "2021-07-16T07:58:37.843Z"
   },
   {
    "duration": 36,
    "start_time": "2021-07-16T08:11:41.409Z"
   },
   {
    "duration": 38,
    "start_time": "2021-07-16T08:14:56.223Z"
   },
   {
    "duration": 39,
    "start_time": "2021-07-16T08:14:57.711Z"
   },
   {
    "duration": 7214,
    "start_time": "2021-07-16T08:39:45.880Z"
   },
   {
    "duration": 13,
    "start_time": "2021-07-16T08:40:36.120Z"
   },
   {
    "duration": 16,
    "start_time": "2021-07-16T08:41:08.779Z"
   },
   {
    "duration": 13,
    "start_time": "2021-07-16T08:41:10.552Z"
   },
   {
    "duration": 31,
    "start_time": "2021-07-16T08:41:27.847Z"
   },
   {
    "duration": 23,
    "start_time": "2021-07-16T08:41:52.791Z"
   },
   {
    "duration": 44,
    "start_time": "2021-07-16T08:41:59.672Z"
   },
   {
    "duration": 86,
    "start_time": "2021-07-16T08:55:34.084Z"
   },
   {
    "duration": 5,
    "start_time": "2021-07-16T08:55:39.956Z"
   },
   {
    "duration": 5,
    "start_time": "2021-07-16T09:04:49.011Z"
   },
   {
    "duration": 1435,
    "start_time": "2021-07-16T09:08:47.060Z"
   },
   {
    "duration": 33,
    "start_time": "2021-07-16T09:08:48.498Z"
   },
   {
    "duration": 27,
    "start_time": "2021-07-16T09:08:48.534Z"
   },
   {
    "duration": 23,
    "start_time": "2021-07-16T09:08:48.564Z"
   },
   {
    "duration": 9,
    "start_time": "2021-07-16T09:08:48.589Z"
   },
   {
    "duration": 14,
    "start_time": "2021-07-16T09:08:48.600Z"
   },
   {
    "duration": 9,
    "start_time": "2021-07-16T09:08:48.656Z"
   },
   {
    "duration": 228,
    "start_time": "2021-07-16T09:08:48.669Z"
   },
   {
    "duration": 216,
    "start_time": "2021-07-16T09:08:48.899Z"
   },
   {
    "duration": 16,
    "start_time": "2021-07-16T09:08:49.117Z"
   },
   {
    "duration": 556,
    "start_time": "2021-07-16T09:08:49.135Z"
   },
   {
    "duration": 554,
    "start_time": "2021-07-16T09:08:49.694Z"
   },
   {
    "duration": 28,
    "start_time": "2021-07-16T09:08:50.250Z"
   },
   {
    "duration": 78,
    "start_time": "2021-07-16T09:08:50.281Z"
   },
   {
    "duration": 34,
    "start_time": "2021-07-16T09:08:50.363Z"
   },
   {
    "duration": 11,
    "start_time": "2021-07-16T09:08:50.399Z"
   },
   {
    "duration": 399,
    "start_time": "2021-07-16T09:08:50.413Z"
   },
   {
    "duration": -32,
    "start_time": "2021-07-16T09:08:50.849Z"
   },
   {
    "duration": -39,
    "start_time": "2021-07-16T09:08:50.858Z"
   },
   {
    "duration": -44,
    "start_time": "2021-07-16T09:08:50.865Z"
   },
   {
    "duration": -46,
    "start_time": "2021-07-16T09:08:50.869Z"
   },
   {
    "duration": -50,
    "start_time": "2021-07-16T09:08:50.875Z"
   },
   {
    "duration": -54,
    "start_time": "2021-07-16T09:08:50.881Z"
   },
   {
    "duration": -62,
    "start_time": "2021-07-16T09:08:50.891Z"
   },
   {
    "duration": -65,
    "start_time": "2021-07-16T09:08:50.896Z"
   },
   {
    "duration": -69,
    "start_time": "2021-07-16T09:08:50.902Z"
   },
   {
    "duration": -73,
    "start_time": "2021-07-16T09:08:50.908Z"
   },
   {
    "duration": -84,
    "start_time": "2021-07-16T09:08:50.921Z"
   },
   {
    "duration": -89,
    "start_time": "2021-07-16T09:08:50.928Z"
   },
   {
    "duration": -92,
    "start_time": "2021-07-16T09:08:50.933Z"
   },
   {
    "duration": -95,
    "start_time": "2021-07-16T09:08:50.938Z"
   },
   {
    "duration": -102,
    "start_time": "2021-07-16T09:08:50.948Z"
   },
   {
    "duration": -105,
    "start_time": "2021-07-16T09:08:50.953Z"
   },
   {
    "duration": -108,
    "start_time": "2021-07-16T09:08:50.958Z"
   },
   {
    "duration": -110,
    "start_time": "2021-07-16T09:08:50.962Z"
   },
   {
    "duration": -113,
    "start_time": "2021-07-16T09:08:50.967Z"
   },
   {
    "duration": -116,
    "start_time": "2021-07-16T09:08:50.972Z"
   },
   {
    "duration": -123,
    "start_time": "2021-07-16T09:08:50.981Z"
   },
   {
    "duration": -125,
    "start_time": "2021-07-16T09:08:50.985Z"
   },
   {
    "duration": -133,
    "start_time": "2021-07-16T09:08:50.995Z"
   },
   {
    "duration": -136,
    "start_time": "2021-07-16T09:08:51.000Z"
   },
   {
    "duration": -139,
    "start_time": "2021-07-16T09:08:51.005Z"
   },
   {
    "duration": -146,
    "start_time": "2021-07-16T09:08:51.014Z"
   },
   {
    "duration": -150,
    "start_time": "2021-07-16T09:08:51.020Z"
   },
   {
    "duration": -160,
    "start_time": "2021-07-16T09:08:51.032Z"
   },
   {
    "duration": -169,
    "start_time": "2021-07-16T09:08:51.042Z"
   },
   {
    "duration": -172,
    "start_time": "2021-07-16T09:08:51.046Z"
   },
   {
    "duration": -176,
    "start_time": "2021-07-16T09:08:51.052Z"
   },
   {
    "duration": 330,
    "start_time": "2021-07-16T09:09:13.682Z"
   },
   {
    "duration": 53,
    "start_time": "2021-07-16T09:09:23.047Z"
   },
   {
    "duration": 7731,
    "start_time": "2021-07-16T09:09:43.024Z"
   },
   {
    "duration": -102,
    "start_time": "2021-07-16T09:09:50.860Z"
   },
   {
    "duration": 7391,
    "start_time": "2021-07-16T09:09:58.435Z"
   },
   {
    "duration": -45,
    "start_time": "2021-07-16T09:10:05.874Z"
   },
   {
    "duration": 52,
    "start_time": "2021-07-16T09:10:11.776Z"
   },
   {
    "duration": 6,
    "start_time": "2021-07-16T09:10:14.609Z"
   },
   {
    "duration": 8,
    "start_time": "2021-07-16T09:10:25.883Z"
   },
   {
    "duration": 5,
    "start_time": "2021-07-16T09:10:53.904Z"
   },
   {
    "duration": 65,
    "start_time": "2021-07-16T09:10:55.700Z"
   },
   {
    "duration": 9,
    "start_time": "2021-07-16T09:10:57.568Z"
   },
   {
    "duration": 271,
    "start_time": "2021-07-16T09:11:39.630Z"
   },
   {
    "duration": 34,
    "start_time": "2021-07-16T09:11:43.662Z"
   },
   {
    "duration": 5,
    "start_time": "2021-07-16T09:12:02.542Z"
   },
   {
    "duration": 56,
    "start_time": "2021-07-16T09:12:04.383Z"
   },
   {
    "duration": 9,
    "start_time": "2021-07-16T09:12:06.157Z"
   },
   {
    "duration": 34,
    "start_time": "2021-07-16T09:12:15.374Z"
   },
   {
    "duration": 1475,
    "start_time": "2021-07-16T09:12:28.843Z"
   },
   {
    "duration": 33,
    "start_time": "2021-07-16T09:12:30.320Z"
   },
   {
    "duration": 27,
    "start_time": "2021-07-16T09:12:30.360Z"
   },
   {
    "duration": 31,
    "start_time": "2021-07-16T09:12:30.389Z"
   },
   {
    "duration": 35,
    "start_time": "2021-07-16T09:12:30.422Z"
   },
   {
    "duration": 26,
    "start_time": "2021-07-16T09:12:30.460Z"
   },
   {
    "duration": 18,
    "start_time": "2021-07-16T09:12:30.491Z"
   },
   {
    "duration": 224,
    "start_time": "2021-07-16T09:12:30.513Z"
   },
   {
    "duration": 219,
    "start_time": "2021-07-16T09:12:30.740Z"
   },
   {
    "duration": 19,
    "start_time": "2021-07-16T09:12:30.962Z"
   },
   {
    "duration": 557,
    "start_time": "2021-07-16T09:12:30.983Z"
   },
   {
    "duration": 526,
    "start_time": "2021-07-16T09:12:31.543Z"
   },
   {
    "duration": 28,
    "start_time": "2021-07-16T09:12:32.072Z"
   },
   {
    "duration": 66,
    "start_time": "2021-07-16T09:12:32.102Z"
   },
   {
    "duration": 26,
    "start_time": "2021-07-16T09:12:32.170Z"
   },
   {
    "duration": 12,
    "start_time": "2021-07-16T09:12:32.199Z"
   },
   {
    "duration": 84,
    "start_time": "2021-07-16T09:12:32.213Z"
   },
   {
    "duration": 8,
    "start_time": "2021-07-16T09:12:32.300Z"
   },
   {
    "duration": 49,
    "start_time": "2021-07-16T09:12:32.310Z"
   },
   {
    "duration": 18,
    "start_time": "2021-07-16T09:12:32.361Z"
   },
   {
    "duration": 407,
    "start_time": "2021-07-16T09:12:32.381Z"
   },
   {
    "duration": -45,
    "start_time": "2021-07-16T09:12:32.837Z"
   },
   {
    "duration": -49,
    "start_time": "2021-07-16T09:12:32.842Z"
   },
   {
    "duration": -51,
    "start_time": "2021-07-16T09:12:32.846Z"
   },
   {
    "duration": -54,
    "start_time": "2021-07-16T09:12:32.850Z"
   },
   {
    "duration": -57,
    "start_time": "2021-07-16T09:12:32.854Z"
   },
   {
    "duration": -60,
    "start_time": "2021-07-16T09:12:32.858Z"
   },
   {
    "duration": -65,
    "start_time": "2021-07-16T09:12:32.865Z"
   },
   {
    "duration": -67,
    "start_time": "2021-07-16T09:12:32.868Z"
   },
   {
    "duration": -73,
    "start_time": "2021-07-16T09:12:32.875Z"
   },
   {
    "duration": -79,
    "start_time": "2021-07-16T09:12:32.883Z"
   },
   {
    "duration": -81,
    "start_time": "2021-07-16T09:12:32.886Z"
   },
   {
    "duration": -92,
    "start_time": "2021-07-16T09:12:32.898Z"
   },
   {
    "duration": -94,
    "start_time": "2021-07-16T09:12:32.902Z"
   },
   {
    "duration": -97,
    "start_time": "2021-07-16T09:12:32.906Z"
   },
   {
    "duration": -102,
    "start_time": "2021-07-16T09:12:32.912Z"
   },
   {
    "duration": -104,
    "start_time": "2021-07-16T09:12:32.915Z"
   },
   {
    "duration": -114,
    "start_time": "2021-07-16T09:12:32.927Z"
   },
   {
    "duration": -118,
    "start_time": "2021-07-16T09:12:32.932Z"
   },
   {
    "duration": -127,
    "start_time": "2021-07-16T09:12:32.942Z"
   },
   {
    "duration": -128,
    "start_time": "2021-07-16T09:12:32.945Z"
   },
   {
    "duration": -131,
    "start_time": "2021-07-16T09:12:32.949Z"
   },
   {
    "duration": -132,
    "start_time": "2021-07-16T09:12:32.951Z"
   },
   {
    "duration": -135,
    "start_time": "2021-07-16T09:12:32.956Z"
   },
   {
    "duration": -137,
    "start_time": "2021-07-16T09:12:32.959Z"
   },
   {
    "duration": -141,
    "start_time": "2021-07-16T09:12:32.964Z"
   },
   {
    "duration": -147,
    "start_time": "2021-07-16T09:12:32.972Z"
   },
   {
    "duration": -149,
    "start_time": "2021-07-16T09:12:32.975Z"
   },
   {
    "duration": -153,
    "start_time": "2021-07-16T09:12:32.980Z"
   },
   {
    "duration": -132,
    "start_time": "2021-07-16T09:12:32.987Z"
   },
   {
    "duration": 1516,
    "start_time": "2021-07-16T09:13:09.311Z"
   },
   {
    "duration": 34,
    "start_time": "2021-07-16T09:13:10.830Z"
   },
   {
    "duration": 29,
    "start_time": "2021-07-16T09:13:10.872Z"
   },
   {
    "duration": 61,
    "start_time": "2021-07-16T09:13:10.904Z"
   },
   {
    "duration": 11,
    "start_time": "2021-07-16T09:13:10.967Z"
   },
   {
    "duration": 19,
    "start_time": "2021-07-16T09:13:10.981Z"
   },
   {
    "duration": 11,
    "start_time": "2021-07-16T09:13:11.005Z"
   },
   {
    "duration": 227,
    "start_time": "2021-07-16T09:13:11.019Z"
   },
   {
    "duration": 216,
    "start_time": "2021-07-16T09:13:11.249Z"
   },
   {
    "duration": 17,
    "start_time": "2021-07-16T09:13:11.468Z"
   },
   {
    "duration": 557,
    "start_time": "2021-07-16T09:13:11.488Z"
   },
   {
    "duration": 551,
    "start_time": "2021-07-16T09:13:12.048Z"
   },
   {
    "duration": 26,
    "start_time": "2021-07-16T09:13:12.601Z"
   },
   {
    "duration": 57,
    "start_time": "2021-07-16T09:13:12.630Z"
   },
   {
    "duration": 22,
    "start_time": "2021-07-16T09:13:12.689Z"
   },
   {
    "duration": 6,
    "start_time": "2021-07-16T09:13:12.713Z"
   },
   {
    "duration": 78,
    "start_time": "2021-07-16T09:13:12.721Z"
   },
   {
    "duration": 8,
    "start_time": "2021-07-16T09:13:12.802Z"
   },
   {
    "duration": 53,
    "start_time": "2021-07-16T09:13:12.812Z"
   },
   {
    "duration": 18,
    "start_time": "2021-07-16T09:13:12.868Z"
   },
   {
    "duration": 412,
    "start_time": "2021-07-16T09:13:12.888Z"
   },
   {
    "duration": -48,
    "start_time": "2021-07-16T09:13:13.352Z"
   },
   {
    "duration": -55,
    "start_time": "2021-07-16T09:13:13.361Z"
   },
   {
    "duration": -58,
    "start_time": "2021-07-16T09:13:13.365Z"
   },
   {
    "duration": -60,
    "start_time": "2021-07-16T09:13:13.369Z"
   },
   {
    "duration": -61,
    "start_time": "2021-07-16T09:13:13.372Z"
   },
   {
    "duration": -63,
    "start_time": "2021-07-16T09:13:13.375Z"
   },
   {
    "duration": -65,
    "start_time": "2021-07-16T09:13:13.379Z"
   },
   {
    "duration": -70,
    "start_time": "2021-07-16T09:13:13.385Z"
   },
   {
    "duration": -77,
    "start_time": "2021-07-16T09:13:13.394Z"
   },
   {
    "duration": -80,
    "start_time": "2021-07-16T09:13:13.398Z"
   },
   {
    "duration": -89,
    "start_time": "2021-07-16T09:13:13.409Z"
   },
   {
    "duration": -95,
    "start_time": "2021-07-16T09:13:13.416Z"
   },
   {
    "duration": -103,
    "start_time": "2021-07-16T09:13:13.426Z"
   },
   {
    "duration": -108,
    "start_time": "2021-07-16T09:13:13.432Z"
   },
   {
    "duration": -114,
    "start_time": "2021-07-16T09:13:13.440Z"
   },
   {
    "duration": -129,
    "start_time": "2021-07-16T09:13:13.456Z"
   },
   {
    "duration": -131,
    "start_time": "2021-07-16T09:13:13.460Z"
   },
   {
    "duration": -133,
    "start_time": "2021-07-16T09:13:13.463Z"
   },
   {
    "duration": -136,
    "start_time": "2021-07-16T09:13:13.468Z"
   },
   {
    "duration": -139,
    "start_time": "2021-07-16T09:13:13.472Z"
   },
   {
    "duration": -140,
    "start_time": "2021-07-16T09:13:13.475Z"
   },
   {
    "duration": -148,
    "start_time": "2021-07-16T09:13:13.484Z"
   },
   {
    "duration": -151,
    "start_time": "2021-07-16T09:13:13.489Z"
   },
   {
    "duration": -137,
    "start_time": "2021-07-16T09:13:13.492Z"
   },
   {
    "duration": -140,
    "start_time": "2021-07-16T09:13:13.497Z"
   },
   {
    "duration": -142,
    "start_time": "2021-07-16T09:13:13.500Z"
   },
   {
    "duration": -144,
    "start_time": "2021-07-16T09:13:13.504Z"
   },
   {
    "duration": -148,
    "start_time": "2021-07-16T09:13:13.509Z"
   },
   {
    "duration": -155,
    "start_time": "2021-07-16T09:13:13.518Z"
   },
   {
    "duration": 31,
    "start_time": "2021-07-16T09:15:00.804Z"
   },
   {
    "duration": 37,
    "start_time": "2021-07-16T09:16:00.165Z"
   },
   {
    "duration": 5,
    "start_time": "2021-07-16T09:19:27.339Z"
   },
   {
    "duration": 56,
    "start_time": "2021-07-16T09:19:29.195Z"
   },
   {
    "duration": 56,
    "start_time": "2021-07-16T09:19:34.005Z"
   },
   {
    "duration": 9,
    "start_time": "2021-07-16T09:19:36.691Z"
   },
   {
    "duration": 136,
    "start_time": "2021-07-16T09:25:43.913Z"
   },
   {
    "duration": 352,
    "start_time": "2021-07-16T09:27:11.370Z"
   },
   {
    "duration": 195,
    "start_time": "2021-07-16T09:28:06.506Z"
   },
   {
    "duration": 126,
    "start_time": "2021-07-16T09:29:49.401Z"
   },
   {
    "duration": 130,
    "start_time": "2021-07-16T09:30:04.424Z"
   },
   {
    "duration": 139,
    "start_time": "2021-07-16T09:30:26.127Z"
   },
   {
    "duration": 147,
    "start_time": "2021-07-16T09:30:43.256Z"
   },
   {
    "duration": 121,
    "start_time": "2021-07-16T09:31:20.772Z"
   },
   {
    "duration": 101,
    "start_time": "2021-07-16T09:32:19.201Z"
   },
   {
    "duration": 113,
    "start_time": "2021-07-16T09:35:56.211Z"
   },
   {
    "duration": 94,
    "start_time": "2021-07-16T09:36:44.349Z"
   },
   {
    "duration": 105,
    "start_time": "2021-07-16T09:36:52.094Z"
   },
   {
    "duration": 127,
    "start_time": "2021-07-16T09:37:00.190Z"
   },
   {
    "duration": 104,
    "start_time": "2021-07-16T09:37:09.677Z"
   },
   {
    "duration": 837,
    "start_time": "2021-07-16T09:37:13.917Z"
   },
   {
    "duration": 6,
    "start_time": "2021-07-16T09:38:51.198Z"
   },
   {
    "duration": 6,
    "start_time": "2021-07-16T09:40:57.883Z"
   },
   {
    "duration": 88,
    "start_time": "2021-07-16T09:41:19.412Z"
   },
   {
    "duration": 9,
    "start_time": "2021-07-16T09:41:23.628Z"
   },
   {
    "duration": 9,
    "start_time": "2021-07-16T09:41:29.468Z"
   },
   {
    "duration": 85,
    "start_time": "2021-07-16T09:41:33.837Z"
   },
   {
    "duration": 9,
    "start_time": "2021-07-16T09:41:36.300Z"
   },
   {
    "duration": 7,
    "start_time": "2021-07-16T09:41:52.971Z"
   },
   {
    "duration": 7,
    "start_time": "2021-07-16T09:41:57.947Z"
   },
   {
    "duration": 18,
    "start_time": "2021-07-16T09:42:59.068Z"
   },
   {
    "duration": 200,
    "start_time": "2021-07-16T09:43:05.501Z"
   },
   {
    "duration": 9,
    "start_time": "2021-07-16T09:43:13.276Z"
   },
   {
    "duration": 10,
    "start_time": "2021-07-16T09:44:04.845Z"
   },
   {
    "duration": 277,
    "start_time": "2021-07-16T09:44:12.644Z"
   },
   {
    "duration": 272,
    "start_time": "2021-07-16T09:44:20.300Z"
   },
   {
    "duration": 16,
    "start_time": "2021-07-16T10:08:25.479Z"
   },
   {
    "duration": 173,
    "start_time": "2021-07-16T10:08:27.702Z"
   },
   {
    "duration": 9,
    "start_time": "2021-07-16T10:08:32.820Z"
   },
   {
    "duration": 58,
    "start_time": "2021-07-16T10:08:54.326Z"
   },
   {
    "duration": 9,
    "start_time": "2021-07-16T10:08:58.021Z"
   },
   {
    "duration": 17,
    "start_time": "2021-07-16T10:09:30.773Z"
   },
   {
    "duration": 56,
    "start_time": "2021-07-16T10:09:33.173Z"
   },
   {
    "duration": 9,
    "start_time": "2021-07-16T10:09:37.013Z"
   },
   {
    "duration": 9,
    "start_time": "2021-07-16T10:09:40.485Z"
   },
   {
    "duration": 175,
    "start_time": "2021-07-16T10:10:11.654Z"
   },
   {
    "duration": 9,
    "start_time": "2021-07-16T10:10:15.204Z"
   },
   {
    "duration": 17,
    "start_time": "2021-07-16T10:10:52.180Z"
   },
   {
    "duration": 180,
    "start_time": "2021-07-16T10:10:54.086Z"
   },
   {
    "duration": 8,
    "start_time": "2021-07-16T10:10:58.756Z"
   },
   {
    "duration": 33,
    "start_time": "2021-07-16T10:13:23.287Z"
   },
   {
    "duration": 6,
    "start_time": "2021-07-16T10:15:13.923Z"
   },
   {
    "duration": 178,
    "start_time": "2021-07-16T10:15:16.070Z"
   },
   {
    "duration": 8,
    "start_time": "2021-07-16T10:15:18.868Z"
   },
   {
    "duration": 33,
    "start_time": "2021-07-16T10:15:31.767Z"
   },
   {
    "duration": 5,
    "start_time": "2021-07-16T10:16:29.090Z"
   },
   {
    "duration": 181,
    "start_time": "2021-07-16T10:16:31.202Z"
   },
   {
    "duration": 8,
    "start_time": "2021-07-16T10:16:34.068Z"
   },
   {
    "duration": 33,
    "start_time": "2021-07-16T10:17:20.151Z"
   },
   {
    "duration": 6,
    "start_time": "2021-07-16T10:17:40.225Z"
   },
   {
    "duration": 185,
    "start_time": "2021-07-16T10:17:42.098Z"
   },
   {
    "duration": 9,
    "start_time": "2021-07-16T10:17:45.954Z"
   },
   {
    "duration": 5,
    "start_time": "2021-07-16T10:18:58.321Z"
   },
   {
    "duration": 180,
    "start_time": "2021-07-16T10:19:00.434Z"
   },
   {
    "duration": 9,
    "start_time": "2021-07-16T10:19:02.784Z"
   },
   {
    "duration": 34,
    "start_time": "2021-07-16T10:19:26.516Z"
   },
   {
    "duration": 6,
    "start_time": "2021-07-16T10:19:43.041Z"
   },
   {
    "duration": 172,
    "start_time": "2021-07-16T10:19:43.953Z"
   },
   {
    "duration": 9,
    "start_time": "2021-07-16T10:19:50.337Z"
   },
   {
    "duration": 6,
    "start_time": "2021-07-16T10:20:01.845Z"
   },
   {
    "duration": 185,
    "start_time": "2021-07-16T10:20:03.954Z"
   },
   {
    "duration": 9,
    "start_time": "2021-07-16T10:20:06.977Z"
   },
   {
    "duration": 6,
    "start_time": "2021-07-16T10:21:23.985Z"
   },
   {
    "duration": 174,
    "start_time": "2021-07-16T10:21:31.873Z"
   },
   {
    "duration": 10,
    "start_time": "2021-07-16T10:21:34.784Z"
   },
   {
    "duration": 33,
    "start_time": "2021-07-16T10:21:45.333Z"
   },
   {
    "duration": 6,
    "start_time": "2021-07-16T10:22:18.337Z"
   },
   {
    "duration": 171,
    "start_time": "2021-07-16T10:22:20.369Z"
   },
   {
    "duration": 9,
    "start_time": "2021-07-16T10:22:22.912Z"
   },
   {
    "duration": 35,
    "start_time": "2021-07-16T10:22:37.542Z"
   },
   {
    "duration": 6,
    "start_time": "2021-07-16T10:26:53.856Z"
   },
   {
    "duration": 194,
    "start_time": "2021-07-16T10:26:55.728Z"
   },
   {
    "duration": 9,
    "start_time": "2021-07-16T10:26:58.156Z"
   },
   {
    "duration": 34,
    "start_time": "2021-07-16T10:27:06.227Z"
   },
   {
    "duration": 6,
    "start_time": "2021-07-16T10:28:45.486Z"
   },
   {
    "duration": 179,
    "start_time": "2021-07-16T10:28:47.104Z"
   },
   {
    "duration": 11,
    "start_time": "2021-07-16T10:28:52.095Z"
   },
   {
    "duration": 6,
    "start_time": "2021-07-16T10:29:23.534Z"
   },
   {
    "duration": 180,
    "start_time": "2021-07-16T10:29:25.230Z"
   },
   {
    "duration": 9,
    "start_time": "2021-07-16T10:29:27.054Z"
   },
   {
    "duration": 34,
    "start_time": "2021-07-16T10:29:37.873Z"
   },
   {
    "duration": 6,
    "start_time": "2021-07-16T10:30:27.949Z"
   },
   {
    "duration": 174,
    "start_time": "2021-07-16T10:30:29.375Z"
   },
   {
    "duration": 9,
    "start_time": "2021-07-16T10:30:31.822Z"
   },
   {
    "duration": 33,
    "start_time": "2021-07-16T10:30:50.817Z"
   },
   {
    "duration": 5,
    "start_time": "2021-07-16T10:31:07.294Z"
   },
   {
    "duration": 166,
    "start_time": "2021-07-16T10:31:08.878Z"
   },
   {
    "duration": 9,
    "start_time": "2021-07-16T10:31:12.509Z"
   },
   {
    "duration": 33,
    "start_time": "2021-07-16T11:02:24.140Z"
   },
   {
    "duration": 6,
    "start_time": "2021-07-16T11:03:00.315Z"
   },
   {
    "duration": 178,
    "start_time": "2021-07-16T11:03:01.830Z"
   },
   {
    "duration": 9,
    "start_time": "2021-07-16T11:03:04.549Z"
   },
   {
    "duration": 34,
    "start_time": "2021-07-16T11:03:08.552Z"
   },
   {
    "duration": 1404,
    "start_time": "2021-07-16T11:03:18.394Z"
   },
   {
    "duration": 32,
    "start_time": "2021-07-16T11:03:19.801Z"
   },
   {
    "duration": 32,
    "start_time": "2021-07-16T11:03:19.836Z"
   },
   {
    "duration": 23,
    "start_time": "2021-07-16T11:03:19.871Z"
   },
   {
    "duration": 9,
    "start_time": "2021-07-16T11:03:19.896Z"
   },
   {
    "duration": 49,
    "start_time": "2021-07-16T11:03:19.907Z"
   },
   {
    "duration": 8,
    "start_time": "2021-07-16T11:03:19.958Z"
   },
   {
    "duration": 220,
    "start_time": "2021-07-16T11:03:19.970Z"
   },
   {
    "duration": 208,
    "start_time": "2021-07-16T11:03:20.193Z"
   },
   {
    "duration": 16,
    "start_time": "2021-07-16T11:03:20.403Z"
   },
   {
    "duration": 549,
    "start_time": "2021-07-16T11:03:20.422Z"
   },
   {
    "duration": 541,
    "start_time": "2021-07-16T11:03:20.973Z"
   },
   {
    "duration": 39,
    "start_time": "2021-07-16T11:03:21.516Z"
   },
   {
    "duration": 42,
    "start_time": "2021-07-16T11:03:21.557Z"
   },
   {
    "duration": 24,
    "start_time": "2021-07-16T11:03:21.601Z"
   },
   {
    "duration": 42,
    "start_time": "2021-07-16T11:03:21.627Z"
   },
   {
    "duration": 13,
    "start_time": "2021-07-16T11:03:21.671Z"
   },
   {
    "duration": 186,
    "start_time": "2021-07-16T11:03:21.687Z"
   },
   {
    "duration": 9,
    "start_time": "2021-07-16T11:03:21.875Z"
   },
   {
    "duration": 28,
    "start_time": "2021-07-16T11:03:21.886Z"
   },
   {
    "duration": 57,
    "start_time": "2021-07-16T11:03:21.916Z"
   },
   {
    "duration": 16,
    "start_time": "2021-07-16T11:03:21.975Z"
   },
   {
    "duration": 416,
    "start_time": "2021-07-16T11:03:21.995Z"
   },
   {
    "duration": -60,
    "start_time": "2021-07-16T11:03:22.474Z"
   },
   {
    "duration": -63,
    "start_time": "2021-07-16T11:03:22.478Z"
   },
   {
    "duration": -70,
    "start_time": "2021-07-16T11:03:22.487Z"
   },
   {
    "duration": -90,
    "start_time": "2021-07-16T11:03:22.508Z"
   },
   {
    "duration": 179,
    "start_time": "2021-07-16T11:04:04.452Z"
   },
   {
    "duration": 9,
    "start_time": "2021-07-16T11:04:07.604Z"
   },
   {
    "duration": 1071,
    "start_time": "2021-07-16T11:04:12.587Z"
   },
   {
    "duration": 1096,
    "start_time": "2021-07-16T11:04:16.721Z"
   },
   {
    "duration": 19,
    "start_time": "2021-07-16T11:04:30.306Z"
   },
   {
    "duration": 19,
    "start_time": "2021-07-16T11:04:45.188Z"
   },
   {
    "duration": 17,
    "start_time": "2021-07-16T11:04:46.450Z"
   },
   {
    "duration": 9,
    "start_time": "2021-07-16T11:04:57.441Z"
   },
   {
    "duration": 17,
    "start_time": "2021-07-16T11:05:06.516Z"
   },
   {
    "duration": 173,
    "start_time": "2021-07-16T11:05:56.674Z"
   },
   {
    "duration": 8,
    "start_time": "2021-07-16T11:05:59.377Z"
   },
   {
    "duration": 1345,
    "start_time": "2021-07-16T11:06:06.163Z"
   },
   {
    "duration": 32,
    "start_time": "2021-07-16T11:06:07.511Z"
   },
   {
    "duration": 25,
    "start_time": "2021-07-16T11:06:07.546Z"
   },
   {
    "duration": 21,
    "start_time": "2021-07-16T11:06:07.574Z"
   },
   {
    "duration": 9,
    "start_time": "2021-07-16T11:06:07.597Z"
   },
   {
    "duration": 55,
    "start_time": "2021-07-16T11:06:07.609Z"
   },
   {
    "duration": 8,
    "start_time": "2021-07-16T11:06:07.666Z"
   },
   {
    "duration": 226,
    "start_time": "2021-07-16T11:06:07.678Z"
   },
   {
    "duration": 207,
    "start_time": "2021-07-16T11:06:07.907Z"
   },
   {
    "duration": 16,
    "start_time": "2021-07-16T11:06:08.116Z"
   },
   {
    "duration": 558,
    "start_time": "2021-07-16T11:06:08.134Z"
   },
   {
    "duration": 544,
    "start_time": "2021-07-16T11:06:08.694Z"
   },
   {
    "duration": 35,
    "start_time": "2021-07-16T11:06:09.240Z"
   },
   {
    "duration": 44,
    "start_time": "2021-07-16T11:06:09.278Z"
   },
   {
    "duration": 47,
    "start_time": "2021-07-16T11:06:09.325Z"
   },
   {
    "duration": 17,
    "start_time": "2021-07-16T11:06:09.375Z"
   },
   {
    "duration": 11,
    "start_time": "2021-07-16T11:06:09.394Z"
   },
   {
    "duration": 198,
    "start_time": "2021-07-16T11:06:09.407Z"
   },
   {
    "duration": 9,
    "start_time": "2021-07-16T11:06:09.607Z"
   },
   {
    "duration": 49,
    "start_time": "2021-07-16T11:06:09.618Z"
   },
   {
    "duration": 29,
    "start_time": "2021-07-16T11:06:09.670Z"
   },
   {
    "duration": 16,
    "start_time": "2021-07-16T11:06:09.702Z"
   },
   {
    "duration": 427,
    "start_time": "2021-07-16T11:06:09.722Z"
   },
   {
    "duration": -76,
    "start_time": "2021-07-16T11:06:10.229Z"
   },
   {
    "duration": -78,
    "start_time": "2021-07-16T11:06:10.234Z"
   },
   {
    "duration": -78,
    "start_time": "2021-07-16T11:06:10.236Z"
   },
   {
    "duration": -78,
    "start_time": "2021-07-16T11:06:10.239Z"
   },
   {
    "duration": 17,
    "start_time": "2021-07-16T11:07:15.586Z"
   },
   {
    "duration": 6,
    "start_time": "2021-07-16T11:07:24.017Z"
   },
   {
    "duration": 178,
    "start_time": "2021-07-16T11:07:26.305Z"
   },
   {
    "duration": 9,
    "start_time": "2021-07-16T11:07:28.545Z"
   },
   {
    "duration": 6,
    "start_time": "2021-07-16T11:07:32.545Z"
   },
   {
    "duration": 170,
    "start_time": "2021-07-16T11:07:33.361Z"
   },
   {
    "duration": 9,
    "start_time": "2021-07-16T11:07:35.472Z"
   },
   {
    "duration": 40,
    "start_time": "2021-07-16T11:07:38.769Z"
   },
   {
    "duration": 18,
    "start_time": "2021-07-16T11:08:04.151Z"
   },
   {
    "duration": 24,
    "start_time": "2021-07-16T11:08:09.831Z"
   },
   {
    "duration": 1375,
    "start_time": "2021-07-16T11:09:19.233Z"
   },
   {
    "duration": 33,
    "start_time": "2021-07-16T11:09:20.610Z"
   },
   {
    "duration": 27,
    "start_time": "2021-07-16T11:09:20.645Z"
   },
   {
    "duration": 22,
    "start_time": "2021-07-16T11:09:20.675Z"
   },
   {
    "duration": 9,
    "start_time": "2021-07-16T11:09:20.700Z"
   },
   {
    "duration": 46,
    "start_time": "2021-07-16T11:09:20.711Z"
   },
   {
    "duration": 8,
    "start_time": "2021-07-16T11:09:20.759Z"
   },
   {
    "duration": 218,
    "start_time": "2021-07-16T11:09:20.771Z"
   },
   {
    "duration": 215,
    "start_time": "2021-07-16T11:09:20.992Z"
   },
   {
    "duration": 16,
    "start_time": "2021-07-16T11:09:21.209Z"
   },
   {
    "duration": 552,
    "start_time": "2021-07-16T11:09:21.227Z"
   },
   {
    "duration": 559,
    "start_time": "2021-07-16T11:09:21.782Z"
   },
   {
    "duration": 34,
    "start_time": "2021-07-16T11:09:22.343Z"
   },
   {
    "duration": 46,
    "start_time": "2021-07-16T11:09:22.379Z"
   },
   {
    "duration": 40,
    "start_time": "2021-07-16T11:09:22.427Z"
   },
   {
    "duration": 18,
    "start_time": "2021-07-16T11:09:22.471Z"
   },
   {
    "duration": 10,
    "start_time": "2021-07-16T11:09:22.491Z"
   },
   {
    "duration": 214,
    "start_time": "2021-07-16T11:09:22.503Z"
   },
   {
    "duration": 8,
    "start_time": "2021-07-16T11:09:22.719Z"
   },
   {
    "duration": 42,
    "start_time": "2021-07-16T11:09:22.729Z"
   },
   {
    "duration": 1254,
    "start_time": "2021-07-16T11:09:22.774Z"
   },
   {
    "duration": -60,
    "start_time": "2021-07-16T11:09:24.091Z"
   },
   {
    "duration": -63,
    "start_time": "2021-07-16T11:09:24.096Z"
   },
   {
    "duration": -71,
    "start_time": "2021-07-16T11:09:24.105Z"
   },
   {
    "duration": -88,
    "start_time": "2021-07-16T11:09:24.124Z"
   },
   {
    "duration": -90,
    "start_time": "2021-07-16T11:09:24.127Z"
   },
   {
    "duration": -92,
    "start_time": "2021-07-16T11:09:24.130Z"
   },
   {
    "duration": 8,
    "start_time": "2021-07-16T11:10:00.131Z"
   },
   {
    "duration": 22,
    "start_time": "2021-07-16T11:10:14.995Z"
   },
   {
    "duration": 22,
    "start_time": "2021-07-16T11:10:19.684Z"
   },
   {
    "duration": 22,
    "start_time": "2021-07-16T11:10:32.804Z"
   },
   {
    "duration": 21,
    "start_time": "2021-07-16T11:10:46.564Z"
   },
   {
    "duration": 22,
    "start_time": "2021-07-16T11:10:58.372Z"
   },
   {
    "duration": 23,
    "start_time": "2021-07-16T11:11:30.212Z"
   },
   {
    "duration": 204,
    "start_time": "2021-07-16T11:13:40.962Z"
   },
   {
    "duration": 9,
    "start_time": "2021-07-16T11:13:44.306Z"
   },
   {
    "duration": 6,
    "start_time": "2021-07-16T11:13:48.930Z"
   },
   {
    "duration": 181,
    "start_time": "2021-07-16T11:13:49.858Z"
   },
   {
    "duration": 9,
    "start_time": "2021-07-16T11:13:52.785Z"
   },
   {
    "duration": 7,
    "start_time": "2021-07-16T11:13:57.089Z"
   },
   {
    "duration": 177,
    "start_time": "2021-07-16T11:14:21.155Z"
   },
   {
    "duration": 9,
    "start_time": "2021-07-16T11:14:24.721Z"
   },
   {
    "duration": 6,
    "start_time": "2021-07-16T11:14:27.521Z"
   },
   {
    "duration": 1398,
    "start_time": "2021-07-16T11:14:45.402Z"
   },
   {
    "duration": 32,
    "start_time": "2021-07-16T11:14:46.803Z"
   },
   {
    "duration": 36,
    "start_time": "2021-07-16T11:14:46.840Z"
   },
   {
    "duration": 22,
    "start_time": "2021-07-16T11:14:46.878Z"
   },
   {
    "duration": 10,
    "start_time": "2021-07-16T11:14:46.902Z"
   },
   {
    "duration": 47,
    "start_time": "2021-07-16T11:14:46.915Z"
   },
   {
    "duration": 8,
    "start_time": "2021-07-16T11:14:46.966Z"
   },
   {
    "duration": 239,
    "start_time": "2021-07-16T11:14:46.978Z"
   },
   {
    "duration": 224,
    "start_time": "2021-07-16T11:14:47.220Z"
   },
   {
    "duration": 21,
    "start_time": "2021-07-16T11:14:47.447Z"
   },
   {
    "duration": 571,
    "start_time": "2021-07-16T11:14:47.470Z"
   },
   {
    "duration": 559,
    "start_time": "2021-07-16T11:14:48.043Z"
   },
   {
    "duration": 27,
    "start_time": "2021-07-16T11:14:48.605Z"
   },
   {
    "duration": 61,
    "start_time": "2021-07-16T11:14:48.635Z"
   },
   {
    "duration": 25,
    "start_time": "2021-07-16T11:14:48.699Z"
   },
   {
    "duration": 17,
    "start_time": "2021-07-16T11:14:48.757Z"
   },
   {
    "duration": 10,
    "start_time": "2021-07-16T11:14:48.777Z"
   },
   {
    "duration": 198,
    "start_time": "2021-07-16T11:14:48.789Z"
   },
   {
    "duration": 10,
    "start_time": "2021-07-16T11:14:48.990Z"
   },
   {
    "duration": 10,
    "start_time": "2021-07-16T11:14:49.003Z"
   },
   {
    "duration": 53,
    "start_time": "2021-07-16T11:14:49.016Z"
   },
   {
    "duration": 1232,
    "start_time": "2021-07-16T11:14:49.074Z"
   },
   {
    "duration": -57,
    "start_time": "2021-07-16T11:14:50.367Z"
   },
   {
    "duration": -60,
    "start_time": "2021-07-16T11:14:50.372Z"
   },
   {
    "duration": -61,
    "start_time": "2021-07-16T11:14:50.375Z"
   },
   {
    "duration": -61,
    "start_time": "2021-07-16T11:14:50.377Z"
   },
   {
    "duration": -67,
    "start_time": "2021-07-16T11:14:50.385Z"
   },
   {
    "duration": -74,
    "start_time": "2021-07-16T11:14:50.394Z"
   },
   {
    "duration": 178,
    "start_time": "2021-07-16T11:15:08.352Z"
   },
   {
    "duration": 9,
    "start_time": "2021-07-16T11:15:14.014Z"
   },
   {
    "duration": 1427,
    "start_time": "2021-07-16T11:16:31.681Z"
   },
   {
    "duration": 33,
    "start_time": "2021-07-16T11:16:33.111Z"
   },
   {
    "duration": 26,
    "start_time": "2021-07-16T11:16:33.147Z"
   },
   {
    "duration": 21,
    "start_time": "2021-07-16T11:16:33.176Z"
   },
   {
    "duration": 9,
    "start_time": "2021-07-16T11:16:33.200Z"
   },
   {
    "duration": 51,
    "start_time": "2021-07-16T11:16:33.211Z"
   },
   {
    "duration": 8,
    "start_time": "2021-07-16T11:16:33.264Z"
   },
   {
    "duration": 219,
    "start_time": "2021-07-16T11:16:33.276Z"
   },
   {
    "duration": 208,
    "start_time": "2021-07-16T11:16:33.498Z"
   },
   {
    "duration": 16,
    "start_time": "2021-07-16T11:16:33.709Z"
   },
   {
    "duration": 553,
    "start_time": "2021-07-16T11:16:33.727Z"
   },
   {
    "duration": 553,
    "start_time": "2021-07-16T11:16:34.283Z"
   },
   {
    "duration": 31,
    "start_time": "2021-07-16T11:16:34.838Z"
   },
   {
    "duration": 45,
    "start_time": "2021-07-16T11:16:34.872Z"
   },
   {
    "duration": 39,
    "start_time": "2021-07-16T11:16:34.920Z"
   },
   {
    "duration": 17,
    "start_time": "2021-07-16T11:16:34.962Z"
   },
   {
    "duration": 11,
    "start_time": "2021-07-16T11:16:34.982Z"
   },
   {
    "duration": 214,
    "start_time": "2021-07-16T11:16:34.996Z"
   },
   {
    "duration": 9,
    "start_time": "2021-07-16T11:16:35.212Z"
   },
   {
    "duration": 33,
    "start_time": "2021-07-16T11:16:35.223Z"
   },
   {
    "duration": 6,
    "start_time": "2021-07-16T11:16:35.258Z"
   },
   {
    "duration": 25,
    "start_time": "2021-07-16T11:16:35.267Z"
   },
   {
    "duration": 23,
    "start_time": "2021-07-16T11:16:35.296Z"
   },
   {
    "duration": 49,
    "start_time": "2021-07-16T11:16:35.322Z"
   },
   {
    "duration": 396,
    "start_time": "2021-07-16T11:16:35.374Z"
   },
   {
    "duration": -77,
    "start_time": "2021-07-16T11:16:35.850Z"
   },
   {
    "duration": -83,
    "start_time": "2021-07-16T11:16:35.857Z"
   },
   {
    "duration": -89,
    "start_time": "2021-07-16T11:16:35.865Z"
   },
   {
    "duration": -91,
    "start_time": "2021-07-16T11:16:35.868Z"
   },
   {
    "duration": 20,
    "start_time": "2021-07-16T11:17:33.600Z"
   },
   {
    "duration": 21,
    "start_time": "2021-07-16T11:17:44.047Z"
   },
   {
    "duration": 6,
    "start_time": "2021-07-16T11:18:15.821Z"
   },
   {
    "duration": 198,
    "start_time": "2021-07-16T11:18:20.047Z"
   },
   {
    "duration": 9,
    "start_time": "2021-07-16T11:18:24.493Z"
   },
   {
    "duration": 7,
    "start_time": "2021-07-16T11:18:44.605Z"
   },
   {
    "duration": 23,
    "start_time": "2021-07-16T11:18:46.367Z"
   },
   {
    "duration": 25,
    "start_time": "2021-07-16T11:18:53.919Z"
   },
   {
    "duration": 1527,
    "start_time": "2021-07-16T11:20:07.453Z"
   },
   {
    "duration": 6,
    "start_time": "2021-07-16T11:20:15.309Z"
   },
   {
    "duration": 188,
    "start_time": "2021-07-16T11:20:16.701Z"
   },
   {
    "duration": 11,
    "start_time": "2021-07-16T11:20:20.109Z"
   },
   {
    "duration": 24,
    "start_time": "2021-07-16T11:20:25.664Z"
   },
   {
    "duration": 25,
    "start_time": "2021-07-16T11:20:41.214Z"
   },
   {
    "duration": 27,
    "start_time": "2021-07-16T11:20:52.078Z"
   },
   {
    "duration": 25,
    "start_time": "2021-07-16T11:20:58.270Z"
   },
   {
    "duration": 25,
    "start_time": "2021-07-16T11:21:02.637Z"
   },
   {
    "duration": 24,
    "start_time": "2021-07-16T11:21:09.438Z"
   },
   {
    "duration": 24,
    "start_time": "2021-07-16T11:21:13.998Z"
   },
   {
    "duration": 24,
    "start_time": "2021-07-16T11:21:26.414Z"
   },
   {
    "duration": 1430,
    "start_time": "2021-07-16T11:30:46.246Z"
   },
   {
    "duration": 32,
    "start_time": "2021-07-16T11:30:47.678Z"
   },
   {
    "duration": 41,
    "start_time": "2021-07-16T11:30:47.717Z"
   },
   {
    "duration": 23,
    "start_time": "2021-07-16T11:30:47.760Z"
   },
   {
    "duration": 9,
    "start_time": "2021-07-16T11:30:47.786Z"
   },
   {
    "duration": 14,
    "start_time": "2021-07-16T11:30:47.798Z"
   },
   {
    "duration": 45,
    "start_time": "2021-07-16T11:30:47.815Z"
   },
   {
    "duration": 211,
    "start_time": "2021-07-16T11:30:47.864Z"
   },
   {
    "duration": 214,
    "start_time": "2021-07-16T11:30:48.078Z"
   },
   {
    "duration": 16,
    "start_time": "2021-07-16T11:30:48.295Z"
   },
   {
    "duration": 563,
    "start_time": "2021-07-16T11:30:48.313Z"
   },
   {
    "duration": 569,
    "start_time": "2021-07-16T11:30:48.879Z"
   },
   {
    "duration": 31,
    "start_time": "2021-07-16T11:30:49.450Z"
   },
   {
    "duration": 46,
    "start_time": "2021-07-16T11:30:49.483Z"
   },
   {
    "duration": 46,
    "start_time": "2021-07-16T11:30:49.531Z"
   },
   {
    "duration": 16,
    "start_time": "2021-07-16T11:30:49.580Z"
   },
   {
    "duration": 8,
    "start_time": "2021-07-16T11:30:49.599Z"
   },
   {
    "duration": 5,
    "start_time": "2021-07-16T11:30:49.609Z"
   },
   {
    "duration": 228,
    "start_time": "2021-07-16T11:30:49.616Z"
   },
   {
    "duration": 13,
    "start_time": "2021-07-16T11:30:49.847Z"
   },
   {
    "duration": 21,
    "start_time": "2021-07-16T11:30:49.862Z"
   },
   {
    "duration": 405,
    "start_time": "2021-07-16T11:30:49.887Z"
   },
   {
    "duration": -59,
    "start_time": "2021-07-16T11:30:50.354Z"
   },
   {
    "duration": -68,
    "start_time": "2021-07-16T11:30:50.365Z"
   },
   {
    "duration": -75,
    "start_time": "2021-07-16T11:30:50.373Z"
   },
   {
    "duration": -79,
    "start_time": "2021-07-16T11:30:50.379Z"
   },
   {
    "duration": 1460,
    "start_time": "2021-07-16T18:36:06.476Z"
   },
   {
    "duration": 33,
    "start_time": "2021-07-16T18:36:07.939Z"
   },
   {
    "duration": 27,
    "start_time": "2021-07-16T18:36:07.975Z"
   },
   {
    "duration": 54,
    "start_time": "2021-07-16T18:36:08.005Z"
   },
   {
    "duration": 11,
    "start_time": "2021-07-16T18:36:08.062Z"
   },
   {
    "duration": 14,
    "start_time": "2021-07-16T18:36:08.076Z"
   },
   {
    "duration": 9,
    "start_time": "2021-07-16T18:36:08.092Z"
   },
   {
    "duration": 263,
    "start_time": "2021-07-16T18:36:08.104Z"
   },
   {
    "duration": 222,
    "start_time": "2021-07-16T18:36:08.369Z"
   },
   {
    "duration": 16,
    "start_time": "2021-07-16T18:36:08.593Z"
   },
   {
    "duration": 679,
    "start_time": "2021-07-16T18:36:08.612Z"
   },
   {
    "duration": 581,
    "start_time": "2021-07-16T18:36:09.293Z"
   },
   {
    "duration": 28,
    "start_time": "2021-07-16T18:36:09.876Z"
   },
   {
    "duration": 75,
    "start_time": "2021-07-16T18:36:09.906Z"
   },
   {
    "duration": 25,
    "start_time": "2021-07-16T18:36:09.983Z"
   },
   {
    "duration": 18,
    "start_time": "2021-07-16T18:36:10.011Z"
   },
   {
    "duration": 6,
    "start_time": "2021-07-16T18:36:10.055Z"
   },
   {
    "duration": 24,
    "start_time": "2021-07-16T18:36:10.063Z"
   },
   {
    "duration": 217,
    "start_time": "2021-07-16T18:36:10.089Z"
   },
   {
    "duration": 9,
    "start_time": "2021-07-16T18:36:10.308Z"
   },
   {
    "duration": 412,
    "start_time": "2021-07-16T18:36:10.319Z"
   },
   {
    "duration": 285,
    "start_time": "2021-07-16T18:36:54.317Z"
   },
   {
    "duration": 29,
    "start_time": "2021-07-16T18:36:59.170Z"
   },
   {
    "duration": 32,
    "start_time": "2021-07-16T18:37:06.654Z"
   },
   {
    "duration": 19,
    "start_time": "2021-07-16T18:37:45.716Z"
   },
   {
    "duration": 21,
    "start_time": "2021-07-16T18:38:11.854Z"
   },
   {
    "duration": 338,
    "start_time": "2021-07-16T18:42:29.368Z"
   },
   {
    "duration": 305,
    "start_time": "2021-07-16T18:42:38.393Z"
   },
   {
    "duration": 304,
    "start_time": "2021-07-16T18:43:01.849Z"
   },
   {
    "duration": 274,
    "start_time": "2021-07-16T18:43:18.834Z"
   },
   {
    "duration": 103,
    "start_time": "2021-07-16T18:43:45.793Z"
   },
   {
    "duration": 81484,
    "start_time": "2021-07-16T18:43:53.953Z"
   },
   {
    "duration": 1563,
    "start_time": "2021-07-16T18:52:40.097Z"
   },
   {
    "duration": 23,
    "start_time": "2021-07-16T18:52:47.734Z"
   },
   {
    "duration": 809,
    "start_time": "2021-07-16T18:53:11.453Z"
   },
   {
    "duration": 20,
    "start_time": "2021-07-16T18:53:49.743Z"
   },
   {
    "duration": 1505,
    "start_time": "2021-07-17T05:35:46.837Z"
   },
   {
    "duration": 34,
    "start_time": "2021-07-17T05:35:48.344Z"
   },
   {
    "duration": 28,
    "start_time": "2021-07-17T05:35:48.381Z"
   },
   {
    "duration": 22,
    "start_time": "2021-07-17T05:35:48.412Z"
   },
   {
    "duration": 11,
    "start_time": "2021-07-17T05:35:48.437Z"
   },
   {
    "duration": 16,
    "start_time": "2021-07-17T05:35:48.486Z"
   },
   {
    "duration": 14,
    "start_time": "2021-07-17T05:35:48.505Z"
   },
   {
    "duration": 234,
    "start_time": "2021-07-17T05:35:48.523Z"
   },
   {
    "duration": 219,
    "start_time": "2021-07-17T05:35:48.761Z"
   },
   {
    "duration": 17,
    "start_time": "2021-07-17T05:35:48.986Z"
   },
   {
    "duration": 571,
    "start_time": "2021-07-17T05:35:49.005Z"
   },
   {
    "duration": 564,
    "start_time": "2021-07-17T05:35:49.586Z"
   },
   {
    "duration": 41,
    "start_time": "2021-07-17T05:35:50.152Z"
   },
   {
    "duration": 50,
    "start_time": "2021-07-17T05:35:50.196Z"
   },
   {
    "duration": 40,
    "start_time": "2021-07-17T05:35:50.248Z"
   },
   {
    "duration": 17,
    "start_time": "2021-07-17T05:35:50.291Z"
   },
   {
    "duration": 9,
    "start_time": "2021-07-17T05:35:50.311Z"
   },
   {
    "duration": 7,
    "start_time": "2021-07-17T05:35:50.323Z"
   },
   {
    "duration": 227,
    "start_time": "2021-07-17T05:35:50.333Z"
   },
   {
    "duration": 9,
    "start_time": "2021-07-17T05:35:50.562Z"
   },
   {
    "duration": 26,
    "start_time": "2021-07-17T05:35:50.585Z"
   },
   {
    "duration": 19,
    "start_time": "2021-07-17T05:35:50.614Z"
   },
   {
    "duration": 80837,
    "start_time": "2021-07-17T05:35:50.638Z"
   },
   {
    "duration": 606,
    "start_time": "2021-07-17T05:37:11.485Z"
   },
   {
    "duration": 108,
    "start_time": "2021-07-17T05:37:12.095Z"
   },
   {
    "duration": 32,
    "start_time": "2021-07-17T08:29:10.201Z"
   },
   {
    "duration": 1587,
    "start_time": "2021-07-17T08:31:52.881Z"
   },
   {
    "duration": 34,
    "start_time": "2021-07-17T08:31:54.470Z"
   },
   {
    "duration": 28,
    "start_time": "2021-07-17T08:31:54.507Z"
   },
   {
    "duration": 48,
    "start_time": "2021-07-17T08:31:54.537Z"
   },
   {
    "duration": 9,
    "start_time": "2021-07-17T08:31:54.588Z"
   },
   {
    "duration": 15,
    "start_time": "2021-07-17T08:31:54.599Z"
   },
   {
    "duration": 8,
    "start_time": "2021-07-17T08:31:54.616Z"
   },
   {
    "duration": 257,
    "start_time": "2021-07-17T08:31:54.628Z"
   },
   {
    "duration": 238,
    "start_time": "2021-07-17T08:31:54.888Z"
   },
   {
    "duration": 16,
    "start_time": "2021-07-17T08:31:55.129Z"
   },
   {
    "duration": 592,
    "start_time": "2021-07-17T08:31:55.148Z"
   },
   {
    "duration": 583,
    "start_time": "2021-07-17T08:31:55.742Z"
   },
   {
    "duration": 27,
    "start_time": "2021-07-17T08:31:56.327Z"
   },
   {
    "duration": 70,
    "start_time": "2021-07-17T08:31:56.356Z"
   },
   {
    "duration": 25,
    "start_time": "2021-07-17T08:31:56.428Z"
   },
   {
    "duration": 40,
    "start_time": "2021-07-17T08:31:56.456Z"
   },
   {
    "duration": 9,
    "start_time": "2021-07-17T08:31:56.499Z"
   },
   {
    "duration": 6,
    "start_time": "2021-07-17T08:31:56.511Z"
   },
   {
    "duration": 219,
    "start_time": "2021-07-17T08:31:56.520Z"
   },
   {
    "duration": 8,
    "start_time": "2021-07-17T08:31:56.742Z"
   },
   {
    "duration": 53,
    "start_time": "2021-07-17T08:31:56.753Z"
   },
   {
    "duration": 31,
    "start_time": "2021-07-17T08:31:56.809Z"
   },
   {
    "duration": 48,
    "start_time": "2021-07-17T08:31:56.846Z"
   },
   {
    "duration": 83460,
    "start_time": "2021-07-17T08:31:56.897Z"
   },
   {
    "duration": 528,
    "start_time": "2021-07-17T08:33:20.360Z"
   },
   {
    "duration": 110,
    "start_time": "2021-07-17T08:33:20.891Z"
   },
   {
    "duration": 34,
    "start_time": "2021-07-17T08:45:30.947Z"
   },
   {
    "duration": 764,
    "start_time": "2021-07-17T08:46:00.393Z"
   },
   {
    "duration": 30,
    "start_time": "2021-07-17T08:50:06.022Z"
   },
   {
    "duration": 32,
    "start_time": "2021-07-17T08:50:56.304Z"
   },
   {
    "duration": 14,
    "start_time": "2021-07-17T08:51:14.589Z"
   },
   {
    "duration": 331,
    "start_time": "2021-07-17T08:51:15.586Z"
   },
   {
    "duration": 25,
    "start_time": "2021-07-17T09:07:50.108Z"
   },
   {
    "duration": 28,
    "start_time": "2021-07-17T09:12:55.740Z"
   },
   {
    "duration": 21,
    "start_time": "2021-07-17T09:12:57.137Z"
   },
   {
    "duration": 84422,
    "start_time": "2021-07-17T09:13:14.860Z"
   },
   {
    "duration": 12,
    "start_time": "2021-07-17T09:14:39.286Z"
   },
   {
    "duration": 328,
    "start_time": "2021-07-17T09:18:33.396Z"
   },
   {
    "duration": 13,
    "start_time": "2021-07-17T09:18:37.477Z"
   },
   {
    "duration": 36,
    "start_time": "2021-07-17T09:28:47.330Z"
   },
   {
    "duration": 565,
    "start_time": "2021-07-17T14:42:29.040Z"
   },
   {
    "duration": 7,
    "start_time": "2021-07-17T14:42:48.406Z"
   },
   {
    "duration": 312,
    "start_time": "2021-07-17T14:42:53.578Z"
   },
   {
    "duration": 318,
    "start_time": "2021-07-17T14:46:33.183Z"
   },
   {
    "duration": 323,
    "start_time": "2021-07-17T14:49:32.746Z"
   },
   {
    "duration": 4052,
    "start_time": "2021-07-17T14:54:53.038Z"
   },
   {
    "duration": 7,
    "start_time": "2021-07-17T14:55:10.247Z"
   },
   {
    "duration": -1758,
    "start_time": "2021-07-17T14:56:26.640Z"
   },
   {
    "duration": 8,
    "start_time": "2021-07-17T15:01:51.552Z"
   },
   {
    "duration": 8,
    "start_time": "2021-07-17T15:04:26.791Z"
   },
   {
    "duration": 34,
    "start_time": "2021-07-17T15:04:35.519Z"
   },
   {
    "duration": 191,
    "start_time": "2021-07-17T15:04:55.754Z"
   },
   {
    "duration": 734,
    "start_time": "2021-07-17T15:07:51.656Z"
   },
   {
    "duration": 327,
    "start_time": "2021-07-17T15:09:15.760Z"
   },
   {
    "duration": 23,
    "start_time": "2021-07-17T15:09:30.488Z"
   },
   {
    "duration": 24,
    "start_time": "2021-07-17T15:11:53.369Z"
   },
   {
    "duration": 526,
    "start_time": "2021-07-17T15:11:55.438Z"
   },
   {
    "duration": 560,
    "start_time": "2021-07-17T15:12:04.505Z"
   },
   {
    "duration": 563,
    "start_time": "2021-07-17T15:12:40.122Z"
   },
   {
    "duration": 25,
    "start_time": "2021-07-17T15:12:47.794Z"
   },
   {
    "duration": 535,
    "start_time": "2021-07-17T15:12:50.062Z"
   },
   {
    "duration": 527,
    "start_time": "2021-07-17T15:12:57.896Z"
   },
   {
    "duration": 318,
    "start_time": "2021-07-17T15:14:12.230Z"
   },
   {
    "duration": 548,
    "start_time": "2021-07-17T15:14:17.807Z"
   },
   {
    "duration": 12,
    "start_time": "2021-07-17T15:16:10.872Z"
   },
   {
    "duration": 27,
    "start_time": "2021-07-17T15:16:48.642Z"
   },
   {
    "duration": 573,
    "start_time": "2021-07-17T15:17:01.858Z"
   },
   {
    "duration": 570,
    "start_time": "2021-07-17T15:17:05.004Z"
   },
   {
    "duration": 689,
    "start_time": "2021-07-17T15:17:58.367Z"
   },
   {
    "duration": 687,
    "start_time": "2021-07-17T15:19:34.887Z"
   },
   {
    "duration": 668,
    "start_time": "2021-07-17T15:20:15.560Z"
   },
   {
    "duration": 28,
    "start_time": "2021-07-17T15:21:27.405Z"
   },
   {
    "duration": 590,
    "start_time": "2021-07-17T15:21:41.728Z"
   },
   {
    "duration": 644,
    "start_time": "2021-07-17T15:21:53.924Z"
   },
   {
    "duration": 906,
    "start_time": "2021-07-17T15:22:33.495Z"
   },
   {
    "duration": 624,
    "start_time": "2021-07-17T15:25:24.117Z"
   },
   {
    "duration": 13,
    "start_time": "2021-07-17T15:26:05.401Z"
   },
   {
    "duration": 692,
    "start_time": "2021-07-17T15:27:03.639Z"
   },
   {
    "duration": 614,
    "start_time": "2021-07-17T15:28:10.759Z"
   },
   {
    "duration": 592,
    "start_time": "2021-07-17T15:28:46.288Z"
   },
   {
    "duration": 684,
    "start_time": "2021-07-17T15:29:24.807Z"
   },
   {
    "duration": 604,
    "start_time": "2021-07-17T15:30:01.418Z"
   },
   {
    "duration": 336,
    "start_time": "2021-07-17T15:30:29.462Z"
   },
   {
    "duration": 1550,
    "start_time": "2021-07-17T15:30:43.283Z"
   },
   {
    "duration": 34,
    "start_time": "2021-07-17T15:30:44.836Z"
   },
   {
    "duration": 27,
    "start_time": "2021-07-17T15:30:44.873Z"
   },
   {
    "duration": 25,
    "start_time": "2021-07-17T15:30:44.904Z"
   },
   {
    "duration": 9,
    "start_time": "2021-07-17T15:30:44.932Z"
   },
   {
    "duration": 44,
    "start_time": "2021-07-17T15:30:44.944Z"
   },
   {
    "duration": 11,
    "start_time": "2021-07-17T15:30:44.990Z"
   },
   {
    "duration": 11,
    "start_time": "2021-07-17T15:30:45.004Z"
   },
   {
    "duration": 8,
    "start_time": "2021-07-17T15:30:45.019Z"
   },
   {
    "duration": 250,
    "start_time": "2021-07-17T15:30:45.030Z"
   },
   {
    "duration": 229,
    "start_time": "2021-07-17T15:30:45.286Z"
   },
   {
    "duration": 7,
    "start_time": "2021-07-17T15:30:45.517Z"
   },
   {
    "duration": 39,
    "start_time": "2021-07-17T15:30:45.526Z"
   },
   {
    "duration": 44,
    "start_time": "2021-07-17T15:30:45.568Z"
   },
   {
    "duration": 12,
    "start_time": "2021-07-17T15:30:45.615Z"
   },
   {
    "duration": 571,
    "start_time": "2021-07-17T15:30:45.630Z"
   },
   {
    "duration": 574,
    "start_time": "2021-07-17T15:30:46.204Z"
   },
   {
    "duration": 694,
    "start_time": "2021-07-17T15:30:46.781Z"
   },
   {
    "duration": 667,
    "start_time": "2021-07-17T15:30:47.477Z"
   },
   {
    "duration": 27,
    "start_time": "2021-07-17T15:30:48.146Z"
   },
   {
    "duration": 44,
    "start_time": "2021-07-17T15:30:48.186Z"
   },
   {
    "duration": 24,
    "start_time": "2021-07-17T15:30:48.233Z"
   },
   {
    "duration": 19,
    "start_time": "2021-07-17T15:30:48.288Z"
   },
   {
    "duration": 12,
    "start_time": "2021-07-17T15:30:48.309Z"
   },
   {
    "duration": 6,
    "start_time": "2021-07-17T15:30:48.324Z"
   },
   {
    "duration": 214,
    "start_time": "2021-07-17T15:30:48.332Z"
   },
   {
    "duration": 8,
    "start_time": "2021-07-17T15:30:48.548Z"
   },
   {
    "duration": 47,
    "start_time": "2021-07-17T15:30:48.559Z"
   },
   {
    "duration": 15,
    "start_time": "2021-07-17T15:30:48.608Z"
   },
   {
    "duration": 491,
    "start_time": "2021-07-17T15:30:48.625Z"
   },
   {
    "duration": -1880,
    "start_time": "2021-07-17T15:30:50.999Z"
   },
   {
    "duration": -1892,
    "start_time": "2021-07-17T15:30:51.012Z"
   },
   {
    "duration": -1904,
    "start_time": "2021-07-17T15:30:51.026Z"
   },
   {
    "duration": -1917,
    "start_time": "2021-07-17T15:30:51.040Z"
   },
   {
    "duration": -1929,
    "start_time": "2021-07-17T15:30:51.054Z"
   },
   {
    "duration": 29,
    "start_time": "2021-07-17T15:31:36.724Z"
   },
   {
    "duration": 766,
    "start_time": "2021-07-17T15:31:40.618Z"
   },
   {
    "duration": 610,
    "start_time": "2021-07-17T15:31:46.322Z"
   },
   {
    "duration": 347,
    "start_time": "2021-07-17T15:31:53.600Z"
   },
   {
    "duration": 21,
    "start_time": "2021-07-17T15:32:13.669Z"
   },
   {
    "duration": 2149,
    "start_time": "2021-07-17T15:32:48.888Z"
   },
   {
    "duration": 45,
    "start_time": "2021-07-17T15:32:51.040Z"
   },
   {
    "duration": 38,
    "start_time": "2021-07-17T15:32:51.089Z"
   },
   {
    "duration": 64,
    "start_time": "2021-07-17T15:32:51.130Z"
   },
   {
    "duration": 15,
    "start_time": "2021-07-17T15:32:51.197Z"
   },
   {
    "duration": 23,
    "start_time": "2021-07-17T15:32:51.215Z"
   },
   {
    "duration": 45,
    "start_time": "2021-07-17T15:32:51.242Z"
   },
   {
    "duration": 12,
    "start_time": "2021-07-17T15:32:51.293Z"
   },
   {
    "duration": 13,
    "start_time": "2021-07-17T15:32:51.309Z"
   },
   {
    "duration": 365,
    "start_time": "2021-07-17T15:32:51.325Z"
   },
   {
    "duration": 332,
    "start_time": "2021-07-17T15:32:51.693Z"
   },
   {
    "duration": 9,
    "start_time": "2021-07-17T15:32:52.028Z"
   },
   {
    "duration": 67,
    "start_time": "2021-07-17T15:32:52.040Z"
   },
   {
    "duration": 40,
    "start_time": "2021-07-17T15:32:52.110Z"
   },
   {
    "duration": 66,
    "start_time": "2021-07-17T15:32:52.154Z"
   },
   {
    "duration": 18,
    "start_time": "2021-07-17T15:32:52.223Z"
   },
   {
    "duration": 837,
    "start_time": "2021-07-17T15:32:52.244Z"
   },
   {
    "duration": 563,
    "start_time": "2021-07-17T15:32:53.086Z"
   },
   {
    "duration": 677,
    "start_time": "2021-07-17T15:32:53.651Z"
   },
   {
    "duration": 694,
    "start_time": "2021-07-17T15:32:54.330Z"
   },
   {
    "duration": 33,
    "start_time": "2021-07-17T15:32:55.028Z"
   },
   {
    "duration": 96,
    "start_time": "2021-07-17T15:32:55.065Z"
   },
   {
    "duration": 38,
    "start_time": "2021-07-17T15:32:55.168Z"
   },
   {
    "duration": 18,
    "start_time": "2021-07-17T15:32:55.209Z"
   },
   {
    "duration": 12,
    "start_time": "2021-07-17T15:32:55.229Z"
   },
   {
    "duration": 10,
    "start_time": "2021-07-17T15:32:55.243Z"
   },
   {
    "duration": 232,
    "start_time": "2021-07-17T15:32:55.255Z"
   },
   {
    "duration": 8,
    "start_time": "2021-07-17T15:32:55.489Z"
   },
   {
    "duration": 30,
    "start_time": "2021-07-17T15:32:55.499Z"
   },
   {
    "duration": 3,
    "start_time": "2021-07-17T15:32:55.531Z"
   },
   {
    "duration": 485,
    "start_time": "2021-07-17T15:32:55.537Z"
   },
   {
    "duration": -1942,
    "start_time": "2021-07-17T15:32:57.967Z"
   },
   {
    "duration": -1954,
    "start_time": "2021-07-17T15:32:57.980Z"
   },
   {
    "duration": -1964,
    "start_time": "2021-07-17T15:32:57.991Z"
   },
   {
    "duration": -1975,
    "start_time": "2021-07-17T15:32:58.003Z"
   },
   {
    "duration": -1984,
    "start_time": "2021-07-17T15:32:58.014Z"
   },
   {
    "duration": 30,
    "start_time": "2021-07-17T15:33:54.618Z"
   },
   {
    "duration": 631,
    "start_time": "2021-07-17T15:33:58.738Z"
   },
   {
    "duration": 15,
    "start_time": "2021-07-17T15:42:01.303Z"
   },
   {
    "duration": 309,
    "start_time": "2021-07-17T15:42:12.770Z"
   },
   {
    "duration": 314,
    "start_time": "2021-07-17T15:42:19.494Z"
   },
   {
    "duration": 29,
    "start_time": "2021-07-17T15:42:50.356Z"
   },
   {
    "duration": 318,
    "start_time": "2021-07-17T15:43:43.503Z"
   },
   {
    "duration": 338,
    "start_time": "2021-07-17T15:43:53.252Z"
   },
   {
    "duration": 440,
    "start_time": "2021-07-17T15:44:01.832Z"
   },
   {
    "duration": 332,
    "start_time": "2021-07-17T15:44:17.191Z"
   },
   {
    "duration": 36,
    "start_time": "2021-07-17T15:44:21.347Z"
   },
   {
    "duration": 30,
    "start_time": "2021-07-17T15:44:48.248Z"
   },
   {
    "duration": 1600,
    "start_time": "2021-07-17T15:45:30.893Z"
   },
   {
    "duration": 34,
    "start_time": "2021-07-17T15:45:32.495Z"
   },
   {
    "duration": 35,
    "start_time": "2021-07-17T15:45:32.532Z"
   },
   {
    "duration": 30,
    "start_time": "2021-07-17T15:45:32.570Z"
   },
   {
    "duration": 42,
    "start_time": "2021-07-17T15:45:32.603Z"
   },
   {
    "duration": 31,
    "start_time": "2021-07-17T15:45:32.647Z"
   },
   {
    "duration": 16,
    "start_time": "2021-07-17T15:45:32.680Z"
   },
   {
    "duration": 24,
    "start_time": "2021-07-17T15:45:32.700Z"
   },
   {
    "duration": 23,
    "start_time": "2021-07-17T15:45:32.727Z"
   },
   {
    "duration": 240,
    "start_time": "2021-07-17T15:45:32.753Z"
   },
   {
    "duration": 235,
    "start_time": "2021-07-17T15:45:32.995Z"
   },
   {
    "duration": 7,
    "start_time": "2021-07-17T15:45:33.232Z"
   },
   {
    "duration": 51,
    "start_time": "2021-07-17T15:45:33.241Z"
   },
   {
    "duration": 28,
    "start_time": "2021-07-17T15:45:33.294Z"
   },
   {
    "duration": 13,
    "start_time": "2021-07-17T15:45:33.324Z"
   },
   {
    "duration": 635,
    "start_time": "2021-07-17T15:45:33.340Z"
   },
   {
    "duration": 596,
    "start_time": "2021-07-17T15:45:33.978Z"
   },
   {
    "duration": 704,
    "start_time": "2021-07-17T15:45:34.576Z"
   },
   {
    "duration": 709,
    "start_time": "2021-07-17T15:45:35.286Z"
   },
   {
    "duration": 26,
    "start_time": "2021-07-17T15:45:35.998Z"
   },
   {
    "duration": 65,
    "start_time": "2021-07-17T15:45:36.026Z"
   },
   {
    "duration": 25,
    "start_time": "2021-07-17T15:45:36.093Z"
   },
   {
    "duration": 18,
    "start_time": "2021-07-17T15:45:36.123Z"
   },
   {
    "duration": 20,
    "start_time": "2021-07-17T15:45:36.144Z"
   },
   {
    "duration": 20,
    "start_time": "2021-07-17T15:45:36.167Z"
   },
   {
    "duration": 225,
    "start_time": "2021-07-17T15:45:36.189Z"
   },
   {
    "duration": 9,
    "start_time": "2021-07-17T15:45:36.417Z"
   },
   {
    "duration": 33,
    "start_time": "2021-07-17T15:45:36.429Z"
   },
   {
    "duration": 28,
    "start_time": "2021-07-17T15:45:36.486Z"
   },
   {
    "duration": 467,
    "start_time": "2021-07-17T15:45:36.517Z"
   },
   {
    "duration": -1793,
    "start_time": "2021-07-17T15:45:38.780Z"
   },
   {
    "duration": -1806,
    "start_time": "2021-07-17T15:45:38.794Z"
   },
   {
    "duration": -1823,
    "start_time": "2021-07-17T15:45:38.813Z"
   },
   {
    "duration": -1835,
    "start_time": "2021-07-17T15:45:38.826Z"
   },
   {
    "duration": 39,
    "start_time": "2021-07-17T15:45:54.217Z"
   },
   {
    "duration": 47,
    "start_time": "2021-07-17T15:46:23.295Z"
   },
   {
    "duration": 83203,
    "start_time": "2021-07-17T15:46:43.257Z"
   },
   {
    "duration": 929,
    "start_time": "2021-07-17T15:48:41.559Z"
   },
   {
    "duration": 568,
    "start_time": "2021-07-17T15:48:54.921Z"
   },
   {
    "duration": 17,
    "start_time": "2021-07-17T15:49:04.168Z"
   },
   {
    "duration": 100,
    "start_time": "2021-07-17T15:57:21.971Z"
   },
   {
    "duration": 297,
    "start_time": "2021-07-17T16:08:04.197Z"
   },
   {
    "duration": 101,
    "start_time": "2021-07-17T16:08:26.167Z"
   },
   {
    "duration": 11,
    "start_time": "2021-07-17T16:08:51.341Z"
   },
   {
    "duration": 12,
    "start_time": "2021-07-17T16:09:04.060Z"
   },
   {
    "duration": 1570,
    "start_time": "2021-07-17T16:09:16.469Z"
   },
   {
    "duration": 37,
    "start_time": "2021-07-17T16:09:18.042Z"
   },
   {
    "duration": 26,
    "start_time": "2021-07-17T16:09:18.088Z"
   },
   {
    "duration": 30,
    "start_time": "2021-07-17T16:09:18.118Z"
   },
   {
    "duration": 13,
    "start_time": "2021-07-17T16:09:18.186Z"
   },
   {
    "duration": 17,
    "start_time": "2021-07-17T16:09:18.202Z"
   },
   {
    "duration": 11,
    "start_time": "2021-07-17T16:09:18.224Z"
   },
   {
    "duration": 52,
    "start_time": "2021-07-17T16:09:18.239Z"
   },
   {
    "duration": 13,
    "start_time": "2021-07-17T16:09:18.294Z"
   },
   {
    "duration": 249,
    "start_time": "2021-07-17T16:09:18.310Z"
   },
   {
    "duration": 233,
    "start_time": "2021-07-17T16:09:18.562Z"
   },
   {
    "duration": 8,
    "start_time": "2021-07-17T16:09:18.797Z"
   },
   {
    "duration": 35,
    "start_time": "2021-07-17T16:09:18.807Z"
   },
   {
    "duration": 60,
    "start_time": "2021-07-17T16:09:18.844Z"
   },
   {
    "duration": 16,
    "start_time": "2021-07-17T16:09:18.907Z"
   },
   {
    "duration": 586,
    "start_time": "2021-07-17T16:09:18.926Z"
   },
   {
    "duration": 576,
    "start_time": "2021-07-17T16:09:19.515Z"
   },
   {
    "duration": 694,
    "start_time": "2021-07-17T16:09:20.094Z"
   },
   {
    "duration": 653,
    "start_time": "2021-07-17T16:09:20.790Z"
   },
   {
    "duration": 26,
    "start_time": "2021-07-17T16:09:21.445Z"
   },
   {
    "duration": 42,
    "start_time": "2021-07-17T16:09:21.486Z"
   },
   {
    "duration": 54,
    "start_time": "2021-07-17T16:09:21.533Z"
   },
   {
    "duration": 18,
    "start_time": "2021-07-17T16:09:21.590Z"
   },
   {
    "duration": 17,
    "start_time": "2021-07-17T16:09:21.610Z"
   },
   {
    "duration": 19,
    "start_time": "2021-07-17T16:09:21.629Z"
   },
   {
    "duration": 195,
    "start_time": "2021-07-17T16:09:21.651Z"
   },
   {
    "duration": 9,
    "start_time": "2021-07-17T16:09:21.848Z"
   },
   {
    "duration": 64,
    "start_time": "2021-07-17T16:09:21.860Z"
   },
   {
    "duration": 81510,
    "start_time": "2021-07-17T16:09:21.927Z"
   },
   {
    "duration": 550,
    "start_time": "2021-07-17T16:10:43.439Z"
   },
   {
    "duration": 102,
    "start_time": "2021-07-17T16:10:43.992Z"
   },
   {
    "duration": 1630,
    "start_time": "2021-07-17T16:12:24.728Z"
   },
   {
    "duration": 35,
    "start_time": "2021-07-17T16:12:26.360Z"
   },
   {
    "duration": 24,
    "start_time": "2021-07-17T16:12:26.397Z"
   },
   {
    "duration": 25,
    "start_time": "2021-07-17T16:12:26.424Z"
   },
   {
    "duration": 37,
    "start_time": "2021-07-17T16:12:26.452Z"
   },
   {
    "duration": 15,
    "start_time": "2021-07-17T16:12:26.492Z"
   },
   {
    "duration": 10,
    "start_time": "2021-07-17T16:12:26.510Z"
   },
   {
    "duration": 14,
    "start_time": "2021-07-17T16:12:26.524Z"
   },
   {
    "duration": 44,
    "start_time": "2021-07-17T16:12:26.541Z"
   },
   {
    "duration": 227,
    "start_time": "2021-07-17T16:12:26.588Z"
   },
   {
    "duration": 220,
    "start_time": "2021-07-17T16:12:26.818Z"
   },
   {
    "duration": 6,
    "start_time": "2021-07-17T16:12:27.041Z"
   },
   {
    "duration": 51,
    "start_time": "2021-07-17T16:12:27.050Z"
   },
   {
    "duration": 28,
    "start_time": "2021-07-17T16:12:27.103Z"
   },
   {
    "duration": 13,
    "start_time": "2021-07-17T16:12:27.133Z"
   },
   {
    "duration": 606,
    "start_time": "2021-07-17T16:12:27.149Z"
   },
   {
    "duration": 595,
    "start_time": "2021-07-17T16:12:27.758Z"
   },
   {
    "duration": 745,
    "start_time": "2021-07-17T16:12:28.355Z"
   },
   {
    "duration": 695,
    "start_time": "2021-07-17T16:12:29.102Z"
   },
   {
    "duration": 25,
    "start_time": "2021-07-17T16:12:29.800Z"
   },
   {
    "duration": 66,
    "start_time": "2021-07-17T16:12:29.828Z"
   },
   {
    "duration": 24,
    "start_time": "2021-07-17T16:12:29.896Z"
   },
   {
    "duration": 18,
    "start_time": "2021-07-17T16:12:29.924Z"
   },
   {
    "duration": 14,
    "start_time": "2021-07-17T16:12:29.945Z"
   },
   {
    "duration": 29,
    "start_time": "2021-07-17T16:12:29.962Z"
   },
   {
    "duration": 203,
    "start_time": "2021-07-17T16:12:29.993Z"
   },
   {
    "duration": 9,
    "start_time": "2021-07-17T16:12:30.199Z"
   },
   {
    "duration": 57,
    "start_time": "2021-07-17T16:12:30.210Z"
   },
   {
    "duration": 82527,
    "start_time": "2021-07-17T16:12:30.285Z"
   },
   {
    "duration": 772,
    "start_time": "2021-07-17T16:13:52.814Z"
   },
   {
    "duration": 98,
    "start_time": "2021-07-17T16:13:53.590Z"
   },
   {
    "duration": 1599,
    "start_time": "2021-07-17T18:31:22.228Z"
   },
   {
    "duration": 32,
    "start_time": "2021-07-17T18:31:23.830Z"
   },
   {
    "duration": 26,
    "start_time": "2021-07-17T18:31:24.180Z"
   },
   {
    "duration": 29,
    "start_time": "2021-07-17T18:31:25.303Z"
   },
   {
    "duration": 11,
    "start_time": "2021-07-17T18:31:26.551Z"
   },
   {
    "duration": 16,
    "start_time": "2021-07-17T18:31:27.502Z"
   },
   {
    "duration": 11,
    "start_time": "2021-07-17T18:31:28.543Z"
   },
   {
    "duration": 8,
    "start_time": "2021-07-17T18:31:29.460Z"
   },
   {
    "duration": 6,
    "start_time": "2021-07-17T18:33:25.820Z"
   },
   {
    "duration": 32,
    "start_time": "2021-07-17T18:33:26.092Z"
   },
   {
    "duration": 19,
    "start_time": "2021-07-17T18:33:26.500Z"
   },
   {
    "duration": 24,
    "start_time": "2021-07-17T18:33:27.073Z"
   },
   {
    "duration": 10,
    "start_time": "2021-07-17T18:33:28.780Z"
   },
   {
    "duration": 16,
    "start_time": "2021-07-17T18:33:30.303Z"
   },
   {
    "duration": 11,
    "start_time": "2021-07-17T18:33:31.140Z"
   },
   {
    "duration": 10,
    "start_time": "2021-07-17T18:33:32.180Z"
   },
   {
    "duration": 10,
    "start_time": "2021-07-17T18:33:35.553Z"
   },
   {
    "duration": 240,
    "start_time": "2021-07-17T18:46:20.754Z"
   },
   {
    "duration": 221,
    "start_time": "2021-07-17T18:46:21.924Z"
   },
   {
    "duration": 7,
    "start_time": "2021-07-17T18:46:23.804Z"
   },
   {
    "duration": 42,
    "start_time": "2021-07-17T18:46:28.054Z"
   },
   {
    "duration": 33,
    "start_time": "2021-07-17T18:47:04.625Z"
   },
   {
    "duration": 12,
    "start_time": "2021-07-17T18:47:05.126Z"
   },
   {
    "duration": 584,
    "start_time": "2021-07-17T18:47:05.634Z"
   },
   {
    "duration": 680,
    "start_time": "2021-07-17T18:47:06.563Z"
   },
   {
    "duration": 674,
    "start_time": "2021-07-17T18:47:09.435Z"
   },
   {
    "duration": 727,
    "start_time": "2021-07-17T18:47:11.994Z"
   },
   {
    "duration": 28,
    "start_time": "2021-07-17T18:48:01.165Z"
   },
   {
    "duration": 47,
    "start_time": "2021-07-17T18:48:03.977Z"
   },
   {
    "duration": 26,
    "start_time": "2021-07-17T18:48:04.787Z"
   },
   {
    "duration": 18,
    "start_time": "2021-07-17T18:48:08.101Z"
   },
   {
    "duration": 6,
    "start_time": "2021-07-17T18:48:09.435Z"
   },
   {
    "duration": 5,
    "start_time": "2021-07-17T18:48:29.265Z"
   },
   {
    "duration": 203,
    "start_time": "2021-07-17T18:48:32.457Z"
   },
   {
    "duration": 9,
    "start_time": "2021-07-17T18:48:37.107Z"
   },
   {
    "duration": 46,
    "start_time": "2021-07-17T18:49:30.979Z"
   },
   {
    "duration": 83296,
    "start_time": "2021-07-17T18:49:46.739Z"
   },
   {
    "duration": 332,
    "start_time": "2021-07-17T18:51:10.038Z"
   },
   {
    "duration": 100,
    "start_time": "2021-07-17T18:51:10.373Z"
   },
   {
    "duration": 206,
    "start_time": "2021-07-18T13:03:15.714Z"
   },
   {
    "duration": 67,
    "start_time": "2021-07-18T13:11:48.207Z"
   },
   {
    "duration": 1088,
    "start_time": "2021-07-18T13:11:54.412Z"
   },
   {
    "duration": 383,
    "start_time": "2021-07-18T13:11:55.502Z"
   },
   {
    "duration": 17,
    "start_time": "2021-07-18T13:11:55.887Z"
   },
   {
    "duration": 16,
    "start_time": "2021-07-18T13:11:55.906Z"
   },
   {
    "duration": 6,
    "start_time": "2021-07-18T13:11:55.923Z"
   },
   {
    "duration": 9,
    "start_time": "2021-07-18T13:11:55.931Z"
   },
   {
    "duration": 6,
    "start_time": "2021-07-18T13:11:55.941Z"
   },
   {
    "duration": 310,
    "start_time": "2021-07-18T13:11:55.949Z"
   },
   {
    "duration": -398,
    "start_time": "2021-07-18T13:11:56.660Z"
   },
   {
    "duration": -411,
    "start_time": "2021-07-18T13:11:56.674Z"
   },
   {
    "duration": -424,
    "start_time": "2021-07-18T13:11:56.689Z"
   },
   {
    "duration": -439,
    "start_time": "2021-07-18T13:11:56.705Z"
   },
   {
    "duration": -453,
    "start_time": "2021-07-18T13:11:56.720Z"
   },
   {
    "duration": -468,
    "start_time": "2021-07-18T13:11:56.736Z"
   },
   {
    "duration": -512,
    "start_time": "2021-07-18T13:11:56.781Z"
   },
   {
    "duration": -538,
    "start_time": "2021-07-18T13:11:56.808Z"
   },
   {
    "duration": -562,
    "start_time": "2021-07-18T13:11:56.833Z"
   },
   {
    "duration": -580,
    "start_time": "2021-07-18T13:11:56.852Z"
   },
   {
    "duration": -593,
    "start_time": "2021-07-18T13:11:56.866Z"
   },
   {
    "duration": -624,
    "start_time": "2021-07-18T13:11:56.898Z"
   },
   {
    "duration": -637,
    "start_time": "2021-07-18T13:11:56.912Z"
   },
   {
    "duration": -647,
    "start_time": "2021-07-18T13:11:56.923Z"
   },
   {
    "duration": -657,
    "start_time": "2021-07-18T13:11:56.934Z"
   },
   {
    "duration": -667,
    "start_time": "2021-07-18T13:11:56.945Z"
   },
   {
    "duration": -680,
    "start_time": "2021-07-18T13:11:56.959Z"
   },
   {
    "duration": -689,
    "start_time": "2021-07-18T13:11:56.970Z"
   },
   {
    "duration": -699,
    "start_time": "2021-07-18T13:11:56.981Z"
   },
   {
    "duration": -708,
    "start_time": "2021-07-18T13:11:56.991Z"
   },
   {
    "duration": -738,
    "start_time": "2021-07-18T13:11:57.022Z"
   },
   {
    "duration": -750,
    "start_time": "2021-07-18T13:11:57.035Z"
   },
   {
    "duration": -760,
    "start_time": "2021-07-18T13:11:57.046Z"
   },
   {
    "duration": -771,
    "start_time": "2021-07-18T13:11:57.058Z"
   },
   {
    "duration": -782,
    "start_time": "2021-07-18T13:11:57.070Z"
   },
   {
    "duration": 1087,
    "start_time": "2021-07-19T12:24:49.091Z"
   },
   {
    "duration": 26,
    "start_time": "2021-07-19T12:24:50.180Z"
   },
   {
    "duration": 16,
    "start_time": "2021-07-19T12:24:50.208Z"
   },
   {
    "duration": 16,
    "start_time": "2021-07-19T12:24:50.225Z"
   },
   {
    "duration": 6,
    "start_time": "2021-07-19T12:24:50.242Z"
   },
   {
    "duration": 10,
    "start_time": "2021-07-19T12:24:50.250Z"
   },
   {
    "duration": 7,
    "start_time": "2021-07-19T12:24:50.284Z"
   },
   {
    "duration": 274,
    "start_time": "2021-07-19T12:24:50.294Z"
   },
   {
    "duration": -45,
    "start_time": "2021-07-19T12:24:50.615Z"
   },
   {
    "duration": -57,
    "start_time": "2021-07-19T12:24:50.628Z"
   },
   {
    "duration": -66,
    "start_time": "2021-07-19T12:24:50.638Z"
   },
   {
    "duration": -78,
    "start_time": "2021-07-19T12:24:50.651Z"
   },
   {
    "duration": -90,
    "start_time": "2021-07-19T12:24:50.664Z"
   },
   {
    "duration": -96,
    "start_time": "2021-07-19T12:24:50.671Z"
   },
   {
    "duration": -110,
    "start_time": "2021-07-19T12:24:50.686Z"
   },
   {
    "duration": -119,
    "start_time": "2021-07-19T12:24:50.696Z"
   },
   {
    "duration": -133,
    "start_time": "2021-07-19T12:24:50.711Z"
   },
   {
    "duration": -148,
    "start_time": "2021-07-19T12:24:50.727Z"
   },
   {
    "duration": -161,
    "start_time": "2021-07-19T12:24:50.741Z"
   },
   {
    "duration": -186,
    "start_time": "2021-07-19T12:24:50.767Z"
   },
   {
    "duration": -200,
    "start_time": "2021-07-19T12:24:50.782Z"
   },
   {
    "duration": -212,
    "start_time": "2021-07-19T12:24:50.795Z"
   },
   {
    "duration": -222,
    "start_time": "2021-07-19T12:24:50.806Z"
   },
   {
    "duration": -230,
    "start_time": "2021-07-19T12:24:50.815Z"
   },
   {
    "duration": -240,
    "start_time": "2021-07-19T12:24:50.826Z"
   },
   {
    "duration": -243,
    "start_time": "2021-07-19T12:24:50.830Z"
   },
   {
    "duration": -246,
    "start_time": "2021-07-19T12:24:50.834Z"
   },
   {
    "duration": -249,
    "start_time": "2021-07-19T12:24:50.838Z"
   },
   {
    "duration": -256,
    "start_time": "2021-07-19T12:24:50.846Z"
   },
   {
    "duration": -263,
    "start_time": "2021-07-19T12:24:50.854Z"
   },
   {
    "duration": -267,
    "start_time": "2021-07-19T12:24:50.859Z"
   },
   {
    "duration": -270,
    "start_time": "2021-07-19T12:24:50.863Z"
   },
   {
    "duration": 7,
    "start_time": "2021-07-19T12:26:21.740Z"
   },
   {
    "duration": 1092,
    "start_time": "2021-07-19T12:26:30.732Z"
   },
   {
    "duration": 27,
    "start_time": "2021-07-19T12:26:31.826Z"
   },
   {
    "duration": 15,
    "start_time": "2021-07-19T12:26:31.857Z"
   },
   {
    "duration": 15,
    "start_time": "2021-07-19T12:26:31.874Z"
   },
   {
    "duration": 8,
    "start_time": "2021-07-19T12:26:31.890Z"
   },
   {
    "duration": 13,
    "start_time": "2021-07-19T12:26:31.899Z"
   },
   {
    "duration": 7,
    "start_time": "2021-07-19T12:26:31.915Z"
   },
   {
    "duration": 6,
    "start_time": "2021-07-19T12:26:31.923Z"
   },
   {
    "duration": 6,
    "start_time": "2021-07-19T12:26:31.931Z"
   },
   {
    "duration": 6,
    "start_time": "2021-07-19T12:26:31.938Z"
   },
   {
    "duration": 178,
    "start_time": "2021-07-19T12:26:31.946Z"
   },
   {
    "duration": 191,
    "start_time": "2021-07-19T12:26:32.126Z"
   },
   {
    "duration": 6,
    "start_time": "2021-07-19T12:26:32.318Z"
   },
   {
    "duration": 20,
    "start_time": "2021-07-19T12:26:32.326Z"
   },
   {
    "duration": 46,
    "start_time": "2021-07-19T12:26:32.348Z"
   },
   {
    "duration": 9,
    "start_time": "2021-07-19T12:26:32.396Z"
   },
   {
    "duration": 365,
    "start_time": "2021-07-19T12:26:32.407Z"
   },
   {
    "duration": 351,
    "start_time": "2021-07-19T12:26:32.774Z"
   },
   {
    "duration": 391,
    "start_time": "2021-07-19T12:26:33.126Z"
   },
   {
    "duration": 420,
    "start_time": "2021-07-19T12:26:33.519Z"
   },
   {
    "duration": 15,
    "start_time": "2021-07-19T12:26:33.941Z"
   },
   {
    "duration": 40,
    "start_time": "2021-07-19T12:26:33.960Z"
   },
   {
    "duration": 13,
    "start_time": "2021-07-19T12:26:34.002Z"
   },
   {
    "duration": 11,
    "start_time": "2021-07-19T12:26:34.017Z"
   },
   {
    "duration": 9,
    "start_time": "2021-07-19T12:26:34.030Z"
   },
   {
    "duration": 8,
    "start_time": "2021-07-19T12:26:34.041Z"
   },
   {
    "duration": 104,
    "start_time": "2021-07-19T12:26:34.050Z"
   },
   {
    "duration": 6,
    "start_time": "2021-07-19T12:26:34.155Z"
   },
   {
    "duration": 41,
    "start_time": "2021-07-19T12:26:34.163Z"
   },
   {
    "duration": 50815,
    "start_time": "2021-07-19T12:26:34.206Z"
   },
   {
    "duration": 470,
    "start_time": "2021-07-19T12:27:25.023Z"
   },
   {
    "duration": 13,
    "start_time": "2021-07-19T12:27:25.585Z"
   },
   {
    "duration": 4814,
    "start_time": "2021-07-19T12:33:14.671Z"
   },
   {
    "duration": 21,
    "start_time": "2021-07-19T12:33:24.859Z"
   },
   {
    "duration": 8,
    "start_time": "2021-07-19T12:36:42.670Z"
   },
   {
    "duration": 86,
    "start_time": "2021-07-19T12:36:47.780Z"
   },
   {
    "duration": 10,
    "start_time": "2021-07-19T12:36:54.965Z"
   },
   {
    "duration": 20,
    "start_time": "2021-07-19T12:41:37.371Z"
   },
   {
    "duration": 8,
    "start_time": "2021-07-19T12:43:40.251Z"
   },
   {
    "duration": 21,
    "start_time": "2021-07-19T12:44:23.818Z"
   },
   {
    "duration": 7,
    "start_time": "2021-07-19T12:45:28.202Z"
   },
   {
    "duration": 1076,
    "start_time": "2021-07-19T12:47:04.420Z"
   },
   {
    "duration": 27,
    "start_time": "2021-07-19T12:47:05.499Z"
   },
   {
    "duration": 16,
    "start_time": "2021-07-19T12:47:05.528Z"
   },
   {
    "duration": 15,
    "start_time": "2021-07-19T12:47:05.546Z"
   },
   {
    "duration": 7,
    "start_time": "2021-07-19T12:47:05.563Z"
   },
   {
    "duration": 21,
    "start_time": "2021-07-19T12:47:05.571Z"
   },
   {
    "duration": 6,
    "start_time": "2021-07-19T12:47:05.593Z"
   },
   {
    "duration": 6,
    "start_time": "2021-07-19T12:47:05.601Z"
   },
   {
    "duration": 5,
    "start_time": "2021-07-19T12:47:05.609Z"
   },
   {
    "duration": 7,
    "start_time": "2021-07-19T12:47:05.615Z"
   },
   {
    "duration": 156,
    "start_time": "2021-07-19T12:47:05.623Z"
   },
   {
    "duration": 138,
    "start_time": "2021-07-19T12:47:05.784Z"
   },
   {
    "duration": 4,
    "start_time": "2021-07-19T12:47:05.924Z"
   },
   {
    "duration": 28,
    "start_time": "2021-07-19T12:47:05.930Z"
   },
   {
    "duration": 36,
    "start_time": "2021-07-19T12:47:05.960Z"
   },
   {
    "duration": 19,
    "start_time": "2021-07-19T12:47:05.997Z"
   },
   {
    "duration": 18,
    "start_time": "2021-07-19T12:47:06.017Z"
   },
   {
    "duration": 374,
    "start_time": "2021-07-19T12:47:06.036Z"
   },
   {
    "duration": 340,
    "start_time": "2021-07-19T12:47:06.411Z"
   },
   {
    "duration": 400,
    "start_time": "2021-07-19T12:47:06.753Z"
   },
   {
    "duration": 422,
    "start_time": "2021-07-19T12:47:07.154Z"
   },
   {
    "duration": 19,
    "start_time": "2021-07-19T12:47:07.578Z"
   },
   {
    "duration": 23,
    "start_time": "2021-07-19T12:47:07.600Z"
   },
   {
    "duration": 17,
    "start_time": "2021-07-19T12:47:07.625Z"
   },
   {
    "duration": 11,
    "start_time": "2021-07-19T12:47:07.644Z"
   },
   {
    "duration": 29,
    "start_time": "2021-07-19T12:47:07.656Z"
   },
   {
    "duration": 9,
    "start_time": "2021-07-19T12:47:07.686Z"
   },
   {
    "duration": 93,
    "start_time": "2021-07-19T12:47:07.696Z"
   },
   {
    "duration": 6,
    "start_time": "2021-07-19T12:47:07.790Z"
   },
   {
    "duration": 10,
    "start_time": "2021-07-19T12:47:07.797Z"
   },
   {
    "duration": 26,
    "start_time": "2021-07-19T12:47:07.808Z"
   },
   {
    "duration": 1070,
    "start_time": "2021-07-19T12:47:32.847Z"
   },
   {
    "duration": 27,
    "start_time": "2021-07-19T12:47:33.919Z"
   },
   {
    "duration": 16,
    "start_time": "2021-07-19T12:47:33.948Z"
   },
   {
    "duration": 23,
    "start_time": "2021-07-19T12:47:33.966Z"
   },
   {
    "duration": 7,
    "start_time": "2021-07-19T12:47:33.990Z"
   },
   {
    "duration": 11,
    "start_time": "2021-07-19T12:47:33.998Z"
   },
   {
    "duration": 7,
    "start_time": "2021-07-19T12:47:34.010Z"
   },
   {
    "duration": 6,
    "start_time": "2021-07-19T12:47:34.019Z"
   },
   {
    "duration": 6,
    "start_time": "2021-07-19T12:47:34.028Z"
   },
   {
    "duration": 6,
    "start_time": "2021-07-19T12:47:34.036Z"
   },
   {
    "duration": 171,
    "start_time": "2021-07-19T12:47:34.044Z"
   },
   {
    "duration": 135,
    "start_time": "2021-07-19T12:47:34.217Z"
   },
   {
    "duration": 5,
    "start_time": "2021-07-19T12:47:34.354Z"
   },
   {
    "duration": 25,
    "start_time": "2021-07-19T12:47:34.361Z"
   },
   {
    "duration": 18,
    "start_time": "2021-07-19T12:47:34.387Z"
   },
   {
    "duration": 15,
    "start_time": "2021-07-19T12:47:34.407Z"
   },
   {
    "duration": 7,
    "start_time": "2021-07-19T12:47:34.424Z"
   },
   {
    "duration": 367,
    "start_time": "2021-07-19T12:47:34.433Z"
   },
   {
    "duration": 333,
    "start_time": "2021-07-19T12:47:34.802Z"
   },
   {
    "duration": 387,
    "start_time": "2021-07-19T12:47:35.137Z"
   },
   {
    "duration": 422,
    "start_time": "2021-07-19T12:47:35.526Z"
   },
   {
    "duration": 16,
    "start_time": "2021-07-19T12:47:35.949Z"
   },
   {
    "duration": 36,
    "start_time": "2021-07-19T12:47:35.966Z"
   },
   {
    "duration": 14,
    "start_time": "2021-07-19T12:47:36.004Z"
   },
   {
    "duration": 12,
    "start_time": "2021-07-19T12:47:36.020Z"
   },
   {
    "duration": 24,
    "start_time": "2021-07-19T12:47:36.033Z"
   },
   {
    "duration": 14,
    "start_time": "2021-07-19T12:47:36.060Z"
   },
   {
    "duration": 93,
    "start_time": "2021-07-19T12:47:36.075Z"
   },
   {
    "duration": 6,
    "start_time": "2021-07-19T12:47:36.169Z"
   },
   {
    "duration": 18,
    "start_time": "2021-07-19T12:47:36.176Z"
   },
   {
    "duration": 35,
    "start_time": "2021-07-19T12:47:36.196Z"
   },
   {
    "duration": 51693,
    "start_time": "2021-07-19T12:47:36.233Z"
   },
   {
    "duration": 466,
    "start_time": "2021-07-19T12:48:27.927Z"
   },
   {
    "duration": 17,
    "start_time": "2021-07-19T12:48:28.485Z"
   },
   {
    "duration": 86,
    "start_time": "2021-07-19T12:48:28.505Z"
   },
   {
    "duration": 5,
    "start_time": "2021-07-19T12:49:39.124Z"
   },
   {
    "duration": 91,
    "start_time": "2021-07-19T12:49:41.701Z"
   },
   {
    "duration": 7,
    "start_time": "2021-07-19T12:49:43.699Z"
   },
   {
    "duration": 7,
    "start_time": "2021-07-19T12:49:44.708Z"
   },
   {
    "duration": 8,
    "start_time": "2021-07-19T12:49:47.668Z"
   },
   {
    "duration": 4,
    "start_time": "2021-07-19T12:49:56.037Z"
   },
   {
    "duration": 91,
    "start_time": "2021-07-19T12:49:58.037Z"
   },
   {
    "duration": 6,
    "start_time": "2021-07-19T12:49:59.444Z"
   },
   {
    "duration": 8,
    "start_time": "2021-07-19T12:50:01.461Z"
   },
   {
    "duration": 1209,
    "start_time": "2021-07-19T12:50:05.676Z"
   },
   {
    "duration": 27,
    "start_time": "2021-07-19T12:50:06.887Z"
   },
   {
    "duration": 16,
    "start_time": "2021-07-19T12:50:06.916Z"
   },
   {
    "duration": 16,
    "start_time": "2021-07-19T12:50:06.934Z"
   },
   {
    "duration": 6,
    "start_time": "2021-07-19T12:50:06.952Z"
   },
   {
    "duration": 27,
    "start_time": "2021-07-19T12:50:06.960Z"
   },
   {
    "duration": 6,
    "start_time": "2021-07-19T12:50:06.988Z"
   },
   {
    "duration": 6,
    "start_time": "2021-07-19T12:50:06.997Z"
   },
   {
    "duration": 5,
    "start_time": "2021-07-19T12:50:07.005Z"
   },
   {
    "duration": 7,
    "start_time": "2021-07-19T12:50:07.011Z"
   },
   {
    "duration": 155,
    "start_time": "2021-07-19T12:50:07.020Z"
   },
   {
    "duration": 142,
    "start_time": "2021-07-19T12:50:07.177Z"
   },
   {
    "duration": 5,
    "start_time": "2021-07-19T12:50:07.320Z"
   },
   {
    "duration": 12,
    "start_time": "2021-07-19T12:50:07.326Z"
   },
   {
    "duration": 18,
    "start_time": "2021-07-19T12:50:07.340Z"
   },
   {
    "duration": 41,
    "start_time": "2021-07-19T12:50:07.359Z"
   },
   {
    "duration": 7,
    "start_time": "2021-07-19T12:50:07.402Z"
   },
   {
    "duration": 373,
    "start_time": "2021-07-19T12:50:07.411Z"
   },
   {
    "duration": 348,
    "start_time": "2021-07-19T12:50:07.786Z"
   },
   {
    "duration": 396,
    "start_time": "2021-07-19T12:50:08.135Z"
   },
   {
    "duration": 431,
    "start_time": "2021-07-19T12:50:08.532Z"
   },
   {
    "duration": 21,
    "start_time": "2021-07-19T12:50:08.965Z"
   },
   {
    "duration": 24,
    "start_time": "2021-07-19T12:50:08.990Z"
   },
   {
    "duration": 17,
    "start_time": "2021-07-19T12:50:09.016Z"
   },
   {
    "duration": 13,
    "start_time": "2021-07-19T12:50:09.035Z"
   },
   {
    "duration": 9,
    "start_time": "2021-07-19T12:50:09.050Z"
   },
   {
    "duration": 30,
    "start_time": "2021-07-19T12:50:09.060Z"
   },
   {
    "duration": 93,
    "start_time": "2021-07-19T12:50:09.092Z"
   },
   {
    "duration": 5,
    "start_time": "2021-07-19T12:50:09.187Z"
   },
   {
    "duration": 8,
    "start_time": "2021-07-19T12:50:09.194Z"
   },
   {
    "duration": 27,
    "start_time": "2021-07-19T12:50:09.204Z"
   },
   {
    "duration": 50880,
    "start_time": "2021-07-19T12:50:09.233Z"
   },
   {
    "duration": 275,
    "start_time": "2021-07-19T12:51:00.115Z"
   },
   {
    "duration": 103,
    "start_time": "2021-07-19T12:51:00.392Z"
   },
   {
    "duration": 4,
    "start_time": "2021-07-19T12:52:18.100Z"
   },
   {
    "duration": 96,
    "start_time": "2021-07-19T12:52:19.379Z"
   },
   {
    "duration": 8,
    "start_time": "2021-07-19T12:52:21.186Z"
   },
   {
    "duration": 7,
    "start_time": "2021-07-19T12:52:27.460Z"
   },
   {
    "duration": 7,
    "start_time": "2021-07-19T12:53:08.227Z"
   },
   {
    "duration": 21,
    "start_time": "2021-07-19T13:23:06.765Z"
   },
   {
    "duration": 282,
    "start_time": "2021-07-19T13:23:27.530Z"
   },
   {
    "duration": 207,
    "start_time": "2021-07-19T13:23:34.523Z"
   },
   {
    "duration": 22,
    "start_time": "2021-07-19T13:23:44.541Z"
   },
   {
    "duration": 205,
    "start_time": "2021-07-19T13:24:15.916Z"
   },
   {
    "duration": 8,
    "start_time": "2021-07-19T13:24:25.303Z"
   },
   {
    "duration": 9,
    "start_time": "2021-07-19T13:24:36.331Z"
   },
   {
    "duration": 7,
    "start_time": "2021-07-19T13:24:41.593Z"
   },
   {
    "duration": 8,
    "start_time": "2021-07-19T13:24:47.018Z"
   },
   {
    "duration": 6,
    "start_time": "2021-07-19T13:26:50.648Z"
   },
   {
    "duration": 8,
    "start_time": "2021-07-19T13:26:57.883Z"
   },
   {
    "duration": 10,
    "start_time": "2021-07-19T13:28:35.449Z"
   },
   {
    "duration": 4,
    "start_time": "2021-07-19T13:30:40.855Z"
   },
   {
    "duration": 199,
    "start_time": "2021-07-19T13:31:18.935Z"
   },
   {
    "duration": 418,
    "start_time": "2021-07-19T13:31:26.760Z"
   },
   {
    "duration": 4,
    "start_time": "2021-07-19T13:31:48.617Z"
   },
   {
    "duration": 395,
    "start_time": "2021-07-19T13:31:49.271Z"
   },
   {
    "duration": 5,
    "start_time": "2021-07-19T13:32:11.447Z"
   },
   {
    "duration": 375,
    "start_time": "2021-07-19T13:32:12.329Z"
   },
   {
    "duration": 4,
    "start_time": "2021-07-19T13:32:33.719Z"
   },
   {
    "duration": 470,
    "start_time": "2021-07-19T13:32:34.233Z"
   },
   {
    "duration": 5,
    "start_time": "2021-07-19T13:33:45.447Z"
   },
   {
    "duration": 412,
    "start_time": "2021-07-19T13:33:46.007Z"
   },
   {
    "duration": 4,
    "start_time": "2021-07-19T13:34:12.871Z"
   },
   {
    "duration": 385,
    "start_time": "2021-07-19T13:34:13.367Z"
   },
   {
    "duration": 385,
    "start_time": "2021-07-19T13:34:34.071Z"
   },
   {
    "duration": 4,
    "start_time": "2021-07-19T13:35:03.334Z"
   },
   {
    "duration": 5,
    "start_time": "2021-07-19T13:35:09.973Z"
   },
   {
    "duration": 14,
    "start_time": "2021-07-19T13:35:10.711Z"
   },
   {
    "duration": 13,
    "start_time": "2021-07-19T13:36:39.943Z"
   },
   {
    "duration": 5,
    "start_time": "2021-07-19T13:36:42.695Z"
   },
   {
    "duration": 4,
    "start_time": "2021-07-19T13:36:49.862Z"
   },
   {
    "duration": 4,
    "start_time": "2021-07-19T13:36:53.862Z"
   },
   {
    "duration": 9,
    "start_time": "2021-07-19T13:40:55.669Z"
   },
   {
    "duration": 6,
    "start_time": "2021-07-19T13:40:56.757Z"
   },
   {
    "duration": 4,
    "start_time": "2021-07-19T13:41:00.629Z"
   },
   {
    "duration": 6,
    "start_time": "2021-07-19T13:41:28.885Z"
   },
   {
    "duration": 10,
    "start_time": "2021-07-19T13:41:29.397Z"
   },
   {
    "duration": 4,
    "start_time": "2021-07-19T13:42:26.148Z"
   },
   {
    "duration": 13,
    "start_time": "2021-07-19T13:42:27.285Z"
   },
   {
    "duration": 4,
    "start_time": "2021-07-19T13:42:32.704Z"
   },
   {
    "duration": 9,
    "start_time": "2021-07-19T13:42:32.804Z"
   },
   {
    "duration": 4,
    "start_time": "2021-07-19T13:46:58.886Z"
   },
   {
    "duration": 242,
    "start_time": "2021-07-19T13:46:59.427Z"
   },
   {
    "duration": 379,
    "start_time": "2021-07-19T13:47:08.116Z"
   },
   {
    "duration": 5,
    "start_time": "2021-07-19T13:47:17.251Z"
   },
   {
    "duration": 9,
    "start_time": "2021-07-19T13:47:17.762Z"
   },
   {
    "duration": 4,
    "start_time": "2021-07-19T13:47:28.771Z"
   },
   {
    "duration": 11,
    "start_time": "2021-07-19T13:47:29.298Z"
   },
   {
    "duration": 4,
    "start_time": "2021-07-19T13:48:46.549Z"
   },
   {
    "duration": 4,
    "start_time": "2021-07-19T13:49:18.787Z"
   },
   {
    "duration": 28,
    "start_time": "2021-07-19T13:49:38.627Z"
   },
   {
    "duration": 4,
    "start_time": "2021-07-19T13:49:58.996Z"
   },
   {
    "duration": 30,
    "start_time": "2021-07-19T13:50:03.795Z"
   },
   {
    "duration": 33,
    "start_time": "2021-07-19T13:50:19.058Z"
   },
   {
    "duration": 187,
    "start_time": "2021-07-19T13:51:14.690Z"
   },
   {
    "duration": 58,
    "start_time": "2021-07-19T13:51:23.170Z"
   },
   {
    "duration": 180,
    "start_time": "2021-07-19T13:51:29.698Z"
   },
   {
    "duration": 4,
    "start_time": "2021-07-19T13:52:38.433Z"
   },
   {
    "duration": 31,
    "start_time": "2021-07-19T13:52:39.170Z"
   },
   {
    "duration": 3,
    "start_time": "2021-07-19T13:52:43.394Z"
   },
   {
    "duration": 32,
    "start_time": "2021-07-19T13:52:45.858Z"
   },
   {
    "duration": 4,
    "start_time": "2021-07-19T13:52:51.554Z"
   },
   {
    "duration": 32,
    "start_time": "2021-07-19T13:52:52.274Z"
   },
   {
    "duration": 4,
    "start_time": "2021-07-19T13:53:00.098Z"
   },
   {
    "duration": 32,
    "start_time": "2021-07-19T13:53:01.090Z"
   },
   {
    "duration": 4,
    "start_time": "2021-07-19T13:53:30.018Z"
   },
   {
    "duration": 34,
    "start_time": "2021-07-19T13:53:30.546Z"
   },
   {
    "duration": 4532,
    "start_time": "2021-07-19T13:57:34.370Z"
   },
   {
    "duration": 199,
    "start_time": "2021-07-19T13:57:46.817Z"
   },
   {
    "duration": 34,
    "start_time": "2021-07-19T13:57:53.977Z"
   },
   {
    "duration": 1596,
    "start_time": "2021-07-20T13:26:14.028Z"
   },
   {
    "duration": 35,
    "start_time": "2021-07-20T13:26:15.627Z"
   },
   {
    "duration": 23,
    "start_time": "2021-07-20T13:26:15.684Z"
   },
   {
    "duration": 24,
    "start_time": "2021-07-20T13:26:15.710Z"
   },
   {
    "duration": 10,
    "start_time": "2021-07-20T13:26:15.736Z"
   },
   {
    "duration": 48,
    "start_time": "2021-07-20T13:26:15.748Z"
   },
   {
    "duration": 12,
    "start_time": "2021-07-20T13:26:15.800Z"
   },
   {
    "duration": 10,
    "start_time": "2021-07-20T13:26:15.816Z"
   },
   {
    "duration": 9,
    "start_time": "2021-07-20T13:26:15.828Z"
   },
   {
    "duration": 51,
    "start_time": "2021-07-20T13:26:15.840Z"
   },
   {
    "duration": 232,
    "start_time": "2021-07-20T13:26:15.894Z"
   },
   {
    "duration": 222,
    "start_time": "2021-07-20T13:26:16.129Z"
   },
   {
    "duration": 8,
    "start_time": "2021-07-20T13:26:16.355Z"
   },
   {
    "duration": 35,
    "start_time": "2021-07-20T13:26:16.366Z"
   },
   {
    "duration": 33,
    "start_time": "2021-07-20T13:26:16.404Z"
   },
   {
    "duration": 55,
    "start_time": "2021-07-20T13:26:16.439Z"
   },
   {
    "duration": 12,
    "start_time": "2021-07-20T13:26:16.498Z"
   },
   {
    "duration": 583,
    "start_time": "2021-07-20T13:26:16.513Z"
   },
   {
    "duration": 566,
    "start_time": "2021-07-20T13:26:17.099Z"
   },
   {
    "duration": 690,
    "start_time": "2021-07-20T13:26:17.668Z"
   },
   {
    "duration": 759,
    "start_time": "2021-07-20T13:26:18.361Z"
   },
   {
    "duration": 23,
    "start_time": "2021-07-20T13:26:19.125Z"
   },
   {
    "duration": 63,
    "start_time": "2021-07-20T13:26:19.151Z"
   },
   {
    "duration": 22,
    "start_time": "2021-07-20T13:26:19.217Z"
   },
   {
    "duration": 17,
    "start_time": "2021-07-20T13:26:19.242Z"
   },
   {
    "duration": 44,
    "start_time": "2021-07-20T13:26:19.262Z"
   },
   {
    "duration": 24,
    "start_time": "2021-07-20T13:26:19.309Z"
   },
   {
    "duration": 140,
    "start_time": "2021-07-20T13:26:19.335Z"
   },
   {
    "duration": 12,
    "start_time": "2021-07-20T13:26:19.477Z"
   },
   {
    "duration": 20,
    "start_time": "2021-07-20T13:26:19.492Z"
   },
   {
    "duration": 92,
    "start_time": "2021-07-20T13:26:19.514Z"
   },
   {
    "duration": 82029,
    "start_time": "2021-07-20T13:26:19.608Z"
   },
   {
    "duration": 68,
    "start_time": "2021-07-20T13:27:41.639Z"
   },
   {
    "duration": 14,
    "start_time": "2021-07-20T13:27:41.709Z"
   },
   {
    "duration": 6,
    "start_time": "2021-07-20T13:27:41.725Z"
   },
   {
    "duration": 26,
    "start_time": "2021-07-20T13:27:41.733Z"
   },
   {
    "duration": 1542,
    "start_time": "2021-07-20T14:19:30.402Z"
   },
   {
    "duration": 35,
    "start_time": "2021-07-20T14:19:31.947Z"
   },
   {
    "duration": 24,
    "start_time": "2021-07-20T14:19:31.990Z"
   },
   {
    "duration": 25,
    "start_time": "2021-07-20T14:19:32.017Z"
   },
   {
    "duration": 45,
    "start_time": "2021-07-20T14:19:32.045Z"
   },
   {
    "duration": 25,
    "start_time": "2021-07-20T14:19:32.092Z"
   },
   {
    "duration": 10,
    "start_time": "2021-07-20T14:19:32.121Z"
   },
   {
    "duration": 17,
    "start_time": "2021-07-20T14:19:32.134Z"
   },
   {
    "duration": 33,
    "start_time": "2021-07-20T14:19:32.153Z"
   },
   {
    "duration": 10,
    "start_time": "2021-07-20T14:19:32.188Z"
   },
   {
    "duration": 234,
    "start_time": "2021-07-20T14:19:32.201Z"
   },
   {
    "duration": 227,
    "start_time": "2021-07-20T14:19:32.437Z"
   },
   {
    "duration": 6,
    "start_time": "2021-07-20T14:19:32.666Z"
   },
   {
    "duration": 17,
    "start_time": "2021-07-20T14:19:32.685Z"
   },
   {
    "duration": 44,
    "start_time": "2021-07-20T14:19:32.704Z"
   },
   {
    "duration": 38,
    "start_time": "2021-07-20T14:19:32.750Z"
   },
   {
    "duration": 12,
    "start_time": "2021-07-20T14:19:32.790Z"
   },
   {
    "duration": 612,
    "start_time": "2021-07-20T14:19:32.805Z"
   },
   {
    "duration": 571,
    "start_time": "2021-07-20T14:19:33.420Z"
   },
   {
    "duration": 729,
    "start_time": "2021-07-20T14:19:33.993Z"
   },
   {
    "duration": 931,
    "start_time": "2021-07-20T14:19:34.725Z"
   },
   {
    "duration": 28,
    "start_time": "2021-07-20T14:19:35.661Z"
   },
   {
    "duration": 46,
    "start_time": "2021-07-20T14:19:35.691Z"
   },
   {
    "duration": 22,
    "start_time": "2021-07-20T14:19:35.739Z"
   },
   {
    "duration": 38,
    "start_time": "2021-07-20T14:19:35.764Z"
   },
   {
    "duration": 23,
    "start_time": "2021-07-20T14:19:35.805Z"
   },
   {
    "duration": 25,
    "start_time": "2021-07-20T14:19:35.830Z"
   },
   {
    "duration": 141,
    "start_time": "2021-07-20T14:19:35.858Z"
   },
   {
    "duration": 8,
    "start_time": "2021-07-20T14:19:36.002Z"
   },
   {
    "duration": 15,
    "start_time": "2021-07-20T14:19:36.013Z"
   },
   {
    "duration": 56,
    "start_time": "2021-07-20T14:19:36.031Z"
   },
   {
    "duration": 82780,
    "start_time": "2021-07-20T14:19:36.090Z"
   },
   {
    "duration": 71,
    "start_time": "2021-07-20T14:20:58.873Z"
   },
   {
    "duration": 38,
    "start_time": "2021-07-20T14:20:58.947Z"
   },
   {
    "duration": 5,
    "start_time": "2021-07-20T14:20:58.988Z"
   },
   {
    "duration": 27,
    "start_time": "2021-07-20T14:20:58.996Z"
   },
   {
    "duration": 166,
    "start_time": "2021-07-20T14:20:59.027Z"
   },
   {
    "duration": 28,
    "start_time": "2021-07-20T14:22:11.778Z"
   },
   {
    "duration": 9,
    "start_time": "2021-07-20T14:22:47.441Z"
   },
   {
    "duration": 32,
    "start_time": "2021-07-20T14:22:58.432Z"
   },
   {
    "duration": 18,
    "start_time": "2021-07-20T14:24:12.578Z"
   },
   {
    "duration": 6,
    "start_time": "2021-07-20T14:24:14.913Z"
   },
   {
    "duration": 138,
    "start_time": "2021-07-20T14:24:16.690Z"
   },
   {
    "duration": 10,
    "start_time": "2021-07-20T14:24:20.273Z"
   },
   {
    "duration": 12,
    "start_time": "2021-07-20T14:24:59.168Z"
   },
   {
    "duration": 1497,
    "start_time": "2021-07-20T14:25:07.339Z"
   },
   {
    "duration": 34,
    "start_time": "2021-07-20T14:25:08.838Z"
   },
   {
    "duration": 25,
    "start_time": "2021-07-20T14:25:08.874Z"
   },
   {
    "duration": 27,
    "start_time": "2021-07-20T14:25:08.903Z"
   },
   {
    "duration": 12,
    "start_time": "2021-07-20T14:25:08.933Z"
   },
   {
    "duration": 18,
    "start_time": "2021-07-20T14:25:08.985Z"
   },
   {
    "duration": 13,
    "start_time": "2021-07-20T14:25:09.006Z"
   },
   {
    "duration": 11,
    "start_time": "2021-07-20T14:25:09.026Z"
   },
   {
    "duration": 52,
    "start_time": "2021-07-20T14:25:09.041Z"
   },
   {
    "duration": 13,
    "start_time": "2021-07-20T14:25:09.096Z"
   },
   {
    "duration": 236,
    "start_time": "2021-07-20T14:25:09.112Z"
   },
   {
    "duration": 219,
    "start_time": "2021-07-20T14:25:09.351Z"
   },
   {
    "duration": 16,
    "start_time": "2021-07-20T14:25:09.572Z"
   },
   {
    "duration": 16,
    "start_time": "2021-07-20T14:25:09.590Z"
   },
   {
    "duration": 36,
    "start_time": "2021-07-20T14:25:09.608Z"
   },
   {
    "duration": 58,
    "start_time": "2021-07-20T14:25:09.647Z"
   },
   {
    "duration": 11,
    "start_time": "2021-07-20T14:25:09.707Z"
   },
   {
    "duration": 675,
    "start_time": "2021-07-20T14:25:09.721Z"
   },
   {
    "duration": 567,
    "start_time": "2021-07-20T14:25:10.398Z"
   },
   {
    "duration": 635,
    "start_time": "2021-07-20T14:25:10.968Z"
   },
   {
    "duration": 667,
    "start_time": "2021-07-20T14:25:11.606Z"
   },
   {
    "duration": 29,
    "start_time": "2021-07-20T14:25:12.276Z"
   },
   {
    "duration": 39,
    "start_time": "2021-07-20T14:25:12.309Z"
   },
   {
    "duration": 49,
    "start_time": "2021-07-20T14:25:12.352Z"
   },
   {
    "duration": 19,
    "start_time": "2021-07-20T14:25:12.403Z"
   },
   {
    "duration": 13,
    "start_time": "2021-07-20T14:25:12.424Z"
   },
   {
    "duration": 10,
    "start_time": "2021-07-20T14:25:12.439Z"
   },
   {
    "duration": 171,
    "start_time": "2021-07-20T14:25:12.452Z"
   },
   {
    "duration": 9,
    "start_time": "2021-07-20T14:25:12.626Z"
   },
   {
    "duration": 21,
    "start_time": "2021-07-20T14:25:12.637Z"
   },
   {
    "duration": 62,
    "start_time": "2021-07-20T14:25:12.661Z"
   },
   {
    "duration": 81497,
    "start_time": "2021-07-20T14:25:12.726Z"
   },
   {
    "duration": 660,
    "start_time": "2021-07-20T14:26:34.226Z"
   },
   {
    "duration": 18,
    "start_time": "2021-07-20T14:26:34.888Z"
   },
   {
    "duration": 6,
    "start_time": "2021-07-20T14:26:34.909Z"
   },
   {
    "duration": 79,
    "start_time": "2021-07-20T14:26:34.917Z"
   },
   {
    "duration": 1614,
    "start_time": "2021-07-20T17:31:51.248Z"
   },
   {
    "duration": 34,
    "start_time": "2021-07-20T17:31:52.865Z"
   },
   {
    "duration": 26,
    "start_time": "2021-07-20T17:31:52.902Z"
   },
   {
    "duration": 43,
    "start_time": "2021-07-20T17:31:52.930Z"
   },
   {
    "duration": 16,
    "start_time": "2021-07-20T17:31:52.975Z"
   },
   {
    "duration": 34,
    "start_time": "2021-07-20T17:31:52.994Z"
   },
   {
    "duration": 14,
    "start_time": "2021-07-20T17:31:53.031Z"
   },
   {
    "duration": 18,
    "start_time": "2021-07-20T17:31:53.049Z"
   },
   {
    "duration": 24,
    "start_time": "2021-07-20T17:31:53.070Z"
   },
   {
    "duration": 19,
    "start_time": "2021-07-20T17:31:53.097Z"
   },
   {
    "duration": 212,
    "start_time": "2021-07-20T17:31:53.118Z"
   },
   {
    "duration": 225,
    "start_time": "2021-07-20T17:31:53.333Z"
   },
   {
    "duration": 6,
    "start_time": "2021-07-20T17:31:53.560Z"
   },
   {
    "duration": 34,
    "start_time": "2021-07-20T17:31:53.585Z"
   },
   {
    "duration": 57,
    "start_time": "2021-07-20T17:31:53.621Z"
   },
   {
    "duration": 35,
    "start_time": "2021-07-20T17:31:53.680Z"
   },
   {
    "duration": 13,
    "start_time": "2021-07-20T17:31:53.717Z"
   },
   {
    "duration": 598,
    "start_time": "2021-07-20T17:31:53.732Z"
   },
   {
    "duration": 588,
    "start_time": "2021-07-20T17:31:54.333Z"
   },
   {
    "duration": 662,
    "start_time": "2021-07-20T17:31:54.923Z"
   },
   {
    "duration": 779,
    "start_time": "2021-07-20T17:31:55.588Z"
   },
   {
    "duration": 35,
    "start_time": "2021-07-20T17:31:56.370Z"
   },
   {
    "duration": 36,
    "start_time": "2021-07-20T17:31:56.412Z"
   },
   {
    "duration": 52,
    "start_time": "2021-07-20T17:31:56.452Z"
   },
   {
    "duration": 21,
    "start_time": "2021-07-20T17:31:56.507Z"
   },
   {
    "duration": 24,
    "start_time": "2021-07-20T17:31:56.530Z"
   },
   {
    "duration": 14,
    "start_time": "2021-07-20T17:31:56.556Z"
   },
   {
    "duration": 157,
    "start_time": "2021-07-20T17:31:56.573Z"
   },
   {
    "duration": 10,
    "start_time": "2021-07-20T17:31:56.733Z"
   },
   {
    "duration": 39,
    "start_time": "2021-07-20T17:31:56.746Z"
   },
   {
    "duration": 46,
    "start_time": "2021-07-20T17:31:56.788Z"
   },
   {
    "duration": 82271,
    "start_time": "2021-07-20T17:31:56.837Z"
   },
   {
    "duration": 575,
    "start_time": "2021-07-20T17:33:19.111Z"
   },
   {
    "duration": 109,
    "start_time": "2021-07-20T17:33:19.690Z"
   },
   {
    "duration": 6,
    "start_time": "2021-07-20T17:33:19.801Z"
   },
   {
    "duration": 83,
    "start_time": "2021-07-20T17:33:19.809Z"
   },
   {
    "duration": 11,
    "start_time": "2021-07-20T17:33:49.156Z"
   },
   {
    "duration": 10,
    "start_time": "2021-07-20T17:33:56.168Z"
   },
   {
    "duration": 1629,
    "start_time": "2021-07-20T18:33:25.306Z"
   },
   {
    "duration": 33,
    "start_time": "2021-07-20T18:33:26.937Z"
   },
   {
    "duration": 26,
    "start_time": "2021-07-20T18:33:26.973Z"
   },
   {
    "duration": 27,
    "start_time": "2021-07-20T18:33:27.003Z"
   },
   {
    "duration": 11,
    "start_time": "2021-07-20T18:33:27.032Z"
   },
   {
    "duration": 53,
    "start_time": "2021-07-20T18:33:27.045Z"
   },
   {
    "duration": 10,
    "start_time": "2021-07-20T18:33:27.100Z"
   },
   {
    "duration": 9,
    "start_time": "2021-07-20T18:33:27.115Z"
   },
   {
    "duration": 9,
    "start_time": "2021-07-20T18:33:27.127Z"
   },
   {
    "duration": 49,
    "start_time": "2021-07-20T18:33:27.138Z"
   },
   {
    "duration": 233,
    "start_time": "2021-07-20T18:33:27.189Z"
   },
   {
    "duration": 216,
    "start_time": "2021-07-20T18:33:27.425Z"
   },
   {
    "duration": 6,
    "start_time": "2021-07-20T18:33:27.644Z"
   },
   {
    "duration": 39,
    "start_time": "2021-07-20T18:33:27.652Z"
   },
   {
    "duration": 34,
    "start_time": "2021-07-20T18:33:27.693Z"
   },
   {
    "duration": 27,
    "start_time": "2021-07-20T18:33:27.730Z"
   },
   {
    "duration": 14,
    "start_time": "2021-07-20T18:33:27.784Z"
   },
   {
    "duration": 605,
    "start_time": "2021-07-20T18:33:27.801Z"
   },
   {
    "duration": 580,
    "start_time": "2021-07-20T18:33:28.409Z"
   },
   {
    "duration": 657,
    "start_time": "2021-07-20T18:33:28.992Z"
   },
   {
    "duration": 685,
    "start_time": "2021-07-20T18:33:29.652Z"
   },
   {
    "duration": 26,
    "start_time": "2021-07-20T18:33:30.340Z"
   },
   {
    "duration": 51,
    "start_time": "2021-07-20T18:33:30.370Z"
   },
   {
    "duration": 26,
    "start_time": "2021-07-20T18:33:30.423Z"
   },
   {
    "duration": 43,
    "start_time": "2021-07-20T18:33:30.451Z"
   },
   {
    "duration": 18,
    "start_time": "2021-07-20T18:33:30.496Z"
   },
   {
    "duration": 13,
    "start_time": "2021-07-20T18:33:30.516Z"
   },
   {
    "duration": 155,
    "start_time": "2021-07-20T18:33:30.532Z"
   },
   {
    "duration": 9,
    "start_time": "2021-07-20T18:33:30.689Z"
   },
   {
    "duration": 23,
    "start_time": "2021-07-20T18:33:30.701Z"
   },
   {
    "duration": 62,
    "start_time": "2021-07-20T18:33:30.727Z"
   },
   {
    "duration": 81553,
    "start_time": "2021-07-20T18:33:30.792Z"
   },
   {
    "duration": 741,
    "start_time": "2021-07-20T18:34:52.348Z"
   },
   {
    "duration": 106,
    "start_time": "2021-07-20T18:34:53.093Z"
   },
   {
    "duration": 6,
    "start_time": "2021-07-20T18:34:53.201Z"
   },
   {
    "duration": 54,
    "start_time": "2021-07-20T18:34:53.209Z"
   }
  ],
  "kernelspec": {
   "display_name": "Python 3",
   "language": "python",
   "name": "python3"
  },
  "language_info": {
   "codemirror_mode": {
    "name": "ipython",
    "version": 3
   },
   "file_extension": ".py",
   "mimetype": "text/x-python",
   "name": "python",
   "nbconvert_exporter": "python",
   "pygments_lexer": "ipython3",
   "version": "3.8.8"
  },
  "toc": {
   "base_numbering": 1,
   "nav_menu": {},
   "number_sections": true,
   "sideBar": true,
   "skip_h1_title": true,
   "title_cell": "Table of Contents",
   "title_sidebar": "Contents",
   "toc_cell": false,
   "toc_position": {
    "height": "calc(100% - 180px)",
    "left": "10px",
    "top": "150px",
    "width": "348.391px"
   },
   "toc_section_display": true,
   "toc_window_display": false
  }
 },
 "nbformat": 4,
 "nbformat_minor": 2
}
