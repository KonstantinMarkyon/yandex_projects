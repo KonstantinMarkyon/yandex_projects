{
 "cells": [
  {
   "cell_type": "markdown",
   "metadata": {},
   "source": [
    "# Проект \"Рынок заведений общественного питания Москвы\"."
   ]
  },
  {
   "cell_type": "markdown",
   "metadata": {},
   "source": [
    "Цель: выяснить, имеет ли смысл открывать общепит с роботами. Для достижения цели нужно выполнить следующие задачи:\n",
    "- предобработать данные;\n",
    "- проанализировать их;\n",
    "- сформулировать выводы."
   ]
  },
  {
   "cell_type": "code",
   "execution_count": 1,
   "metadata": {},
   "outputs": [],
   "source": [
    "import pandas as pd\n",
    "import matplotlib.pyplot as plt\n",
    "import seaborn as sns\n",
    "import numpy as np\n",
    "import re\n",
    "from io import BytesIO\n",
    "import requests\n",
    "import warnings\n",
    "warnings.filterwarnings('ignore')"
   ]
  },
  {
   "cell_type": "code",
   "execution_count": 2,
   "metadata": {},
   "outputs": [],
   "source": [
    "data = pd.read_csv('rest_data.csv')"
   ]
  },
  {
   "cell_type": "markdown",
   "metadata": {},
   "source": [
    "## Предобработка данных"
   ]
  },
  {
   "cell_type": "markdown",
   "metadata": {},
   "source": [
    "Изучим датасеты."
   ]
  },
  {
   "cell_type": "code",
   "execution_count": 3,
   "metadata": {},
   "outputs": [
    {
     "name": "stdout",
     "output_type": "stream",
     "text": [
      "<class 'pandas.core.frame.DataFrame'>\n",
      "RangeIndex: 15366 entries, 0 to 15365\n",
      "Data columns (total 6 columns):\n",
      " #   Column       Non-Null Count  Dtype \n",
      "---  ------       --------------  ----- \n",
      " 0   id           15366 non-null  int64 \n",
      " 1   object_name  15366 non-null  object\n",
      " 2   chain        15366 non-null  object\n",
      " 3   object_type  15366 non-null  object\n",
      " 4   address      15366 non-null  object\n",
      " 5   number       15366 non-null  int64 \n",
      "dtypes: int64(2), object(4)\n",
      "memory usage: 720.4+ KB\n"
     ]
    },
    {
     "data": {
      "text/html": [
       "<div>\n",
       "<style scoped>\n",
       "    .dataframe tbody tr th:only-of-type {\n",
       "        vertical-align: middle;\n",
       "    }\n",
       "\n",
       "    .dataframe tbody tr th {\n",
       "        vertical-align: top;\n",
       "    }\n",
       "\n",
       "    .dataframe thead th {\n",
       "        text-align: right;\n",
       "    }\n",
       "</style>\n",
       "<table border=\"1\" class=\"dataframe\">\n",
       "  <thead>\n",
       "    <tr style=\"text-align: right;\">\n",
       "      <th></th>\n",
       "      <th>id</th>\n",
       "      <th>object_name</th>\n",
       "      <th>chain</th>\n",
       "      <th>object_type</th>\n",
       "      <th>address</th>\n",
       "      <th>number</th>\n",
       "    </tr>\n",
       "  </thead>\n",
       "  <tbody>\n",
       "    <tr>\n",
       "      <th>15351</th>\n",
       "      <td>223036</td>\n",
       "      <td>Якитория</td>\n",
       "      <td>да</td>\n",
       "      <td>ресторан</td>\n",
       "      <td>город Москва, Авиационная улица, дом 66</td>\n",
       "      <td>92</td>\n",
       "    </tr>\n",
       "    <tr>\n",
       "      <th>15352</th>\n",
       "      <td>213602</td>\n",
       "      <td>Тануки</td>\n",
       "      <td>да</td>\n",
       "      <td>кафе</td>\n",
       "      <td>город Москва, Привольная улица, дом 65/32</td>\n",
       "      <td>50</td>\n",
       "    </tr>\n",
       "    <tr>\n",
       "      <th>15353</th>\n",
       "      <td>213772</td>\n",
       "      <td>Тануки</td>\n",
       "      <td>да</td>\n",
       "      <td>ресторан</td>\n",
       "      <td>город Москва, Осенний бульвар, дом 9</td>\n",
       "      <td>98</td>\n",
       "    </tr>\n",
       "    <tr>\n",
       "      <th>15354</th>\n",
       "      <td>210400</td>\n",
       "      <td>Шоколадница</td>\n",
       "      <td>да</td>\n",
       "      <td>кафе</td>\n",
       "      <td>город Москва, Театральный проезд, дом 5, строе...</td>\n",
       "      <td>45</td>\n",
       "    </tr>\n",
       "    <tr>\n",
       "      <th>15355</th>\n",
       "      <td>74972</td>\n",
       "      <td>Шоколадница</td>\n",
       "      <td>да</td>\n",
       "      <td>кафе</td>\n",
       "      <td>город Москва, улица Новый Арбат, дом 13</td>\n",
       "      <td>30</td>\n",
       "    </tr>\n",
       "    <tr>\n",
       "      <th>15356</th>\n",
       "      <td>220618</td>\n",
       "      <td>Шоколадница</td>\n",
       "      <td>да</td>\n",
       "      <td>кафе</td>\n",
       "      <td>город Москва, Митинская улица, дом 36, корпус 1</td>\n",
       "      <td>100</td>\n",
       "    </tr>\n",
       "    <tr>\n",
       "      <th>15357</th>\n",
       "      <td>218692</td>\n",
       "      <td>Шоколадница</td>\n",
       "      <td>да</td>\n",
       "      <td>кафе</td>\n",
       "      <td>город Москва, площадь Джавахарлала Неру, дом 1</td>\n",
       "      <td>30</td>\n",
       "    </tr>\n",
       "    <tr>\n",
       "      <th>15358</th>\n",
       "      <td>213724</td>\n",
       "      <td>Шоколадница</td>\n",
       "      <td>да</td>\n",
       "      <td>кафе</td>\n",
       "      <td>город Москва, Варшавское шоссе, дом 87Б</td>\n",
       "      <td>54</td>\n",
       "    </tr>\n",
       "    <tr>\n",
       "      <th>15359</th>\n",
       "      <td>222077</td>\n",
       "      <td>Кофейня «Шоколадница»</td>\n",
       "      <td>да</td>\n",
       "      <td>кафе</td>\n",
       "      <td>город Москва, Кантемировская улица, дом 47</td>\n",
       "      <td>72</td>\n",
       "    </tr>\n",
       "    <tr>\n",
       "      <th>15360</th>\n",
       "      <td>219759</td>\n",
       "      <td>Шоколадница</td>\n",
       "      <td>да</td>\n",
       "      <td>кафе</td>\n",
       "      <td>город Москва, улица Вавилова, дом 3</td>\n",
       "      <td>36</td>\n",
       "    </tr>\n",
       "    <tr>\n",
       "      <th>15361</th>\n",
       "      <td>208537</td>\n",
       "      <td>Шоколадница</td>\n",
       "      <td>да</td>\n",
       "      <td>кафе</td>\n",
       "      <td>город Москва, 3-й Крутицкий переулок, дом 18</td>\n",
       "      <td>50</td>\n",
       "    </tr>\n",
       "    <tr>\n",
       "      <th>15362</th>\n",
       "      <td>209264</td>\n",
       "      <td>Шоколадница</td>\n",
       "      <td>да</td>\n",
       "      <td>кафе</td>\n",
       "      <td>город Москва, улица Земляной Вал, дом 33</td>\n",
       "      <td>10</td>\n",
       "    </tr>\n",
       "    <tr>\n",
       "      <th>15363</th>\n",
       "      <td>209186</td>\n",
       "      <td>Шоколадница</td>\n",
       "      <td>да</td>\n",
       "      <td>кафе</td>\n",
       "      <td>город Москва, улица Земляной Вал, дом 33</td>\n",
       "      <td>20</td>\n",
       "    </tr>\n",
       "    <tr>\n",
       "      <th>15364</th>\n",
       "      <td>221900</td>\n",
       "      <td>Шоколадница</td>\n",
       "      <td>да</td>\n",
       "      <td>кафе</td>\n",
       "      <td>город Москва, поселение Московский, Киевское ш...</td>\n",
       "      <td>36</td>\n",
       "    </tr>\n",
       "    <tr>\n",
       "      <th>15365</th>\n",
       "      <td>222535</td>\n",
       "      <td>Шоколадница</td>\n",
       "      <td>да</td>\n",
       "      <td>кафе</td>\n",
       "      <td>город Москва, Ходынский бульвар, дом 4</td>\n",
       "      <td>10</td>\n",
       "    </tr>\n",
       "  </tbody>\n",
       "</table>\n",
       "</div>"
      ],
      "text/plain": [
       "           id            object_name chain object_type  \\\n",
       "15351  223036               Якитория    да    ресторан   \n",
       "15352  213602                 Тануки    да        кафе   \n",
       "15353  213772                 Тануки    да    ресторан   \n",
       "15354  210400            Шоколадница    да        кафе   \n",
       "15355   74972            Шоколадница    да        кафе   \n",
       "15356  220618            Шоколадница    да        кафе   \n",
       "15357  218692            Шоколадница    да        кафе   \n",
       "15358  213724            Шоколадница    да        кафе   \n",
       "15359  222077  Кофейня «Шоколадница»    да        кафе   \n",
       "15360  219759            Шоколадница    да        кафе   \n",
       "15361  208537            Шоколадница    да        кафе   \n",
       "15362  209264            Шоколадница    да        кафе   \n",
       "15363  209186            Шоколадница    да        кафе   \n",
       "15364  221900            Шоколадница    да        кафе   \n",
       "15365  222535            Шоколадница    да        кафе   \n",
       "\n",
       "                                                 address  number  \n",
       "15351            город Москва, Авиационная улица, дом 66      92  \n",
       "15352          город Москва, Привольная улица, дом 65/32      50  \n",
       "15353               город Москва, Осенний бульвар, дом 9      98  \n",
       "15354  город Москва, Театральный проезд, дом 5, строе...      45  \n",
       "15355            город Москва, улица Новый Арбат, дом 13      30  \n",
       "15356    город Москва, Митинская улица, дом 36, корпус 1     100  \n",
       "15357     город Москва, площадь Джавахарлала Неру, дом 1      30  \n",
       "15358            город Москва, Варшавское шоссе, дом 87Б      54  \n",
       "15359         город Москва, Кантемировская улица, дом 47      72  \n",
       "15360                город Москва, улица Вавилова, дом 3      36  \n",
       "15361       город Москва, 3-й Крутицкий переулок, дом 18      50  \n",
       "15362           город Москва, улица Земляной Вал, дом 33      10  \n",
       "15363           город Москва, улица Земляной Вал, дом 33      20  \n",
       "15364  город Москва, поселение Московский, Киевское ш...      36  \n",
       "15365             город Москва, Ходынский бульвар, дом 4      10  "
      ]
     },
     "execution_count": 3,
     "metadata": {},
     "output_type": "execute_result"
    }
   ],
   "source": [
    "data.info()\n",
    "data.tail(15)"
   ]
  },
  {
   "cell_type": "markdown",
   "metadata": {},
   "source": [
    "Проверим на пропуски."
   ]
  },
  {
   "cell_type": "code",
   "execution_count": 4,
   "metadata": {},
   "outputs": [
    {
     "data": {
      "text/plain": [
       "id             0\n",
       "object_name    0\n",
       "chain          0\n",
       "object_type    0\n",
       "address        0\n",
       "number         0\n",
       "dtype: int64"
      ]
     },
     "execution_count": 4,
     "metadata": {},
     "output_type": "execute_result"
    }
   ],
   "source": [
    "data.isna().sum()"
   ]
  },
  {
   "cell_type": "markdown",
   "metadata": {},
   "source": [
    "Пропусков нет, проверим на повторы."
   ]
  },
  {
   "cell_type": "code",
   "execution_count": 5,
   "metadata": {},
   "outputs": [
    {
     "name": "stdout",
     "output_type": "stream",
     "text": [
      "<class 'pandas.core.frame.DataFrame'>\n",
      "Int64Index: 15366 entries, 0 to 15365\n",
      "Data columns (total 6 columns):\n",
      " #   Column       Non-Null Count  Dtype \n",
      "---  ------       --------------  ----- \n",
      " 0   id           15366 non-null  int64 \n",
      " 1   object_name  15366 non-null  object\n",
      " 2   chain        15366 non-null  object\n",
      " 3   object_type  15366 non-null  object\n",
      " 4   address      15366 non-null  object\n",
      " 5   number       15366 non-null  int64 \n",
      "dtypes: int64(2), object(4)\n",
      "memory usage: 840.3+ KB\n"
     ]
    }
   ],
   "source": [
    "data = data.drop_duplicates()\n",
    "data.info()"
   ]
  },
  {
   "cell_type": "markdown",
   "metadata": {},
   "source": [
    "На всякий случай поищем повторы, исключив столбец id."
   ]
  },
  {
   "cell_type": "code",
   "execution_count": 6,
   "metadata": {},
   "outputs": [
    {
     "data": {
      "text/plain": [
       "82"
      ]
     },
     "execution_count": 6,
     "metadata": {},
     "output_type": "execute_result"
    }
   ],
   "source": [
    "data_temp = data.drop(['id'], axis = 1)\n",
    "data_temp.duplicated().sum()"
   ]
  },
  {
   "cell_type": "markdown",
   "metadata": {},
   "source": [
    "82 повтора можно проигнорировать - это незначительное число в контексте всех данных. Посмотрим, сколько уникальных названий в столбце object_name."
   ]
  },
  {
   "cell_type": "code",
   "execution_count": 7,
   "metadata": {},
   "outputs": [
    {
     "data": {
      "text/plain": [
       "10393"
      ]
     },
     "execution_count": 7,
     "metadata": {},
     "output_type": "execute_result"
    }
   ],
   "source": [
    "data['object_name'].nunique()"
   ]
  },
  {
   "cell_type": "markdown",
   "metadata": {},
   "source": [
    "Приведём все названия к нижнему регистру и посмотрим, как это повлияет."
   ]
  },
  {
   "cell_type": "code",
   "execution_count": 8,
   "metadata": {},
   "outputs": [
    {
     "data": {
      "text/plain": [
       "9924"
      ]
     },
     "execution_count": 8,
     "metadata": {},
     "output_type": "execute_result"
    }
   ],
   "source": [
    "data['object_name'] = data['object_name'].str.lower()\n",
    "data['object_name'].nunique()"
   ]
  },
  {
   "cell_type": "markdown",
   "metadata": {},
   "source": [
    "Сразу видно, что кол-во уникальных названий уменьшилось. Это говорит о том, что были идентичные названия, различающиеся лишь регистром. Однако часто в таблице попадаются одни и те же заведения, только в одном случае написано название, а в другом перед названием есть слово \"кафе\" или \"ресторан\" или нечто похожее. Раз у нас почти 10 000 уникальных названий, мы не будем сильно заморачиваться - ибо это было бы неоправданная потеря времени - и просто уберём эти слова, составив заранее словарь с наиболее часто встречающимися словами."
   ]
  },
  {
   "cell_type": "code",
   "execution_count": 9,
   "metadata": {},
   "outputs": [
    {
     "data": {
      "text/html": [
       "<div>\n",
       "<style scoped>\n",
       "    .dataframe tbody tr th:only-of-type {\n",
       "        vertical-align: middle;\n",
       "    }\n",
       "\n",
       "    .dataframe tbody tr th {\n",
       "        vertical-align: top;\n",
       "    }\n",
       "\n",
       "    .dataframe thead th {\n",
       "        text-align: right;\n",
       "    }\n",
       "</style>\n",
       "<table border=\"1\" class=\"dataframe\">\n",
       "  <thead>\n",
       "    <tr style=\"text-align: right;\">\n",
       "      <th></th>\n",
       "      <th>id</th>\n",
       "      <th>object_name</th>\n",
       "      <th>chain</th>\n",
       "      <th>object_type</th>\n",
       "      <th>address</th>\n",
       "      <th>number</th>\n",
       "    </tr>\n",
       "  </thead>\n",
       "  <tbody>\n",
       "    <tr>\n",
       "      <th>0</th>\n",
       "      <td>151635</td>\n",
       "      <td>сметана</td>\n",
       "      <td>нет</td>\n",
       "      <td>кафе</td>\n",
       "      <td>город Москва, улица Егора Абакумова, дом 9</td>\n",
       "      <td>48</td>\n",
       "    </tr>\n",
       "    <tr>\n",
       "      <th>1</th>\n",
       "      <td>77874</td>\n",
       "      <td>родник</td>\n",
       "      <td>нет</td>\n",
       "      <td>кафе</td>\n",
       "      <td>город Москва, улица Талалихина, дом 2/1, корпус 1</td>\n",
       "      <td>35</td>\n",
       "    </tr>\n",
       "    <tr>\n",
       "      <th>2</th>\n",
       "      <td>24309</td>\n",
       "      <td>кафе академия</td>\n",
       "      <td>нет</td>\n",
       "      <td>кафе</td>\n",
       "      <td>город Москва, Абельмановская улица, дом 6</td>\n",
       "      <td>95</td>\n",
       "    </tr>\n",
       "    <tr>\n",
       "      <th>3</th>\n",
       "      <td>21894</td>\n",
       "      <td>пиццетория</td>\n",
       "      <td>да</td>\n",
       "      <td>кафе</td>\n",
       "      <td>город Москва, Абрамцевская улица, дом 1</td>\n",
       "      <td>40</td>\n",
       "    </tr>\n",
       "    <tr>\n",
       "      <th>4</th>\n",
       "      <td>119365</td>\n",
       "      <td>кафе вишневая метель</td>\n",
       "      <td>нет</td>\n",
       "      <td>кафе</td>\n",
       "      <td>город Москва, Абрамцевская улица, дом 9, корпус 1</td>\n",
       "      <td>50</td>\n",
       "    </tr>\n",
       "  </tbody>\n",
       "</table>\n",
       "</div>"
      ],
      "text/plain": [
       "       id           object_name chain object_type  \\\n",
       "0  151635               сметана   нет        кафе   \n",
       "1   77874                родник   нет        кафе   \n",
       "2   24309         кафе академия   нет        кафе   \n",
       "3   21894            пиццетория    да        кафе   \n",
       "4  119365  кафе вишневая метель   нет        кафе   \n",
       "\n",
       "                                             address  number  \n",
       "0         город Москва, улица Егора Абакумова, дом 9      48  \n",
       "1  город Москва, улица Талалихина, дом 2/1, корпус 1      35  \n",
       "2          город Москва, Абельмановская улица, дом 6      95  \n",
       "3            город Москва, Абрамцевская улица, дом 1      40  \n",
       "4  город Москва, Абрамцевская улица, дом 9, корпус 1      50  "
      ]
     },
     "execution_count": 9,
     "metadata": {},
     "output_type": "execute_result"
    }
   ],
   "source": [
    "dict = {'кафе «', '«', '»', 'кофейня «', 'ресторан', 'закусочная', 'предприятие быстрого питания', 'пбо'}\n",
    "data['object_name'] = data['object_name'].replace(to_replace = dict, value = '', regex = True)\n",
    "data.head()"
   ]
  },
  {
   "cell_type": "code",
   "execution_count": 10,
   "metadata": {},
   "outputs": [
    {
     "data": {
      "text/plain": [
       "9829"
      ]
     },
     "execution_count": 10,
     "metadata": {},
     "output_type": "execute_result"
    }
   ],
   "source": [
    "data['object_name'].nunique()"
   ]
  },
  {
   "cell_type": "markdown",
   "metadata": {},
   "source": [
    "Прекрасно, мы избавились ещё от нескольких сотен дубликатов. Для самых очевидных общепитов изменим значение столбца object_type на \"предприятие быстрого обслуживания\"."
   ]
  },
  {
   "cell_type": "code",
   "execution_count": 11,
   "metadata": {
    "scrolled": true
   },
   "outputs": [],
   "source": [
    "name_dict = {'бургер кинг', 'макдоналдс', 'kfc', 'теремок'}\n",
    "for i in name_dict:\n",
    "    data.loc[data['object_name'] == i, 'object_name'] = data[data['object_type'] == 'предприятие быстрого обслуживания']"
   ]
  },
  {
   "cell_type": "markdown",
   "metadata": {},
   "source": [
    "Финальное действие перед основной задачей: заменим в столбце chain значения на более очевидные для удобства при дальнейшей работе."
   ]
  },
  {
   "cell_type": "code",
   "execution_count": 12,
   "metadata": {},
   "outputs": [],
   "source": [
    "data['chain'] = data['chain'].replace({'да': 'сетевое', 'нет': 'несетевое'})"
   ]
  },
  {
   "cell_type": "markdown",
   "metadata": {},
   "source": [
    "Посмотрим на наш датасет и приступим к основной части."
   ]
  },
  {
   "cell_type": "code",
   "execution_count": 13,
   "metadata": {
    "scrolled": false
   },
   "outputs": [
    {
     "name": "stdout",
     "output_type": "stream",
     "text": [
      "<class 'pandas.core.frame.DataFrame'>\n",
      "Int64Index: 15366 entries, 0 to 15365\n",
      "Data columns (total 6 columns):\n",
      " #   Column       Non-Null Count  Dtype \n",
      "---  ------       --------------  ----- \n",
      " 0   id           15366 non-null  int64 \n",
      " 1   object_name  15179 non-null  object\n",
      " 2   chain        15366 non-null  object\n",
      " 3   object_type  15366 non-null  object\n",
      " 4   address      15366 non-null  object\n",
      " 5   number       15366 non-null  int64 \n",
      "dtypes: int64(2), object(4)\n",
      "memory usage: 840.3+ KB\n"
     ]
    },
    {
     "data": {
      "text/html": [
       "<div>\n",
       "<style scoped>\n",
       "    .dataframe tbody tr th:only-of-type {\n",
       "        vertical-align: middle;\n",
       "    }\n",
       "\n",
       "    .dataframe tbody tr th {\n",
       "        vertical-align: top;\n",
       "    }\n",
       "\n",
       "    .dataframe thead th {\n",
       "        text-align: right;\n",
       "    }\n",
       "</style>\n",
       "<table border=\"1\" class=\"dataframe\">\n",
       "  <thead>\n",
       "    <tr style=\"text-align: right;\">\n",
       "      <th></th>\n",
       "      <th>id</th>\n",
       "      <th>object_name</th>\n",
       "      <th>chain</th>\n",
       "      <th>object_type</th>\n",
       "      <th>address</th>\n",
       "      <th>number</th>\n",
       "    </tr>\n",
       "  </thead>\n",
       "  <tbody>\n",
       "    <tr>\n",
       "      <th>7758</th>\n",
       "      <td>71453</td>\n",
       "      <td>кулинарная лавка братьев караваевых</td>\n",
       "      <td>сетевое</td>\n",
       "      <td>кафетерий</td>\n",
       "      <td>город Москва, Варшавское шоссе, дом 9, строени...</td>\n",
       "      <td>30</td>\n",
       "    </tr>\n",
       "    <tr>\n",
       "      <th>2082</th>\n",
       "      <td>158192</td>\n",
       "      <td>азбука вкуса</td>\n",
       "      <td>несетевое</td>\n",
       "      <td>кафе</td>\n",
       "      <td>город Москва, Новокузнецкая улица, дом 1, стро...</td>\n",
       "      <td>10</td>\n",
       "    </tr>\n",
       "    <tr>\n",
       "      <th>6286</th>\n",
       "      <td>26297</td>\n",
       "      <td>андерсен</td>\n",
       "      <td>несетевое</td>\n",
       "      <td>ресторан</td>\n",
       "      <td>город Москва, улица Обручева, дом 30/1, строен...</td>\n",
       "      <td>165</td>\n",
       "    </tr>\n",
       "    <tr>\n",
       "      <th>8496</th>\n",
       "      <td>152897</td>\n",
       "      <td>папа джонс</td>\n",
       "      <td>сетевое</td>\n",
       "      <td>кафе</td>\n",
       "      <td>город Москва, поселение Сосенское, Калужское ш...</td>\n",
       "      <td>5</td>\n",
       "    </tr>\n",
       "    <tr>\n",
       "      <th>195</th>\n",
       "      <td>149531</td>\n",
       "      <td>шаурма, куры-гриль</td>\n",
       "      <td>несетевое</td>\n",
       "      <td>предприятие быстрого обслуживания</td>\n",
       "      <td>город Москва, 2-я Владимирская улица, дом 44/10</td>\n",
       "      <td>0</td>\n",
       "    </tr>\n",
       "    <tr>\n",
       "      <th>12089</th>\n",
       "      <td>188701</td>\n",
       "      <td>wok &amp; box</td>\n",
       "      <td>сетевое</td>\n",
       "      <td>предприятие быстрого обслуживания</td>\n",
       "      <td>город Москва, Фестивальная улица, дом 2Б</td>\n",
       "      <td>0</td>\n",
       "    </tr>\n",
       "    <tr>\n",
       "      <th>10042</th>\n",
       "      <td>171942</td>\n",
       "      <td>дядюшка хо</td>\n",
       "      <td>несетевое</td>\n",
       "      <td>кафе</td>\n",
       "      <td>город Москва, Большая Семёновская улица, дом 2...</td>\n",
       "      <td>10</td>\n",
       "    </tr>\n",
       "    <tr>\n",
       "      <th>5013</th>\n",
       "      <td>144757</td>\n",
       "      <td>антикафе белый лист</td>\n",
       "      <td>несетевое</td>\n",
       "      <td>кафе</td>\n",
       "      <td>город Москва, Валовая улица, дом 32/75, строен...</td>\n",
       "      <td>40</td>\n",
       "    </tr>\n",
       "    <tr>\n",
       "      <th>1659</th>\n",
       "      <td>28780</td>\n",
       "      <td>столовая школа уна</td>\n",
       "      <td>несетевое</td>\n",
       "      <td>столовая</td>\n",
       "      <td>город Москва, улица Молодцова, дом 2Б</td>\n",
       "      <td>90</td>\n",
       "    </tr>\n",
       "    <tr>\n",
       "      <th>7335</th>\n",
       "      <td>23682</td>\n",
       "      <td>кафе баваро</td>\n",
       "      <td>несетевое</td>\n",
       "      <td>кафе</td>\n",
       "      <td>город Москва, Нагатинская улица, дом 1, строен...</td>\n",
       "      <td>42</td>\n",
       "    </tr>\n",
       "    <tr>\n",
       "      <th>7968</th>\n",
       "      <td>21665</td>\n",
       "      <td>кебаб хаус</td>\n",
       "      <td>сетевое</td>\n",
       "      <td>кафе</td>\n",
       "      <td>город Москва, улица Земляной Вал, дом 33</td>\n",
       "      <td>20</td>\n",
       "    </tr>\n",
       "    <tr>\n",
       "      <th>8974</th>\n",
       "      <td>158930</td>\n",
       "      <td>арт-кафе красный крокодил</td>\n",
       "      <td>несетевое</td>\n",
       "      <td>кафе</td>\n",
       "      <td>город Москва, улица Академика Янгеля, дом 2</td>\n",
       "      <td>25</td>\n",
       "    </tr>\n",
       "    <tr>\n",
       "      <th>4540</th>\n",
       "      <td>20017</td>\n",
       "      <td>а-трейд</td>\n",
       "      <td>несетевое</td>\n",
       "      <td>кафе</td>\n",
       "      <td>город Москва, Минская улица, дом 6</td>\n",
       "      <td>80</td>\n",
       "    </tr>\n",
       "    <tr>\n",
       "      <th>2689</th>\n",
       "      <td>27997</td>\n",
       "      <td>столовая</td>\n",
       "      <td>несетевое</td>\n",
       "      <td>столовая</td>\n",
       "      <td>город Москва, Амурская улица, дом 2А, строение 1</td>\n",
       "      <td>37</td>\n",
       "    </tr>\n",
       "    <tr>\n",
       "      <th>4846</th>\n",
       "      <td>29464</td>\n",
       "      <td>столовая в школе 1151 корп.1464 (ранее школа 1...</td>\n",
       "      <td>несетевое</td>\n",
       "      <td>столовая</td>\n",
       "      <td>город Москва, город Зеленоград, корпус 1464</td>\n",
       "      <td>180</td>\n",
       "    </tr>\n",
       "  </tbody>\n",
       "</table>\n",
       "</div>"
      ],
      "text/plain": [
       "           id                                        object_name      chain  \\\n",
       "7758    71453                кулинарная лавка братьев караваевых    сетевое   \n",
       "2082   158192                                       азбука вкуса  несетевое   \n",
       "6286    26297                                           андерсен  несетевое   \n",
       "8496   152897                                         папа джонс    сетевое   \n",
       "195    149531                                 шаурма, куры-гриль  несетевое   \n",
       "12089  188701                                          wok & box    сетевое   \n",
       "10042  171942                                         дядюшка хо  несетевое   \n",
       "5013   144757                                антикафе белый лист  несетевое   \n",
       "1659    28780                                 столовая школа уна  несетевое   \n",
       "7335    23682                                        кафе баваро  несетевое   \n",
       "7968    21665                                         кебаб хаус    сетевое   \n",
       "8974   158930                          арт-кафе красный крокодил  несетевое   \n",
       "4540    20017                                            а-трейд  несетевое   \n",
       "2689    27997                                           столовая  несетевое   \n",
       "4846    29464  столовая в школе 1151 корп.1464 (ранее школа 1...  несетевое   \n",
       "\n",
       "                             object_type  \\\n",
       "7758                           кафетерий   \n",
       "2082                                кафе   \n",
       "6286                            ресторан   \n",
       "8496                                кафе   \n",
       "195    предприятие быстрого обслуживания   \n",
       "12089  предприятие быстрого обслуживания   \n",
       "10042                               кафе   \n",
       "5013                                кафе   \n",
       "1659                            столовая   \n",
       "7335                                кафе   \n",
       "7968                                кафе   \n",
       "8974                                кафе   \n",
       "4540                                кафе   \n",
       "2689                            столовая   \n",
       "4846                            столовая   \n",
       "\n",
       "                                                 address  number  \n",
       "7758   город Москва, Варшавское шоссе, дом 9, строени...      30  \n",
       "2082   город Москва, Новокузнецкая улица, дом 1, стро...      10  \n",
       "6286   город Москва, улица Обручева, дом 30/1, строен...     165  \n",
       "8496   город Москва, поселение Сосенское, Калужское ш...       5  \n",
       "195      город Москва, 2-я Владимирская улица, дом 44/10       0  \n",
       "12089           город Москва, Фестивальная улица, дом 2Б       0  \n",
       "10042  город Москва, Большая Семёновская улица, дом 2...      10  \n",
       "5013   город Москва, Валовая улица, дом 32/75, строен...      40  \n",
       "1659               город Москва, улица Молодцова, дом 2Б      90  \n",
       "7335   город Москва, Нагатинская улица, дом 1, строен...      42  \n",
       "7968            город Москва, улица Земляной Вал, дом 33      20  \n",
       "8974         город Москва, улица Академика Янгеля, дом 2      25  \n",
       "4540                  город Москва, Минская улица, дом 6      80  \n",
       "2689    город Москва, Амурская улица, дом 2А, строение 1      37  \n",
       "4846         город Москва, город Зеленоград, корпус 1464     180  "
      ]
     },
     "execution_count": 13,
     "metadata": {},
     "output_type": "execute_result"
    }
   ],
   "source": [
    "data.info()\n",
    "data.sample(15)"
   ]
  },
  {
   "cell_type": "markdown",
   "metadata": {},
   "source": [
    "## Анализ данных"
   ]
  },
  {
   "cell_type": "markdown",
   "metadata": {},
   "source": [
    "### Исследуем соотношение видов объектов общественного питания по количеству"
   ]
  },
  {
   "cell_type": "markdown",
   "metadata": {},
   "source": [
    "Сгруппируем датасет по столбцу object_type и посчитаем число каждого вида общепита."
   ]
  },
  {
   "cell_type": "code",
   "execution_count": 14,
   "metadata": {},
   "outputs": [
    {
     "data": {
      "text/html": [
       "<div>\n",
       "<style scoped>\n",
       "    .dataframe tbody tr th:only-of-type {\n",
       "        vertical-align: middle;\n",
       "    }\n",
       "\n",
       "    .dataframe tbody tr th {\n",
       "        vertical-align: top;\n",
       "    }\n",
       "\n",
       "    .dataframe thead th {\n",
       "        text-align: right;\n",
       "    }\n",
       "</style>\n",
       "<table border=\"1\" class=\"dataframe\">\n",
       "  <thead>\n",
       "    <tr style=\"text-align: right;\">\n",
       "      <th></th>\n",
       "      <th>object_type</th>\n",
       "      <th>id</th>\n",
       "    </tr>\n",
       "  </thead>\n",
       "  <tbody>\n",
       "    <tr>\n",
       "      <th>3</th>\n",
       "      <td>кафе</td>\n",
       "      <td>6099</td>\n",
       "    </tr>\n",
       "    <tr>\n",
       "      <th>8</th>\n",
       "      <td>столовая</td>\n",
       "      <td>2587</td>\n",
       "    </tr>\n",
       "    <tr>\n",
       "      <th>7</th>\n",
       "      <td>ресторан</td>\n",
       "      <td>2285</td>\n",
       "    </tr>\n",
       "    <tr>\n",
       "      <th>6</th>\n",
       "      <td>предприятие быстрого обслуживания</td>\n",
       "      <td>1923</td>\n",
       "    </tr>\n",
       "    <tr>\n",
       "      <th>0</th>\n",
       "      <td>бар</td>\n",
       "      <td>856</td>\n",
       "    </tr>\n",
       "    <tr>\n",
       "      <th>1</th>\n",
       "      <td>буфет</td>\n",
       "      <td>585</td>\n",
       "    </tr>\n",
       "    <tr>\n",
       "      <th>4</th>\n",
       "      <td>кафетерий</td>\n",
       "      <td>398</td>\n",
       "    </tr>\n",
       "    <tr>\n",
       "      <th>2</th>\n",
       "      <td>закусочная</td>\n",
       "      <td>360</td>\n",
       "    </tr>\n",
       "    <tr>\n",
       "      <th>5</th>\n",
       "      <td>магазин (отдел кулинарии)</td>\n",
       "      <td>273</td>\n",
       "    </tr>\n",
       "  </tbody>\n",
       "</table>\n",
       "</div>"
      ],
      "text/plain": [
       "                         object_type    id\n",
       "3                               кафе  6099\n",
       "8                           столовая  2587\n",
       "7                           ресторан  2285\n",
       "6  предприятие быстрого обслуживания  1923\n",
       "0                                бар   856\n",
       "1                              буфет   585\n",
       "4                          кафетерий   398\n",
       "2                         закусочная   360\n",
       "5          магазин (отдел кулинарии)   273"
      ]
     },
     "execution_count": 14,
     "metadata": {},
     "output_type": "execute_result"
    }
   ],
   "source": [
    "object_type_total = data.groupby('object_type')['id'].count().reset_index().sort_values(by='id', ascending=False)\n",
    "object_type_total"
   ]
  },
  {
   "cell_type": "markdown",
   "metadata": {},
   "source": [
    "Построим график."
   ]
  },
  {
   "cell_type": "code",
   "execution_count": 15,
   "metadata": {},
   "outputs": [
    {
     "data": {
      "image/png": "[encoded data removed]",
      "text/plain": [
       "<Figure size 1440x720 with 1 Axes>"
      ]
     },
     "metadata": {
      "needs_background": "light"
     },
     "output_type": "display_data"
    }
   ],
   "source": [
    "plt.figure(figsize=(20, 10))\n",
    "sns.barplot(data=object_type_total, x='object_type', y='id')\n",
    "plt.xticks(rotation=90)\n",
    "plt.title('Кол-во объектов общественного питания')\n",
    "plt.xlabel('')\n",
    "plt.ylabel('Число заведений')\n",
    "plt.show()"
   ]
  },
  {
   "cell_type": "markdown",
   "metadata": {},
   "source": [
    "Согласно графику, по количеству заведений лидирует кафе - их по Москве около 6 000. Количество столовых, ресторанов и предприятий быстрого облуживания более чем в два раза меньше, чем кафе. Меньше всего общепитов в магазинах."
   ]
  },
  {
   "cell_type": "markdown",
   "metadata": {},
   "source": [
    "### Исследуем соотношение сетевых и несетевых заведений по количеству"
   ]
  },
  {
   "cell_type": "markdown",
   "metadata": {},
   "source": [
    "Узнаем соотношение, сгруппировав датасет по столцу chain и посчитав кол-во сетевых и несетевых заведений."
   ]
  },
  {
   "cell_type": "code",
   "execution_count": 16,
   "metadata": {},
   "outputs": [
    {
     "data": {
      "image/png": "[encoded data removed]",
      "text/plain": [
       "<Figure size 432x288 with 1 Axes>"
      ]
     },
     "metadata": {
      "needs_background": "light"
     },
     "output_type": "display_data"
    }
   ],
   "source": [
    "chain_total = data.groupby('chain')['id'].count().reset_index().sort_values(by='id', ascending=False)\n",
    "sns.barplot(data = chain_total, x='chain', y='id')\n",
    "plt.xlabel('')\n",
    "plt.ylabel('Кол-во заведений')\n",
    "plt.title('Соотношение сетевых и несетевых заведений')\n",
    "plt.show()"
   ]
  },
  {
   "cell_type": "markdown",
   "metadata": {},
   "source": [
    "Хотя может предполагаться, что должны лидировать сетевые заведения - те же маки и бургер кинги - данные показывают обратное. Похоже, единичные кафе и шаурмячные серьёзно превосходят числом сетевые заведения. Возможно, несетевые заведения требуют меньше сил и средств для открытия."
   ]
  },
  {
   "cell_type": "markdown",
   "metadata": {},
   "source": [
    "### Для какого вида объекта общественного питания характерно сетевое распространение?"
   ]
  },
  {
   "cell_type": "markdown",
   "metadata": {},
   "source": [
    "Вычислим долю сетевых и несетевых общепитов и построим графики."
   ]
  },
  {
   "cell_type": "code",
   "execution_count": 17,
   "metadata": {},
   "outputs": [
    {
     "data": {
      "text/html": [
       "<div>\n",
       "<style scoped>\n",
       "    .dataframe tbody tr th:only-of-type {\n",
       "        vertical-align: middle;\n",
       "    }\n",
       "\n",
       "    .dataframe tbody tr th {\n",
       "        vertical-align: top;\n",
       "    }\n",
       "\n",
       "    .dataframe thead th {\n",
       "        text-align: right;\n",
       "    }\n",
       "</style>\n",
       "<table border=\"1\" class=\"dataframe\">\n",
       "  <thead>\n",
       "    <tr style=\"text-align: right;\">\n",
       "      <th>chain</th>\n",
       "      <th>object_type</th>\n",
       "      <th>несетевое</th>\n",
       "      <th>сетевое</th>\n",
       "      <th>total</th>\n",
       "      <th>proportion_yes</th>\n",
       "      <th>proportion_no</th>\n",
       "    </tr>\n",
       "  </thead>\n",
       "  <tbody>\n",
       "    <tr>\n",
       "      <th>0</th>\n",
       "      <td>бар</td>\n",
       "      <td>819</td>\n",
       "      <td>37</td>\n",
       "      <td>856</td>\n",
       "      <td>4.322430</td>\n",
       "      <td>95.677570</td>\n",
       "    </tr>\n",
       "    <tr>\n",
       "      <th>1</th>\n",
       "      <td>буфет</td>\n",
       "      <td>574</td>\n",
       "      <td>11</td>\n",
       "      <td>585</td>\n",
       "      <td>1.880342</td>\n",
       "      <td>98.119658</td>\n",
       "    </tr>\n",
       "    <tr>\n",
       "      <th>2</th>\n",
       "      <td>закусочная</td>\n",
       "      <td>304</td>\n",
       "      <td>56</td>\n",
       "      <td>360</td>\n",
       "      <td>15.555556</td>\n",
       "      <td>84.444444</td>\n",
       "    </tr>\n",
       "    <tr>\n",
       "      <th>3</th>\n",
       "      <td>кафе</td>\n",
       "      <td>4703</td>\n",
       "      <td>1396</td>\n",
       "      <td>6099</td>\n",
       "      <td>22.888998</td>\n",
       "      <td>77.111002</td>\n",
       "    </tr>\n",
       "    <tr>\n",
       "      <th>4</th>\n",
       "      <td>кафетерий</td>\n",
       "      <td>346</td>\n",
       "      <td>52</td>\n",
       "      <td>398</td>\n",
       "      <td>13.065327</td>\n",
       "      <td>86.934673</td>\n",
       "    </tr>\n",
       "    <tr>\n",
       "      <th>5</th>\n",
       "      <td>магазин (отдел кулинарии)</td>\n",
       "      <td>195</td>\n",
       "      <td>78</td>\n",
       "      <td>273</td>\n",
       "      <td>28.571429</td>\n",
       "      <td>71.428571</td>\n",
       "    </tr>\n",
       "    <tr>\n",
       "      <th>6</th>\n",
       "      <td>предприятие быстрого обслуживания</td>\n",
       "      <td>1132</td>\n",
       "      <td>791</td>\n",
       "      <td>1923</td>\n",
       "      <td>41.133645</td>\n",
       "      <td>58.866355</td>\n",
       "    </tr>\n",
       "    <tr>\n",
       "      <th>7</th>\n",
       "      <td>ресторан</td>\n",
       "      <td>1741</td>\n",
       "      <td>544</td>\n",
       "      <td>2285</td>\n",
       "      <td>23.807440</td>\n",
       "      <td>76.192560</td>\n",
       "    </tr>\n",
       "    <tr>\n",
       "      <th>8</th>\n",
       "      <td>столовая</td>\n",
       "      <td>2584</td>\n",
       "      <td>3</td>\n",
       "      <td>2587</td>\n",
       "      <td>0.115964</td>\n",
       "      <td>99.884036</td>\n",
       "    </tr>\n",
       "  </tbody>\n",
       "</table>\n",
       "</div>"
      ],
      "text/plain": [
       "chain                        object_type  несетевое  сетевое  total  \\\n",
       "0                                    бар        819       37    856   \n",
       "1                                  буфет        574       11    585   \n",
       "2                             закусочная        304       56    360   \n",
       "3                                   кафе       4703     1396   6099   \n",
       "4                              кафетерий        346       52    398   \n",
       "5              магазин (отдел кулинарии)        195       78    273   \n",
       "6      предприятие быстрого обслуживания       1132      791   1923   \n",
       "7                               ресторан       1741      544   2285   \n",
       "8                               столовая       2584        3   2587   \n",
       "\n",
       "chain  proportion_yes  proportion_no  \n",
       "0            4.322430      95.677570  \n",
       "1            1.880342      98.119658  \n",
       "2           15.555556      84.444444  \n",
       "3           22.888998      77.111002  \n",
       "4           13.065327      86.934673  \n",
       "5           28.571429      71.428571  \n",
       "6           41.133645      58.866355  \n",
       "7           23.807440      76.192560  \n",
       "8            0.115964      99.884036  "
      ]
     },
     "execution_count": 17,
     "metadata": {},
     "output_type": "execute_result"
    }
   ],
   "source": [
    "data2 = data.pivot_table(index='object_type', columns='chain', values='number', aggfunc='count').reset_index()\n",
    "data2['total'] = data2['сетевое'] + data2['несетевое']\n",
    "data2['proportion_yes'] = (data2['сетевое'] / data2['total']) * 100\n",
    "data2['proportion_no'] = (data2['несетевое'] / data2['total']) * 100\n",
    "data2"
   ]
  },
  {
   "cell_type": "code",
   "execution_count": 18,
   "metadata": {},
   "outputs": [
    {
     "data": {
      "image/png": "[encoded data removed]",
      "text/plain": [
       "<Figure size 1440x720 with 1 Axes>"
      ]
     },
     "metadata": {
      "needs_background": "light"
     },
     "output_type": "display_data"
    }
   ],
   "source": [
    "plt.figure(figsize=(20, 10))\n",
    "plt.xticks(rotation=90)\n",
    "sns.barplot(data=data2.sort_values(by='proportion_yes', ascending=False) , x='object_type', y='proportion_yes')\n",
    "plt.title('Доля сетевых общепитов')\n",
    "plt.xlabel('')\n",
    "plt.ylabel('Кол-во заведений')\n",
    "plt.show()"
   ]
  },
  {
   "cell_type": "code",
   "execution_count": 19,
   "metadata": {},
   "outputs": [
    {
     "data": {
      "image/png": "[encoded data removed]",
      "text/plain": [
       "<Figure size 1440x720 with 1 Axes>"
      ]
     },
     "metadata": {
      "needs_background": "light"
     },
     "output_type": "display_data"
    }
   ],
   "source": [
    "plt.figure(figsize=(20, 10))\n",
    "plt.xticks(rotation=90)\n",
    "sns.barplot(data=data2.sort_values(by='proportion_no', ascending=False) , x='object_type', y='proportion_no')\n",
    "plt.title('Доля несетевых общепитов')\n",
    "plt.xlabel('')\n",
    "plt.ylabel('Кол-во заведений')\n",
    "plt.show()"
   ]
  },
  {
   "cell_type": "markdown",
   "metadata": {},
   "source": [
    "Среди сетевых общепитов лидируют предприятия быстрого питания."
   ]
  },
  {
   "cell_type": "markdown",
   "metadata": {},
   "source": [
    "### Что характерно для сетевых заведений: много заведений с небольшим числом посадочных мест в каждом или мало заведений с большим количеством посадочных мест?"
   ]
  },
  {
   "cell_type": "markdown",
   "metadata": {},
   "source": [
    "Для того, чтобы ответить на поставленный вопрос, нужно понять, сколько именно посадочных мест понимается под \"небольшим числом\", и сколько - под \"большим\". Для этого построим \"ящик с усами\" по данным всех заведений и посмотрим кол-во выборосов."
   ]
  },
  {
   "cell_type": "code",
   "execution_count": 20,
   "metadata": {},
   "outputs": [
    {
     "data": {
      "image/png": "[encoded data removed]",
      "text/plain": [
       "<Figure size 432x288 with 1 Axes>"
      ]
     },
     "metadata": {
      "needs_background": "light"
     },
     "output_type": "display_data"
    }
   ],
   "source": [
    "sns.boxplot(data=data['number'])\n",
    "plt.show()"
   ]
  },
  {
   "cell_type": "markdown",
   "metadata": {},
   "source": [
    "Видим, что выбросы существенны - есть места общепита с более чем 1500 посадочных мест. Посчитаем перцентили. Т.к. \"разбег\" большой, посчитаем 75, 95 и 99 процентов."
   ]
  },
  {
   "cell_type": "code",
   "execution_count": 21,
   "metadata": {},
   "outputs": [
    {
     "data": {
      "text/plain": [
       "array([ 80., 214., 300.])"
      ]
     },
     "execution_count": 21,
     "metadata": {},
     "output_type": "execute_result"
    }
   ],
   "source": [
    "np.percentile(data['number'], [75, 95, 99])"
   ]
  },
  {
   "cell_type": "markdown",
   "metadata": {},
   "source": [
    "Выберем в качестве \"разделителя\" 75% - это 80 посадочных мест. Всё, что меньше 80, будем считать заведениями с небольшим числом посадочных мест, а что больше 80 - с большим. Применим это к датасету chain, в котором есть только сетевые заведения."
   ]
  },
  {
   "cell_type": "code",
   "execution_count": 22,
   "metadata": {},
   "outputs": [
    {
     "data": {
      "text/plain": [
       "small    2336\n",
       "big       632\n",
       "Name: number_type, dtype: int64"
      ]
     },
     "execution_count": 22,
     "metadata": {},
     "output_type": "execute_result"
    }
   ],
   "source": [
    "chain = data[data['chain'] == 'сетевое'].reset_index()\n",
    "chain['number_type'] = ['small' if x <= 80 else 'big' for x in chain['number']]\n",
    "chain['number_type'].value_counts()"
   ]
  },
  {
   "cell_type": "code",
   "execution_count": 23,
   "metadata": {},
   "outputs": [
    {
     "data": {
      "image/png": "[encoded data removed]",
      "text/plain": [
       "<Figure size 432x288 with 1 Axes>"
      ]
     },
     "metadata": {
      "needs_background": "light"
     },
     "output_type": "display_data"
    }
   ],
   "source": [
    "sns.barplot(data = chain['number_type'].value_counts().reset_index(), x='index', y='number_type')\n",
    "plt.title('Кол-во общепитов с большим и небольшим числом посадочных мест')\n",
    "plt.xlabel('Тип общепита')\n",
    "plt.ylabel('Кол-во заведений')\n",
    "plt.show()"
   ]
  },
  {
   "cell_type": "markdown",
   "metadata": {},
   "source": [
    "График однозначно показывает, что существенно преобладают заведения с небольшим числом посадачных мест - их 2336 против 632 заведений с большим числом посадочных мест. Попробуем посмотреть на это несколько иначе. Построим гистограмму по распределению посадочных мест среди сетевых заведений."
   ]
  },
  {
   "cell_type": "code",
   "execution_count": 24,
   "metadata": {},
   "outputs": [
    {
     "data": {
      "image/png": "[encoded data removed]",
      "text/plain": [
       "<Figure size 432x288 with 1 Axes>"
      ]
     },
     "metadata": {
      "needs_background": "light"
     },
     "output_type": "display_data"
    }
   ],
   "source": [
    "chain['number'].value_counts().hist(bins=50)\n",
    "plt.title('Распределение посадочных мест среди сетевых заведений')\n",
    "plt.xlabel('Кол-во посадочных мест')\n",
    "plt.ylabel('Количество сетевых заведений')\n",
    "plt.show()"
   ]
  },
  {
   "cell_type": "markdown",
   "metadata": {},
   "source": [
    "Гистограмма показывает, что преобладают сетевые заведения без посадочных мест. Быть может, это палатки с шаурмой? Или фастфуды на фудкортах ТЦ? В любом случае, картина аналогична предыдущей: с небольшим кол-вом мест сетевых заведений больше, чем с большим."
   ]
  },
  {
   "cell_type": "markdown",
   "metadata": {},
   "source": [
    "### Для каждого вида объекта общественного питания опишем среднее количество посадочных мест. Какой вид предоставляет в среднем самое большое количество посадочных мест?"
   ]
  },
  {
   "cell_type": "markdown",
   "metadata": {},
   "source": [
    "Сгруппируем изначальный датасет, найдём среднее кол-во посадочных мест и построим график."
   ]
  },
  {
   "cell_type": "code",
   "execution_count": 25,
   "metadata": {},
   "outputs": [
    {
     "data": {
      "text/html": [
       "<div>\n",
       "<style scoped>\n",
       "    .dataframe tbody tr th:only-of-type {\n",
       "        vertical-align: middle;\n",
       "    }\n",
       "\n",
       "    .dataframe tbody tr th {\n",
       "        vertical-align: top;\n",
       "    }\n",
       "\n",
       "    .dataframe thead th {\n",
       "        text-align: right;\n",
       "    }\n",
       "</style>\n",
       "<table border=\"1\" class=\"dataframe\">\n",
       "  <thead>\n",
       "    <tr style=\"text-align: right;\">\n",
       "      <th></th>\n",
       "      <th>object_type</th>\n",
       "      <th>number</th>\n",
       "    </tr>\n",
       "  </thead>\n",
       "  <tbody>\n",
       "    <tr>\n",
       "      <th>8</th>\n",
       "      <td>столовая</td>\n",
       "      <td>130.246618</td>\n",
       "    </tr>\n",
       "    <tr>\n",
       "      <th>7</th>\n",
       "      <td>ресторан</td>\n",
       "      <td>96.834136</td>\n",
       "    </tr>\n",
       "    <tr>\n",
       "      <th>1</th>\n",
       "      <td>буфет</td>\n",
       "      <td>51.129915</td>\n",
       "    </tr>\n",
       "    <tr>\n",
       "      <th>0</th>\n",
       "      <td>бар</td>\n",
       "      <td>43.494159</td>\n",
       "    </tr>\n",
       "    <tr>\n",
       "      <th>3</th>\n",
       "      <td>кафе</td>\n",
       "      <td>39.716019</td>\n",
       "    </tr>\n",
       "    <tr>\n",
       "      <th>6</th>\n",
       "      <td>предприятие быстрого обслуживания</td>\n",
       "      <td>20.552262</td>\n",
       "    </tr>\n",
       "    <tr>\n",
       "      <th>4</th>\n",
       "      <td>кафетерий</td>\n",
       "      <td>9.123116</td>\n",
       "    </tr>\n",
       "    <tr>\n",
       "      <th>2</th>\n",
       "      <td>закусочная</td>\n",
       "      <td>7.608333</td>\n",
       "    </tr>\n",
       "    <tr>\n",
       "      <th>5</th>\n",
       "      <td>магазин (отдел кулинарии)</td>\n",
       "      <td>5.589744</td>\n",
       "    </tr>\n",
       "  </tbody>\n",
       "</table>\n",
       "</div>"
      ],
      "text/plain": [
       "                         object_type      number\n",
       "8                           столовая  130.246618\n",
       "7                           ресторан   96.834136\n",
       "1                              буфет   51.129915\n",
       "0                                бар   43.494159\n",
       "3                               кафе   39.716019\n",
       "6  предприятие быстрого обслуживания   20.552262\n",
       "4                          кафетерий    9.123116\n",
       "2                         закусочная    7.608333\n",
       "5          магазин (отдел кулинарии)    5.589744"
      ]
     },
     "execution_count": 25,
     "metadata": {},
     "output_type": "execute_result"
    }
   ],
   "source": [
    "mean_number = data.groupby('object_type')['number'].mean().reset_index().sort_values(by='number', ascending=False)\n",
    "mean_number"
   ]
  },
  {
   "cell_type": "code",
   "execution_count": 26,
   "metadata": {},
   "outputs": [
    {
     "data": {
      "image/png": "[encoded data removed]",
      "text/plain": [
       "<Figure size 1440x720 with 1 Axes>"
      ]
     },
     "metadata": {
      "needs_background": "light"
     },
     "output_type": "display_data"
    }
   ],
   "source": [
    "plt.figure(figsize=(20, 10))\n",
    "sns.barplot(data=mean_number, x='object_type', y='number')\n",
    "plt.xticks(rotation=90)\n",
    "plt.title('Среднее кол-во посадочных мест')\n",
    "plt.xlabel('')\n",
    "plt.ylabel('Кол-во предприятий общепита')\n",
    "plt.show()"
   ]
  },
  {
   "cell_type": "markdown",
   "metadata": {},
   "source": [
    "В среднем, больше всего посадочных мест в столовых, что не расходится со здравым смыслом. Немного удивили предприятия общественного питания, к которым мы отнесли Макдональдсы, Бургер Кинги и т.п. - они занимают 7 место. Впрочем, по-видимому, число посадочных мест сильно различается от места к месту, потому среднее значение оказалось невелико. Замыкает рейтинг магазины, что вполне предсказуемо."
   ]
  },
  {
   "cell_type": "markdown",
   "metadata": {},
   "source": [
    "### Выделим в отдельный столбец информацию об улице из столбца address."
   ]
  },
  {
   "cell_type": "markdown",
   "metadata": {},
   "source": [
    "Создадим дополнительный столбец street, в который сохранил только название улиц из столба address."
   ]
  },
  {
   "cell_type": "code",
   "execution_count": 27,
   "metadata": {},
   "outputs": [],
   "source": [
    "words = {'улица','ул','переулок','шоссе','проспект','площадь','проезд',\n",
    "         'село','аллея','бульвар','набережная','тупик','линия'}\n",
    "str_pat = r\".*,\\s*\\b([^,]*?(?:{})\\b[^,]*)[,$]+\".format(\"|\".join(words))\n",
    "data['street'] = data['address'].str.extract(str_pat, flags=re.I)"
   ]
  },
  {
   "cell_type": "code",
   "execution_count": 28,
   "metadata": {},
   "outputs": [
    {
     "data": {
      "text/html": [
       "<div>\n",
       "<style scoped>\n",
       "    .dataframe tbody tr th:only-of-type {\n",
       "        vertical-align: middle;\n",
       "    }\n",
       "\n",
       "    .dataframe tbody tr th {\n",
       "        vertical-align: top;\n",
       "    }\n",
       "\n",
       "    .dataframe thead th {\n",
       "        text-align: right;\n",
       "    }\n",
       "</style>\n",
       "<table border=\"1\" class=\"dataframe\">\n",
       "  <thead>\n",
       "    <tr style=\"text-align: right;\">\n",
       "      <th></th>\n",
       "      <th>id</th>\n",
       "      <th>object_name</th>\n",
       "      <th>chain</th>\n",
       "      <th>object_type</th>\n",
       "      <th>address</th>\n",
       "      <th>number</th>\n",
       "      <th>street</th>\n",
       "    </tr>\n",
       "  </thead>\n",
       "  <tbody>\n",
       "    <tr>\n",
       "      <th>0</th>\n",
       "      <td>151635</td>\n",
       "      <td>сметана</td>\n",
       "      <td>несетевое</td>\n",
       "      <td>кафе</td>\n",
       "      <td>город Москва, улица Егора Абакумова, дом 9</td>\n",
       "      <td>48</td>\n",
       "      <td>улица Егора Абакумова</td>\n",
       "    </tr>\n",
       "    <tr>\n",
       "      <th>1</th>\n",
       "      <td>77874</td>\n",
       "      <td>родник</td>\n",
       "      <td>несетевое</td>\n",
       "      <td>кафе</td>\n",
       "      <td>город Москва, улица Талалихина, дом 2/1, корпус 1</td>\n",
       "      <td>35</td>\n",
       "      <td>улица Талалихина</td>\n",
       "    </tr>\n",
       "    <tr>\n",
       "      <th>2</th>\n",
       "      <td>24309</td>\n",
       "      <td>кафе академия</td>\n",
       "      <td>несетевое</td>\n",
       "      <td>кафе</td>\n",
       "      <td>город Москва, Абельмановская улица, дом 6</td>\n",
       "      <td>95</td>\n",
       "      <td>Абельмановская улица</td>\n",
       "    </tr>\n",
       "    <tr>\n",
       "      <th>3</th>\n",
       "      <td>21894</td>\n",
       "      <td>пиццетория</td>\n",
       "      <td>сетевое</td>\n",
       "      <td>кафе</td>\n",
       "      <td>город Москва, Абрамцевская улица, дом 1</td>\n",
       "      <td>40</td>\n",
       "      <td>Абрамцевская улица</td>\n",
       "    </tr>\n",
       "    <tr>\n",
       "      <th>4</th>\n",
       "      <td>119365</td>\n",
       "      <td>кафе вишневая метель</td>\n",
       "      <td>несетевое</td>\n",
       "      <td>кафе</td>\n",
       "      <td>город Москва, Абрамцевская улица, дом 9, корпус 1</td>\n",
       "      <td>50</td>\n",
       "      <td>Абрамцевская улица</td>\n",
       "    </tr>\n",
       "    <tr>\n",
       "      <th>...</th>\n",
       "      <td>...</td>\n",
       "      <td>...</td>\n",
       "      <td>...</td>\n",
       "      <td>...</td>\n",
       "      <td>...</td>\n",
       "      <td>...</td>\n",
       "      <td>...</td>\n",
       "    </tr>\n",
       "    <tr>\n",
       "      <th>15361</th>\n",
       "      <td>208537</td>\n",
       "      <td>шоколадница</td>\n",
       "      <td>сетевое</td>\n",
       "      <td>кафе</td>\n",
       "      <td>город Москва, 3-й Крутицкий переулок, дом 18</td>\n",
       "      <td>50</td>\n",
       "      <td>3-й Крутицкий переулок</td>\n",
       "    </tr>\n",
       "    <tr>\n",
       "      <th>15362</th>\n",
       "      <td>209264</td>\n",
       "      <td>шоколадница</td>\n",
       "      <td>сетевое</td>\n",
       "      <td>кафе</td>\n",
       "      <td>город Москва, улица Земляной Вал, дом 33</td>\n",
       "      <td>10</td>\n",
       "      <td>улица Земляной Вал</td>\n",
       "    </tr>\n",
       "    <tr>\n",
       "      <th>15363</th>\n",
       "      <td>209186</td>\n",
       "      <td>шоколадница</td>\n",
       "      <td>сетевое</td>\n",
       "      <td>кафе</td>\n",
       "      <td>город Москва, улица Земляной Вал, дом 33</td>\n",
       "      <td>20</td>\n",
       "      <td>улица Земляной Вал</td>\n",
       "    </tr>\n",
       "    <tr>\n",
       "      <th>15364</th>\n",
       "      <td>221900</td>\n",
       "      <td>шоколадница</td>\n",
       "      <td>сетевое</td>\n",
       "      <td>кафе</td>\n",
       "      <td>город Москва, поселение Московский, Киевское ш...</td>\n",
       "      <td>36</td>\n",
       "      <td>Киевское шоссе</td>\n",
       "    </tr>\n",
       "    <tr>\n",
       "      <th>15365</th>\n",
       "      <td>222535</td>\n",
       "      <td>шоколадница</td>\n",
       "      <td>сетевое</td>\n",
       "      <td>кафе</td>\n",
       "      <td>город Москва, Ходынский бульвар, дом 4</td>\n",
       "      <td>10</td>\n",
       "      <td>Ходынский бульвар</td>\n",
       "    </tr>\n",
       "  </tbody>\n",
       "</table>\n",
       "<p>15366 rows × 7 columns</p>\n",
       "</div>"
      ],
      "text/plain": [
       "           id           object_name      chain object_type  \\\n",
       "0      151635               сметана  несетевое        кафе   \n",
       "1       77874                родник  несетевое        кафе   \n",
       "2       24309         кафе академия  несетевое        кафе   \n",
       "3       21894            пиццетория    сетевое        кафе   \n",
       "4      119365  кафе вишневая метель  несетевое        кафе   \n",
       "...       ...                   ...        ...         ...   \n",
       "15361  208537           шоколадница    сетевое        кафе   \n",
       "15362  209264           шоколадница    сетевое        кафе   \n",
       "15363  209186           шоколадница    сетевое        кафе   \n",
       "15364  221900           шоколадница    сетевое        кафе   \n",
       "15365  222535           шоколадница    сетевое        кафе   \n",
       "\n",
       "                                                 address  number  \\\n",
       "0             город Москва, улица Егора Абакумова, дом 9      48   \n",
       "1      город Москва, улица Талалихина, дом 2/1, корпус 1      35   \n",
       "2              город Москва, Абельмановская улица, дом 6      95   \n",
       "3                город Москва, Абрамцевская улица, дом 1      40   \n",
       "4      город Москва, Абрамцевская улица, дом 9, корпус 1      50   \n",
       "...                                                  ...     ...   \n",
       "15361       город Москва, 3-й Крутицкий переулок, дом 18      50   \n",
       "15362           город Москва, улица Земляной Вал, дом 33      10   \n",
       "15363           город Москва, улица Земляной Вал, дом 33      20   \n",
       "15364  город Москва, поселение Московский, Киевское ш...      36   \n",
       "15365             город Москва, Ходынский бульвар, дом 4      10   \n",
       "\n",
       "                       street  \n",
       "0       улица Егора Абакумова  \n",
       "1            улица Талалихина  \n",
       "2        Абельмановская улица  \n",
       "3          Абрамцевская улица  \n",
       "4          Абрамцевская улица  \n",
       "...                       ...  \n",
       "15361  3-й Крутицкий переулок  \n",
       "15362      улица Земляной Вал  \n",
       "15363      улица Земляной Вал  \n",
       "15364          Киевское шоссе  \n",
       "15365       Ходынский бульвар  \n",
       "\n",
       "[15366 rows x 7 columns]"
      ]
     },
     "execution_count": 28,
     "metadata": {},
     "output_type": "execute_result"
    }
   ],
   "source": [
    "data"
   ]
  },
  {
   "cell_type": "markdown",
   "metadata": {},
   "source": [
    "Всё получилось, идём дальше."
   ]
  },
  {
   "cell_type": "markdown",
   "metadata": {},
   "source": [
    "### Построим график топ-10 улиц по количеству объектов общественного питания. Воспользуемся внешней информацией, чтобы понять, в каких районах Москвы находятся эти улицы?"
   ]
  },
  {
   "cell_type": "markdown",
   "metadata": {},
   "source": [
    "Применим группировку к изначальному датасету и сохраним результат в переменной top10. Построим график."
   ]
  },
  {
   "cell_type": "code",
   "execution_count": 29,
   "metadata": {},
   "outputs": [],
   "source": [
    "object_name_count = data.groupby('street')['object_name', 'number'].count().reset_index().sort_values(by='object_name', ascending=False)"
   ]
  },
  {
   "cell_type": "code",
   "execution_count": 30,
   "metadata": {},
   "outputs": [
    {
     "data": {
      "text/html": [
       "<div>\n",
       "<style scoped>\n",
       "    .dataframe tbody tr th:only-of-type {\n",
       "        vertical-align: middle;\n",
       "    }\n",
       "\n",
       "    .dataframe tbody tr th {\n",
       "        vertical-align: top;\n",
       "    }\n",
       "\n",
       "    .dataframe thead th {\n",
       "        text-align: right;\n",
       "    }\n",
       "</style>\n",
       "<table border=\"1\" class=\"dataframe\">\n",
       "  <thead>\n",
       "    <tr style=\"text-align: right;\">\n",
       "      <th></th>\n",
       "      <th>street</th>\n",
       "      <th>object_name</th>\n",
       "      <th>number</th>\n",
       "    </tr>\n",
       "  </thead>\n",
       "  <tbody>\n",
       "    <tr>\n",
       "      <th>1418</th>\n",
       "      <td>проспект Мира</td>\n",
       "      <td>202</td>\n",
       "      <td>204</td>\n",
       "    </tr>\n",
       "    <tr>\n",
       "      <th>1009</th>\n",
       "      <td>Профсоюзная улица</td>\n",
       "      <td>174</td>\n",
       "      <td>182</td>\n",
       "    </tr>\n",
       "    <tr>\n",
       "      <th>683</th>\n",
       "      <td>Ленинградский проспект</td>\n",
       "      <td>166</td>\n",
       "      <td>171</td>\n",
       "    </tr>\n",
       "    <tr>\n",
       "      <th>993</th>\n",
       "      <td>Пресненская набережная</td>\n",
       "      <td>164</td>\n",
       "      <td>167</td>\n",
       "    </tr>\n",
       "    <tr>\n",
       "      <th>397</th>\n",
       "      <td>Варшавское шоссе</td>\n",
       "      <td>163</td>\n",
       "      <td>164</td>\n",
       "    </tr>\n",
       "    <tr>\n",
       "      <th>686</th>\n",
       "      <td>Ленинский проспект</td>\n",
       "      <td>142</td>\n",
       "      <td>147</td>\n",
       "    </tr>\n",
       "    <tr>\n",
       "      <th>1414</th>\n",
       "      <td>проспект Вернадского</td>\n",
       "      <td>132</td>\n",
       "      <td>132</td>\n",
       "    </tr>\n",
       "    <tr>\n",
       "      <th>673</th>\n",
       "      <td>Кутузовский проспект</td>\n",
       "      <td>113</td>\n",
       "      <td>114</td>\n",
       "    </tr>\n",
       "    <tr>\n",
       "      <th>596</th>\n",
       "      <td>Каширское шоссе</td>\n",
       "      <td>112</td>\n",
       "      <td>112</td>\n",
       "    </tr>\n",
       "    <tr>\n",
       "      <th>603</th>\n",
       "      <td>Кировоградская улица</td>\n",
       "      <td>109</td>\n",
       "      <td>110</td>\n",
       "    </tr>\n",
       "  </tbody>\n",
       "</table>\n",
       "</div>"
      ],
      "text/plain": [
       "                      street  object_name  number\n",
       "1418           проспект Мира          202     204\n",
       "1009       Профсоюзная улица          174     182\n",
       "683   Ленинградский проспект          166     171\n",
       "993   Пресненская набережная          164     167\n",
       "397         Варшавское шоссе          163     164\n",
       "686       Ленинский проспект          142     147\n",
       "1414    проспект Вернадского          132     132\n",
       "673     Кутузовский проспект          113     114\n",
       "596          Каширское шоссе          112     112\n",
       "603     Кировоградская улица          109     110"
      ]
     },
     "execution_count": 30,
     "metadata": {},
     "output_type": "execute_result"
    }
   ],
   "source": [
    "top10 = object_name_count.head(10)\n",
    "top10"
   ]
  },
  {
   "cell_type": "code",
   "execution_count": 31,
   "metadata": {},
   "outputs": [
    {
     "data": {
      "image/png": "[encoded data removed]",
      "text/plain": [
       "<Figure size 1440x720 with 1 Axes>"
      ]
     },
     "metadata": {
      "needs_background": "light"
     },
     "output_type": "display_data"
    }
   ],
   "source": [
    "plt.figure(figsize=(20, 10))\n",
    "sns.barplot(data=top10, x='street', y='object_name')\n",
    "plt.xticks(rotation=45)\n",
    "plt.title('Топ-10 улиц по кол-ву заведений общепита')\n",
    "plt.xlabel('')\n",
    "plt.ylabel('Кол-во предприятий общепита')\n",
    "plt.show()"
   ]
  },
  {
   "cell_type": "markdown",
   "metadata": {},
   "source": [
    "Лидирует проспект Мира, что неудивительно - он очень длинный (целых 8,9 км!), поэтому на нём располагаются аж 202 общепита. В хвосте Кировоградская улица - на ней 109 заведений."
   ]
  },
  {
   "cell_type": "markdown",
   "metadata": {},
   "source": [
    "Воспользуемся найденной в сети таблицей с информацией об улицах Москвы, импортируем её в гугл-таблицы и загрузим сюда."
   ]
  },
  {
   "cell_type": "code",
   "execution_count": 32,
   "metadata": {},
   "outputs": [
    {
     "data": {
      "text/html": [
       "<div>\n",
       "<style scoped>\n",
       "    .dataframe tbody tr th:only-of-type {\n",
       "        vertical-align: middle;\n",
       "    }\n",
       "\n",
       "    .dataframe tbody tr th {\n",
       "        vertical-align: top;\n",
       "    }\n",
       "\n",
       "    .dataframe thead th {\n",
       "        text-align: right;\n",
       "    }\n",
       "</style>\n",
       "<table border=\"1\" class=\"dataframe\">\n",
       "  <thead>\n",
       "    <tr style=\"text-align: right;\">\n",
       "      <th></th>\n",
       "      <th>street</th>\n",
       "      <th>area_id</th>\n",
       "      <th>district</th>\n",
       "      <th>area</th>\n",
       "    </tr>\n",
       "  </thead>\n",
       "  <tbody>\n",
       "    <tr>\n",
       "      <th>0</th>\n",
       "      <td>Выставочный переулок</td>\n",
       "      <td>17</td>\n",
       "      <td>ЦАО</td>\n",
       "      <td>Пресненский район</td>\n",
       "    </tr>\n",
       "    <tr>\n",
       "      <th>1</th>\n",
       "      <td>улица Гашека</td>\n",
       "      <td>17</td>\n",
       "      <td>ЦАО</td>\n",
       "      <td>Пресненский район</td>\n",
       "    </tr>\n",
       "    <tr>\n",
       "      <th>2</th>\n",
       "      <td>Большая Никитская улица</td>\n",
       "      <td>17</td>\n",
       "      <td>ЦАО</td>\n",
       "      <td>Пресненский район</td>\n",
       "    </tr>\n",
       "    <tr>\n",
       "      <th>3</th>\n",
       "      <td>Глубокий переулок</td>\n",
       "      <td>17</td>\n",
       "      <td>ЦАО</td>\n",
       "      <td>Пресненский район</td>\n",
       "    </tr>\n",
       "    <tr>\n",
       "      <th>4</th>\n",
       "      <td>Большой Гнездниковский переулок</td>\n",
       "      <td>17</td>\n",
       "      <td>ЦАО</td>\n",
       "      <td>Пресненский район</td>\n",
       "    </tr>\n",
       "    <tr>\n",
       "      <th>...</th>\n",
       "      <td>...</td>\n",
       "      <td>...</td>\n",
       "      <td>...</td>\n",
       "      <td>...</td>\n",
       "    </tr>\n",
       "    <tr>\n",
       "      <th>4393</th>\n",
       "      <td>Вознесенский проезд</td>\n",
       "      <td>17</td>\n",
       "      <td>ЦАО</td>\n",
       "      <td>Пресненский район</td>\n",
       "    </tr>\n",
       "    <tr>\n",
       "      <th>4394</th>\n",
       "      <td>Волков переулок</td>\n",
       "      <td>17</td>\n",
       "      <td>ЦАО</td>\n",
       "      <td>Пресненский район</td>\n",
       "    </tr>\n",
       "    <tr>\n",
       "      <th>4395</th>\n",
       "      <td>Поварская улица</td>\n",
       "      <td>17</td>\n",
       "      <td>ЦАО</td>\n",
       "      <td>Пресненский район</td>\n",
       "    </tr>\n",
       "    <tr>\n",
       "      <th>4396</th>\n",
       "      <td>Кудринская площадь</td>\n",
       "      <td>17</td>\n",
       "      <td>ЦАО</td>\n",
       "      <td>Пресненский район</td>\n",
       "    </tr>\n",
       "    <tr>\n",
       "      <th>4397</th>\n",
       "      <td>Вспольный переулок</td>\n",
       "      <td>17</td>\n",
       "      <td>ЦАО</td>\n",
       "      <td>Пресненский район</td>\n",
       "    </tr>\n",
       "  </tbody>\n",
       "</table>\n",
       "<p>4398 rows × 4 columns</p>\n",
       "</div>"
      ],
      "text/plain": [
       "                               street  area_id district               area\n",
       "0                Выставочный переулок       17      ЦАО  Пресненский район\n",
       "1                        улица Гашека       17      ЦАО  Пресненский район\n",
       "2             Большая Никитская улица       17      ЦАО  Пресненский район\n",
       "3                   Глубокий переулок       17      ЦАО  Пресненский район\n",
       "4     Большой Гнездниковский переулок       17      ЦАО  Пресненский район\n",
       "...                               ...      ...      ...                ...\n",
       "4393              Вознесенский проезд       17      ЦАО  Пресненский район\n",
       "4394                  Волков переулок       17      ЦАО  Пресненский район\n",
       "4395                  Поварская улица       17      ЦАО  Пресненский район\n",
       "4396               Кудринская площадь       17      ЦАО  Пресненский район\n",
       "4397               Вспольный переулок       17      ЦАО  Пресненский район\n",
       "\n",
       "[4398 rows x 4 columns]"
      ]
     },
     "execution_count": 32,
     "metadata": {},
     "output_type": "execute_result"
    }
   ],
   "source": [
    "spreadsheet_id = '1fH6ehueXLdiqi49D2n2zEA4RuBRcaH2SWILuMr-qzfA'\n",
    "file_name = 'https://docs.google.com/spreadsheets/d/{}/export?format=csv'.format(spreadsheet_id)\n",
    "r = requests.get(file_name)\n",
    "streets = pd.read_csv(BytesIO(r.content))\n",
    "streets.columns = ['street', 'area_id', 'district', 'area']\n",
    "streets"
   ]
  },
  {
   "cell_type": "markdown",
   "metadata": {},
   "source": [
    "Смерджим таблицы top10 и таблицу, полученную \"извне\"."
   ]
  },
  {
   "cell_type": "code",
   "execution_count": 33,
   "metadata": {},
   "outputs": [],
   "source": [
    "top10 = top10.merge(streets, on='street', how='left')"
   ]
  },
  {
   "cell_type": "markdown",
   "metadata": {},
   "source": [
    "Построим сводную таблицу, чтобы посмотреть районы."
   ]
  },
  {
   "cell_type": "code",
   "execution_count": 34,
   "metadata": {},
   "outputs": [
    {
     "data": {
      "text/html": [
       "<div>\n",
       "<style scoped>\n",
       "    .dataframe tbody tr th:only-of-type {\n",
       "        vertical-align: middle;\n",
       "    }\n",
       "\n",
       "    .dataframe tbody tr th {\n",
       "        vertical-align: top;\n",
       "    }\n",
       "\n",
       "    .dataframe thead th {\n",
       "        text-align: right;\n",
       "    }\n",
       "</style>\n",
       "<table border=\"1\" class=\"dataframe\">\n",
       "  <thead>\n",
       "    <tr style=\"text-align: right;\">\n",
       "      <th></th>\n",
       "      <th></th>\n",
       "      <th></th>\n",
       "      <th>object_name</th>\n",
       "    </tr>\n",
       "    <tr>\n",
       "      <th>street</th>\n",
       "      <th>district</th>\n",
       "      <th>area</th>\n",
       "      <th></th>\n",
       "    </tr>\n",
       "  </thead>\n",
       "  <tbody>\n",
       "    <tr>\n",
       "      <th rowspan=\"7\" valign=\"top\">проспект Мира</th>\n",
       "      <th>ЦАО</th>\n",
       "      <th>Мещанский район</th>\n",
       "      <td>202</td>\n",
       "    </tr>\n",
       "    <tr>\n",
       "      <th rowspan=\"6\" valign=\"top\">СВАО</th>\n",
       "      <th>Ярославский Район</th>\n",
       "      <td>202</td>\n",
       "    </tr>\n",
       "    <tr>\n",
       "      <th>Район Свиблово</th>\n",
       "      <td>202</td>\n",
       "    </tr>\n",
       "    <tr>\n",
       "      <th>Район Ростокино</th>\n",
       "      <td>202</td>\n",
       "    </tr>\n",
       "    <tr>\n",
       "      <th>Район Марьина роща</th>\n",
       "      <td>202</td>\n",
       "    </tr>\n",
       "    <tr>\n",
       "      <th>Останкинский район</th>\n",
       "      <td>202</td>\n",
       "    </tr>\n",
       "    <tr>\n",
       "      <th>Алексеевский район</th>\n",
       "      <td>202</td>\n",
       "    </tr>\n",
       "    <tr>\n",
       "      <th rowspan=\"6\" valign=\"top\">Профсоюзная улица</th>\n",
       "      <th rowspan=\"6\" valign=\"top\">ЮЗАО</th>\n",
       "      <th>Район Коньково</th>\n",
       "      <td>174</td>\n",
       "    </tr>\n",
       "    <tr>\n",
       "      <th>Академический район</th>\n",
       "      <td>174</td>\n",
       "    </tr>\n",
       "    <tr>\n",
       "      <th>Обручевский район</th>\n",
       "      <td>174</td>\n",
       "    </tr>\n",
       "    <tr>\n",
       "      <th>Район Черемушки</th>\n",
       "      <td>174</td>\n",
       "    </tr>\n",
       "    <tr>\n",
       "      <th>Район Теплый Стан</th>\n",
       "      <td>174</td>\n",
       "    </tr>\n",
       "    <tr>\n",
       "      <th>Район Ясенево</th>\n",
       "      <td>174</td>\n",
       "    </tr>\n",
       "    <tr>\n",
       "      <th rowspan=\"4\" valign=\"top\">Ленинградский проспект</th>\n",
       "      <th rowspan=\"4\" valign=\"top\">САО</th>\n",
       "      <th>Район Сокол</th>\n",
       "      <td>166</td>\n",
       "    </tr>\n",
       "    <tr>\n",
       "      <th>Хорошевский район</th>\n",
       "      <td>166</td>\n",
       "    </tr>\n",
       "    <tr>\n",
       "      <th>Район Аэропорт</th>\n",
       "      <td>166</td>\n",
       "    </tr>\n",
       "    <tr>\n",
       "      <th>Район Беговой</th>\n",
       "      <td>166</td>\n",
       "    </tr>\n",
       "    <tr>\n",
       "      <th>Пресненская набережная</th>\n",
       "      <th>ЦАО</th>\n",
       "      <th>Пресненский район</th>\n",
       "      <td>164</td>\n",
       "    </tr>\n",
       "    <tr>\n",
       "      <th rowspan=\"8\" valign=\"top\">Варшавское шоссе</th>\n",
       "      <th rowspan=\"3\" valign=\"top\">ЮАО</th>\n",
       "      <th>Нагорный район</th>\n",
       "      <td>163</td>\n",
       "    </tr>\n",
       "    <tr>\n",
       "      <th>Донской район</th>\n",
       "      <td>163</td>\n",
       "    </tr>\n",
       "    <tr>\n",
       "      <th>Район Чертаново Северное</th>\n",
       "      <td>163</td>\n",
       "    </tr>\n",
       "    <tr>\n",
       "      <th>ЮЗАО</th>\n",
       "      <th>Район Южное Бутово</th>\n",
       "      <td>163</td>\n",
       "    </tr>\n",
       "    <tr>\n",
       "      <th>ЮАО</th>\n",
       "      <th>Район Нагатино-Садовники</th>\n",
       "      <td>163</td>\n",
       "    </tr>\n",
       "    <tr>\n",
       "      <th>ЮЗАО</th>\n",
       "      <th>Район Северное Бутово</th>\n",
       "      <td>163</td>\n",
       "    </tr>\n",
       "    <tr>\n",
       "      <th rowspan=\"2\" valign=\"top\">ЮАО</th>\n",
       "      <th>Район Чертаново Южное</th>\n",
       "      <td>163</td>\n",
       "    </tr>\n",
       "    <tr>\n",
       "      <th>Район Чертаново Центральное</th>\n",
       "      <td>163</td>\n",
       "    </tr>\n",
       "    <tr>\n",
       "      <th rowspan=\"8\" valign=\"top\">Ленинский проспект</th>\n",
       "      <th>ЮЗАО</th>\n",
       "      <th>Район Теплый Стан</th>\n",
       "      <td>142</td>\n",
       "    </tr>\n",
       "    <tr>\n",
       "      <th>ЗАО</th>\n",
       "      <th>Район Проспект Вернадского</th>\n",
       "      <td>142</td>\n",
       "    </tr>\n",
       "    <tr>\n",
       "      <th>ЮАО</th>\n",
       "      <th>Донской район</th>\n",
       "      <td>142</td>\n",
       "    </tr>\n",
       "    <tr>\n",
       "      <th rowspan=\"3\" valign=\"top\">ЮЗАО</th>\n",
       "      <th>Район Гагаринский</th>\n",
       "      <td>142</td>\n",
       "    </tr>\n",
       "    <tr>\n",
       "      <th>Обручевский район</th>\n",
       "      <td>142</td>\n",
       "    </tr>\n",
       "    <tr>\n",
       "      <th>Ломоносовский район</th>\n",
       "      <td>142</td>\n",
       "    </tr>\n",
       "    <tr>\n",
       "      <th>ЦАО</th>\n",
       "      <th>Район Якиманка</th>\n",
       "      <td>142</td>\n",
       "    </tr>\n",
       "    <tr>\n",
       "      <th>ЗАО</th>\n",
       "      <th>Район Тропарево-Никулино</th>\n",
       "      <td>142</td>\n",
       "    </tr>\n",
       "    <tr>\n",
       "      <th rowspan=\"5\" valign=\"top\">проспект Вернадского</th>\n",
       "      <th rowspan=\"2\" valign=\"top\">ЮЗАО</th>\n",
       "      <th>Ломоносовский район</th>\n",
       "      <td>132</td>\n",
       "    </tr>\n",
       "    <tr>\n",
       "      <th>Район Гагаринский</th>\n",
       "      <td>132</td>\n",
       "    </tr>\n",
       "    <tr>\n",
       "      <th rowspan=\"3\" valign=\"top\">ЗАО</th>\n",
       "      <th>Район Проспект Вернадского</th>\n",
       "      <td>132</td>\n",
       "    </tr>\n",
       "    <tr>\n",
       "      <th>Район Раменки</th>\n",
       "      <td>132</td>\n",
       "    </tr>\n",
       "    <tr>\n",
       "      <th>Район Тропарево-Никулино</th>\n",
       "      <td>132</td>\n",
       "    </tr>\n",
       "    <tr>\n",
       "      <th rowspan=\"2\" valign=\"top\">Кутузовский проспект</th>\n",
       "      <th rowspan=\"2\" valign=\"top\">ЗАО</th>\n",
       "      <th>Район Фили-Давыдково</th>\n",
       "      <td>113</td>\n",
       "    </tr>\n",
       "    <tr>\n",
       "      <th>Район Дорогомилово</th>\n",
       "      <td>113</td>\n",
       "    </tr>\n",
       "    <tr>\n",
       "      <th rowspan=\"4\" valign=\"top\">Каширское шоссе</th>\n",
       "      <th rowspan=\"4\" valign=\"top\">ЮАО</th>\n",
       "      <th>Район Москворечье-Сабурово</th>\n",
       "      <td>112</td>\n",
       "    </tr>\n",
       "    <tr>\n",
       "      <th>Район Орехово-Борисово Северное</th>\n",
       "      <td>112</td>\n",
       "    </tr>\n",
       "    <tr>\n",
       "      <th>Район Орехово-Борисово Южное</th>\n",
       "      <td>112</td>\n",
       "    </tr>\n",
       "    <tr>\n",
       "      <th>Район Нагатино-Садовники</th>\n",
       "      <td>112</td>\n",
       "    </tr>\n",
       "    <tr>\n",
       "      <th rowspan=\"3\" valign=\"top\">Кировоградская улица</th>\n",
       "      <th rowspan=\"3\" valign=\"top\">ЮАО</th>\n",
       "      <th>Район Чертаново Северное</th>\n",
       "      <td>109</td>\n",
       "    </tr>\n",
       "    <tr>\n",
       "      <th>Район Чертаново Центральное</th>\n",
       "      <td>109</td>\n",
       "    </tr>\n",
       "    <tr>\n",
       "      <th>Район Чертаново Южное</th>\n",
       "      <td>109</td>\n",
       "    </tr>\n",
       "  </tbody>\n",
       "</table>\n",
       "</div>"
      ],
      "text/plain": [
       "                                                                 object_name\n",
       "street                 district area                                        \n",
       "проспект Мира          ЦАО      Мещанский район                          202\n",
       "                       СВАО     Ярославский Район                        202\n",
       "                                Район Свиблово                           202\n",
       "                                Район Ростокино                          202\n",
       "                                Район Марьина роща                       202\n",
       "                                Останкинский район                       202\n",
       "                                Алексеевский район                       202\n",
       "Профсоюзная улица      ЮЗАО     Район Коньково                           174\n",
       "                                Академический район                      174\n",
       "                                Обручевский район                        174\n",
       "                                Район Черемушки                          174\n",
       "                                Район Теплый Стан                        174\n",
       "                                Район Ясенево                            174\n",
       "Ленинградский проспект САО      Район Сокол                              166\n",
       "                                Хорошевский район                        166\n",
       "                                Район Аэропорт                           166\n",
       "                                Район Беговой                            166\n",
       "Пресненская набережная ЦАО      Пресненский район                        164\n",
       "Варшавское шоссе       ЮАО      Нагорный район                           163\n",
       "                                Донской район                            163\n",
       "                                Район Чертаново Северное                 163\n",
       "                       ЮЗАО     Район Южное Бутово                       163\n",
       "                       ЮАО      Район Нагатино-Садовники                 163\n",
       "                       ЮЗАО     Район Северное Бутово                    163\n",
       "                       ЮАО      Район Чертаново Южное                    163\n",
       "                                Район Чертаново Центральное              163\n",
       "Ленинский проспект     ЮЗАО     Район Теплый Стан                        142\n",
       "                       ЗАО      Район Проспект Вернадского               142\n",
       "                       ЮАО      Донской район                            142\n",
       "                       ЮЗАО     Район Гагаринский                        142\n",
       "                                Обручевский район                        142\n",
       "                                Ломоносовский район                      142\n",
       "                       ЦАО      Район Якиманка                           142\n",
       "                       ЗАО      Район Тропарево-Никулино                 142\n",
       "проспект Вернадского   ЮЗАО     Ломоносовский район                      132\n",
       "                                Район Гагаринский                        132\n",
       "                       ЗАО      Район Проспект Вернадского               132\n",
       "                                Район Раменки                            132\n",
       "                                Район Тропарево-Никулино                 132\n",
       "Кутузовский проспект   ЗАО      Район Фили-Давыдково                     113\n",
       "                                Район Дорогомилово                       113\n",
       "Каширское шоссе        ЮАО      Район Москворечье-Сабурово               112\n",
       "                                Район Орехово-Борисово Северное          112\n",
       "                                Район Орехово-Борисово Южное             112\n",
       "                                Район Нагатино-Садовники                 112\n",
       "Кировоградская улица   ЮАО      Район Чертаново Северное                 109\n",
       "                                Район Чертаново Центральное              109\n",
       "                                Район Чертаново Южное                    109"
      ]
     },
     "execution_count": 34,
     "metadata": {},
     "output_type": "execute_result"
    }
   ],
   "source": [
    "top10_pivot = top10.pivot_table(index=['street', 'district', 'area'], \n",
    "                  values='object_name', \n",
    "                  aggfunc='max').sort_values(by='object_name', ascending=False)\n",
    "top10_pivot"
   ]
  },
  {
   "cell_type": "markdown",
   "metadata": {},
   "source": [
    "Как мы видим, каждая улица относится одновременно к нескольком районам - минимум 3 у Кировоградской улицы и максимум 7 у проспекта Мира."
   ]
  },
  {
   "cell_type": "code",
   "execution_count": 35,
   "metadata": {},
   "outputs": [
    {
     "data": {
      "image/png": "[encoded data removed]",
      "text/plain": [
       "<Figure size 1440x720 with 1 Axes>"
      ]
     },
     "metadata": {
      "needs_background": "light"
     },
     "output_type": "display_data"
    }
   ],
   "source": [
    "plt.figure(figsize=(20, 10))\n",
    "sns.barplot(data=top10_pivot.reset_index()\n",
    "            .groupby('street')['area'].count().reset_index()\n",
    "            .sort_values(by='area', ascending=False), x='street', y='area')\n",
    "plt.xticks(rotation=45)\n",
    "plt.title('Число районов, через которые проходит топ-10 улиц')\n",
    "plt.xlabel('')\n",
    "plt.ylabel('Кол-во районов')\n",
    "plt.show()"
   ]
  },
  {
   "cell_type": "markdown",
   "metadata": {},
   "source": [
    "### Найдём число улиц с одним объектом общественного питания и определим, в каких районах Москвы находятся эти улицы"
   ]
  },
  {
   "cell_type": "markdown",
   "metadata": {},
   "source": [
    "Возьмём датасет object_name_count и локом оставим те строки, в которых число объектов равняется одному и посчитаем кол-во уникальных значений столбца street."
   ]
  },
  {
   "cell_type": "code",
   "execution_count": 36,
   "metadata": {},
   "outputs": [
    {
     "data": {
      "text/plain": [
       "551"
      ]
     },
     "execution_count": 36,
     "metadata": {},
     "output_type": "execute_result"
    }
   ],
   "source": [
    "object_name_count[object_name_count['object_name'] == 1]['street'].nunique()"
   ]
  },
  {
   "cell_type": "markdown",
   "metadata": {},
   "source": [
    "Всего 551 улица с одним объектом общепита."
   ]
  },
  {
   "cell_type": "code",
   "execution_count": 37,
   "metadata": {},
   "outputs": [
    {
     "data": {
      "text/html": [
       "<div>\n",
       "<style scoped>\n",
       "    .dataframe tbody tr th:only-of-type {\n",
       "        vertical-align: middle;\n",
       "    }\n",
       "\n",
       "    .dataframe tbody tr th {\n",
       "        vertical-align: top;\n",
       "    }\n",
       "\n",
       "    .dataframe thead th {\n",
       "        text-align: right;\n",
       "    }\n",
       "</style>\n",
       "<table border=\"1\" class=\"dataframe\">\n",
       "  <thead>\n",
       "    <tr style=\"text-align: right;\">\n",
       "      <th></th>\n",
       "      <th>area</th>\n",
       "    </tr>\n",
       "  </thead>\n",
       "  <tbody>\n",
       "    <tr>\n",
       "      <th>Тверской район</th>\n",
       "      <td>106</td>\n",
       "    </tr>\n",
       "    <tr>\n",
       "      <th>Пресненский район</th>\n",
       "      <td>87</td>\n",
       "    </tr>\n",
       "    <tr>\n",
       "      <th>Таганский район</th>\n",
       "      <td>81</td>\n",
       "    </tr>\n",
       "    <tr>\n",
       "      <th>Басманный район</th>\n",
       "      <td>80</td>\n",
       "    </tr>\n",
       "    <tr>\n",
       "      <th>Район Хамовники</th>\n",
       "      <td>74</td>\n",
       "    </tr>\n",
       "    <tr>\n",
       "      <th>...</th>\n",
       "      <td>...</td>\n",
       "    </tr>\n",
       "    <tr>\n",
       "      <th>Район Братеево</th>\n",
       "      <td>5</td>\n",
       "    </tr>\n",
       "    <tr>\n",
       "      <th>Район Новокосино</th>\n",
       "      <td>4</td>\n",
       "    </tr>\n",
       "    <tr>\n",
       "      <th>Район Некрасовка</th>\n",
       "      <td>2</td>\n",
       "    </tr>\n",
       "    <tr>\n",
       "      <th>Район Восточный</th>\n",
       "      <td>2</td>\n",
       "    </tr>\n",
       "    <tr>\n",
       "      <th>Район Капотня</th>\n",
       "      <td>1</td>\n",
       "    </tr>\n",
       "  </tbody>\n",
       "</table>\n",
       "<p>123 rows × 1 columns</p>\n",
       "</div>"
      ],
      "text/plain": [
       "                   area\n",
       "Тверской район      106\n",
       "Пресненский район    87\n",
       "Таганский район      81\n",
       "Басманный район      80\n",
       "Район Хамовники      74\n",
       "...                 ...\n",
       "Район Братеево        5\n",
       "Район Новокосино      4\n",
       "Район Некрасовка      2\n",
       "Район Восточный       2\n",
       "Район Капотня         1\n",
       "\n",
       "[123 rows x 1 columns]"
      ]
     },
     "execution_count": 37,
     "metadata": {},
     "output_type": "execute_result"
    }
   ],
   "source": [
    "object_name_count = object_name_count.merge(streets, on='street', how='left')\n",
    "object_name_count['area'].value_counts().to_frame()"
   ]
  },
  {
   "cell_type": "code",
   "execution_count": 38,
   "metadata": {},
   "outputs": [
    {
     "data": {
      "image/png": "[encoded data removed]",
      "text/plain": [
       "<Figure size 1440x720 with 1 Axes>"
      ]
     },
     "metadata": {
      "needs_background": "light"
     },
     "output_type": "display_data"
    }
   ],
   "source": [
    "plt.figure(figsize=(20, 10))\n",
    "sns.barplot(data = object_name_count['area'].value_counts().reset_index().head(5), x='index', y='area')\n",
    "plt.title('Топ-5 районов с улицами с 1 заведением общепита')\n",
    "plt.xlabel('')\n",
    "plt.ylabel('Кол-во улиц')\n",
    "plt.show()"
   ]
  },
  {
   "cell_type": "markdown",
   "metadata": {},
   "source": [
    "Мы выяснили, что в Москве всего 123 района, на которых расположено всего одно заведение общепита. В топ-5 районов с такими улицами входят Тверской, Пресненский, Таганский, Басманный и Хамовники. Все эти районы объединяет то, что они являются частью Центрального административного округа г. Москвы. Вероятно, то обстоятельство, что в этих районах много улиц, на которых располагается всего одно заведение, связано, во-первых, с высокой арендной платой, а во-вторых, с большим количеством небольших тихих улочек, на которых, возможно, не будет нужной проходимости для окупаемости заведения."
   ]
  },
  {
   "cell_type": "markdown",
   "metadata": {},
   "source": [
    "### Посмотрим на распределение количества посадочных мест для улиц с большим количеством объектов общественного питания\n"
   ]
  },
  {
   "cell_type": "markdown",
   "metadata": {},
   "source": [
    "Сначала извлечём названия улиц из top10 и сделаем из названий словарь."
   ]
  },
  {
   "cell_type": "code",
   "execution_count": 39,
   "metadata": {},
   "outputs": [
    {
     "data": {
      "text/plain": [
       "array(['проспект Мира', 'Профсоюзная улица', 'Ленинградский проспект',\n",
       "       'Пресненская набережная', 'Варшавское шоссе', 'Ленинский проспект',\n",
       "       'проспект Вернадского', 'Кутузовский проспект', 'Каширское шоссе',\n",
       "       'Кировоградская улица'], dtype='<U22')"
      ]
     },
     "execution_count": 39,
     "metadata": {},
     "output_type": "execute_result"
    }
   ],
   "source": [
    "top10streets = top10['street'].unique().astype(str)\n",
    "top10streets"
   ]
  },
  {
   "cell_type": "markdown",
   "metadata": {},
   "source": [
    "Теперь сделаем срез данных по общей таблице на основе созданного словаря и построим гистограмму."
   ]
  },
  {
   "cell_type": "code",
   "execution_count": 40,
   "metadata": {},
   "outputs": [
    {
     "data": {
      "image/png": "[encoded data removed]",
      "text/plain": [
       "<Figure size 432x288 with 1 Axes>"
      ]
     },
     "metadata": {
      "needs_background": "light"
     },
     "output_type": "display_data"
    }
   ],
   "source": [
    "data_top10_streets = data.query('street in @top10streets')\n",
    "data_top10_streets['number'].value_counts().hist(bins=50)\n",
    "plt.title('Распределение посадочных мест на топ-10 улиц')\n",
    "plt.xlabel('Кол-во посадочных мест')\n",
    "plt.ylabel('Количество заведений')\n",
    "plt.show()"
   ]
  },
  {
   "cell_type": "markdown",
   "metadata": {},
   "source": [
    "Гистрограмма показывает, что в топе улиц по кол-ву заведений бОльшая их часть не имеет посадочных мест. В целом видно, что чем больше посадочных мест, тем больше кол-во заведений. Также посмотрим медианное значение количества посадочных мест, предварительно исключив значение 0."
   ]
  },
  {
   "cell_type": "code",
   "execution_count": 41,
   "metadata": {},
   "outputs": [
    {
     "data": {
      "text/plain": [
       "40.0"
      ]
     },
     "execution_count": 41,
     "metadata": {},
     "output_type": "execute_result"
    }
   ],
   "source": [
    "median_seats = data_top10_streets[data_top10_streets['number'] > 0]\n",
    "median_seats['number'].median()"
   ]
  },
  {
   "cell_type": "markdown",
   "metadata": {},
   "source": [
    "Итак, чаще всего встречаются кафе с приблизительно 40 посадочными местами. Именно на эту цифру мы предлагаем ориентироваться при открытии."
   ]
  },
  {
   "cell_type": "markdown",
   "metadata": {},
   "source": [
    "## Общий вывод."
   ]
  },
  {
   "cell_type": "markdown",
   "metadata": {},
   "source": [
    "Нашей целью было проанализировать рынок общественного питания в Москве. Перед нами была поставлена цель выяснить, имеет ли смысл открывать общепит с роботами. Для достижения этой цели мы оптимизировали имеюющиеся у нас данные, унифицировав названия заведений, проверив на ошибки и повторы.\n",
    "\n",
    "В основной части нашего исследования мы пришли к следующим выводам:\n",
    "- Наибольшее кол-во заведений составляют кафе - их около 6 000. За ними идут столовые, рестораны и предприятия быстрого обслуживания. Меньше всего заведений в магазинах (отдел кулинарии).\n",
    "- На рынке общепита доминируют несетевые заведения - их более чем в 3 раза больше, чем сетевых.\n",
    "- Из сетевых заведений лидером является кафе, затем идут предприятия быстрого питания и рестораны. Аутсайдером здесь являются столовые.\n",
    "- Из сетевых заведений больше тех, у которых небольшое кол-во посадочных мест, и меньше заведений с большим их кол-вом.\n",
    "- В рейтинге среднего числа посадочных мест по всем заведениям лидируют столовые. За ними идут рестораны и буфеты. В самом конце рейтинга расположились отделы кулинарии в магазинах.\n",
    "- В топ-10 улиц с наибольшим кол-вом заведений общепита вошли: проспект Мира, Профсоюзная улица, Ленинградский проспект, Пресненская набережная, Варшавское шоссе, Ленинский проспект, проспект Вернадского, Кутузовский проспект, Каширское шоссе и Кировоградская улица.\n",
    "- Каждая из этих улиц проходит через несколько районов, что неудивительно ввиду их протяжённости.\n",
    "- В Москве 551 улица, на которой находится всего одно заведение. Больше всего таких улиц в Тверском районе.\n",
    "- Очень чётко прослеживается закономерность, согласно которой чем больше посадочных мест, тем больше заведений общепита.\n",
    "- Больше всего заведений без посадочных мест: это могут быть палатки с шаурмой или кофе to go.\n",
    "\n",
    "На основе этих данных мы могли бы дать следующие рекомендации:\n",
    "- В качестве типа заведения выбрать кафе ввиду их наибольшей распространённости и бОльшей доступности.\n",
    "- Выбирать место ближе к центру города и/или к проходимым местам. Не рекомендуем размещать заведение на окраине из-за специфичного формата заведения (роботы).\n",
    "- Рекомендуем ориентироваться на приблизительно 40 посадочных мест."
   ]
  }
 ],
 "metadata": {
  "ExecuteTimeLog": [
   {
    "duration": 1087,
    "start_time": "2021-09-29T08:03:34.446Z"
   },
   {
    "duration": 45,
    "start_time": "2021-09-29T08:03:35.535Z"
   },
   {
    "duration": 20,
    "start_time": "2021-09-29T08:03:35.582Z"
   },
   {
    "duration": 7,
    "start_time": "2021-09-29T08:03:35.604Z"
   },
   {
    "duration": 25,
    "start_time": "2021-09-29T08:03:35.613Z"
   },
   {
    "duration": 14,
    "start_time": "2021-09-29T08:03:35.640Z"
   },
   {
    "duration": 5,
    "start_time": "2021-09-29T08:03:35.656Z"
   },
   {
    "duration": 45,
    "start_time": "2021-09-29T08:03:35.663Z"
   },
   {
    "duration": 60,
    "start_time": "2021-09-29T08:03:35.710Z"
   },
   {
    "duration": 6,
    "start_time": "2021-09-29T08:03:35.771Z"
   },
   {
    "duration": 36,
    "start_time": "2021-09-29T08:03:35.778Z"
   },
   {
    "duration": 4,
    "start_time": "2021-09-29T08:03:35.816Z"
   },
   {
    "duration": 28,
    "start_time": "2021-09-29T08:03:35.822Z"
   },
   {
    "duration": 8,
    "start_time": "2021-09-29T08:03:35.852Z"
   },
   {
    "duration": 401,
    "start_time": "2021-09-29T08:03:35.862Z"
   },
   {
    "duration": 146,
    "start_time": "2021-09-29T08:03:36.264Z"
   },
   {
    "duration": 11,
    "start_time": "2021-09-29T08:03:36.411Z"
   },
   {
    "duration": 413,
    "start_time": "2021-09-29T08:03:36.424Z"
   },
   {
    "duration": 25,
    "start_time": "2021-09-29T08:03:36.838Z"
   },
   {
    "duration": 394,
    "start_time": "2021-09-29T08:03:36.864Z"
   },
   {
    "duration": 455,
    "start_time": "2021-09-29T08:03:37.260Z"
   },
   {
    "duration": 137,
    "start_time": "2021-09-29T08:03:37.716Z"
   },
   {
    "duration": 4,
    "start_time": "2021-09-29T08:03:37.855Z"
   },
   {
    "duration": 5,
    "start_time": "2021-09-29T08:03:37.861Z"
   },
   {
    "duration": 8,
    "start_time": "2021-09-29T08:03:37.867Z"
   },
   {
    "duration": 152,
    "start_time": "2021-09-29T08:03:37.877Z"
   },
   {
    "duration": 269,
    "start_time": "2021-09-29T08:03:38.033Z"
   },
   {
    "duration": 11,
    "start_time": "2021-09-29T08:03:38.304Z"
   },
   {
    "duration": 415,
    "start_time": "2021-09-29T08:03:38.316Z"
   },
   {
    "duration": 172,
    "start_time": "2021-09-29T08:03:38.732Z"
   },
   {
    "duration": 14,
    "start_time": "2021-09-29T08:03:38.906Z"
   },
   {
    "duration": 12,
    "start_time": "2021-09-29T08:03:38.921Z"
   },
   {
    "duration": 7,
    "start_time": "2021-09-29T08:03:38.935Z"
   },
   {
    "duration": 443,
    "start_time": "2021-09-29T08:03:38.944Z"
   },
   {
    "duration": 1075,
    "start_time": "2021-09-29T08:03:39.389Z"
   },
   {
    "duration": 7,
    "start_time": "2021-09-29T08:03:40.466Z"
   },
   {
    "duration": 21,
    "start_time": "2021-09-29T08:03:40.474Z"
   },
   {
    "duration": 420,
    "start_time": "2021-09-29T08:03:40.497Z"
   },
   {
    "duration": 6,
    "start_time": "2021-09-29T08:03:40.918Z"
   },
   {
    "duration": 11,
    "start_time": "2021-09-29T08:03:40.926Z"
   },
   {
    "duration": 9,
    "start_time": "2021-09-29T08:03:40.939Z"
   },
   {
    "duration": 360,
    "start_time": "2021-09-29T08:03:40.949Z"
   },
   {
    "duration": 5,
    "start_time": "2021-09-29T08:03:41.311Z"
   },
   {
    "duration": 283,
    "start_time": "2021-09-29T08:03:41.317Z"
   },
   {
    "duration": 25,
    "start_time": "2021-09-29T08:03:41.601Z"
   },
   {
    "duration": 305,
    "start_time": "2021-09-29T08:03:41.628Z"
   },
   {
    "duration": 2341,
    "start_time": "2021-09-29T08:03:39.594Z"
   },
   {
    "duration": 2339,
    "start_time": "2021-09-29T08:03:39.597Z"
   },
   {
    "duration": 2334,
    "start_time": "2021-09-29T08:03:39.603Z"
   },
   {
    "duration": 2331,
    "start_time": "2021-09-29T08:03:39.607Z"
   }
  ],
  "kernelspec": {
   "display_name": "Python 3",
   "language": "python",
   "name": "python3"
  },
  "language_info": {
   "codemirror_mode": {
    "name": "ipython",
    "version": 3
   },
   "file_extension": ".py",
   "mimetype": "text/x-python",
   "name": "python",
   "nbconvert_exporter": "python",
   "pygments_lexer": "ipython3",
   "version": "3.8.8"
  },
  "toc": {
   "base_numbering": 1,
   "nav_menu": {},
   "number_sections": true,
   "sideBar": true,
   "skip_h1_title": true,
   "title_cell": "Table of Contents",
   "title_sidebar": "Contents",
   "toc_cell": false,
   "toc_position": {
    "height": "calc(100% - 180px)",
    "left": "10px",
    "top": "150px",
    "width": "359.594px"
   },
   "toc_section_display": true,
   "toc_window_display": false
  }
 },
 "nbformat": 4,
 "nbformat_minor": 2
}
